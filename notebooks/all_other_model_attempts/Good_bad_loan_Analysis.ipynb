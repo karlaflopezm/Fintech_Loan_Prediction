{
 "cells": [
  {
   "cell_type": "code",
   "execution_count": 2,
   "id": "c2d1f164",
   "metadata": {
    "colab": {
     "base_uri": "https://localhost:8080/"
    },
    "executionInfo": {
     "elapsed": 487,
     "status": "ok",
     "timestamp": 1744896998866,
     "user": {
      "displayName": "Seyhr Waqas",
      "userId": "14453900050839945906"
     },
     "user_tz": 240
    },
    "id": "c2d1f164",
    "outputId": "b0bab29f-fd54-4f55-d741-71b0abfb629f"
   },
   "outputs": [],
   "source": [
    "#! pip install psycopg2-binary\n",
    "# Import dependencies\n",
    "import pandas as pd # Data manipulation\n",
    "import numpy as np\n",
    "from sklearn.model_selection import train_test_split\n",
    "from sklearn.impute import SimpleImputer\n",
    "from sklearn.preprocessing import StandardScaler\n",
    "from sklearn.metrics import classification_report\n",
    "from imblearn.over_sampling import SMOTE\n",
    "from sklearn.utils.class_weight import compute_class_weight\n",
    "from sklearn.metrics import classification_report, confusion_matrix, ConfusionMatrixDisplay\n",
    "from tensorflow.keras.models import Sequential, load_model\n",
    "from tensorflow.keras.layers import Dense, Dropout, BatchNormalization\n",
    "from tensorflow.keras.callbacks import EarlyStopping\n",
    "import matplotlib.pyplot as plt\n",
    "import seaborn as sns\n",
    "import joblib\n",
    "import xgboost as xgb\n",
    "import psycopg2\n",
    "import json\n",
    "from sqlalchemy import create_engine\n"
   ]
  },
  {
   "cell_type": "code",
   "execution_count": 3,
   "id": "HRINWfeL6O-E",
   "metadata": {
    "executionInfo": {
     "elapsed": 213,
     "status": "ok",
     "timestamp": 1744896834475,
     "user": {
      "displayName": "Seyhr Waqas",
      "userId": "14453900050839945906"
     },
     "user_tz": 240
    },
    "id": "HRINWfeL6O-E"
   },
   "outputs": [],
   "source": [
    "# Load credentials\n",
    "with open(\"../../db_config.json\") as f:\n",
    "    config = json.load(f)"
   ]
  },
  {
   "cell_type": "code",
   "execution_count": 4,
   "id": "3OoP4f6u7N_g",
   "metadata": {
    "executionInfo": {
     "elapsed": 456,
     "status": "ok",
     "timestamp": 1744897053307,
     "user": {
      "displayName": "Seyhr Waqas",
      "userId": "14453900050839945906"
     },
     "user_tz": 240
    },
    "id": "3OoP4f6u7N_g"
   },
   "outputs": [],
   "source": [
    "# Connect to PostgreSQL\n",
    "conn = psycopg2.connect(\n",
    "    host=config[\"host\"],\n",
    "    port=config[\"port\"],\n",
    "    database=config[\"database\"],\n",
    "    user=config[\"user\"],\n",
    "    password=config[\"password\"]\n",
    ")\n",
    "\n",
    "# Create SQLAlchemy engine\n",
    "engine = create_engine(f\"postgresql+psycopg2://{config['user']}:{config['password']}@{config['host']}:{config['port']}/{config['database']}\")\n"
   ]
  },
  {
   "cell_type": "code",
   "execution_count": 45,
   "id": "otWpNwzX9-Qv",
   "metadata": {
    "colab": {
     "base_uri": "https://localhost:8080/",
     "height": 206
    },
    "executionInfo": {
     "elapsed": 11654,
     "status": "ok",
     "timestamp": 1744897106546,
     "user": {
      "displayName": "Seyhr Waqas",
      "userId": "14453900050839945906"
     },
     "user_tz": 240
    },
    "id": "otWpNwzX9-Qv",
    "outputId": "eabe0505-78c3-4969-97ad-001ba18abd81"
   },
   "outputs": [
    {
     "data": {
      "application/vnd.microsoft.datawrangler.viewer.v0+json": {
       "columns": [
        {
         "name": "index",
         "rawType": "int64",
         "type": "integer"
        },
        {
         "name": "member_id",
         "rawType": "int64",
         "type": "integer"
        },
        {
         "name": "home_ownership",
         "rawType": "object",
         "type": "string"
        },
        {
         "name": "merged_annual_inc",
         "rawType": "float64",
         "type": "float"
        },
        {
         "name": "merged_dti",
         "rawType": "float64",
         "type": "float"
        },
        {
         "name": "emp_length_grouped",
         "rawType": "object",
         "type": "string"
        },
        {
         "name": "clean_verification_status",
         "rawType": "object",
         "type": "string"
        },
        {
         "name": "merged_purpose",
         "rawType": "object",
         "type": "string"
        }
       ],
       "conversionMethod": "pd.DataFrame",
       "ref": "58ac2526-3742-4d47-8b6c-8524f45942d9",
       "rows": [
        [
         "0",
         "1",
         "RENT",
         "55000.0",
         "18.24",
         "10+ years",
         "Not Verified",
         "Debt-related"
        ],
        [
         "1",
         "3",
         "MORTGAGE",
         "59280.0",
         "10.51",
         "4-6 years",
         "Verified",
         "Debt-related"
        ],
        [
         "2",
         "5",
         "MORTGAGE",
         "57250.0",
         "26.35",
         "10+ years",
         "Not Verified",
         "Debt-related"
        ],
        [
         "3",
         "6",
         "MORTGAGE",
         "152500.0",
         "37.94",
         "10+ years",
         "Not Verified",
         "Debt-related"
        ],
        [
         "4",
         "9",
         "MORTGAGE",
         "53580.0",
         "21.16",
         "10+ years",
         "Verified",
         "Debt-related"
        ]
       ],
       "shape": {
        "columns": 7,
        "rows": 5
       }
      },
      "text/html": [
       "<div>\n",
       "<style scoped>\n",
       "    .dataframe tbody tr th:only-of-type {\n",
       "        vertical-align: middle;\n",
       "    }\n",
       "\n",
       "    .dataframe tbody tr th {\n",
       "        vertical-align: top;\n",
       "    }\n",
       "\n",
       "    .dataframe thead th {\n",
       "        text-align: right;\n",
       "    }\n",
       "</style>\n",
       "<table border=\"1\" class=\"dataframe\">\n",
       "  <thead>\n",
       "    <tr style=\"text-align: right;\">\n",
       "      <th></th>\n",
       "      <th>member_id</th>\n",
       "      <th>home_ownership</th>\n",
       "      <th>merged_annual_inc</th>\n",
       "      <th>merged_dti</th>\n",
       "      <th>emp_length_grouped</th>\n",
       "      <th>clean_verification_status</th>\n",
       "      <th>merged_purpose</th>\n",
       "    </tr>\n",
       "  </thead>\n",
       "  <tbody>\n",
       "    <tr>\n",
       "      <th>0</th>\n",
       "      <td>1</td>\n",
       "      <td>RENT</td>\n",
       "      <td>55000.0</td>\n",
       "      <td>18.24</td>\n",
       "      <td>10+ years</td>\n",
       "      <td>Not Verified</td>\n",
       "      <td>Debt-related</td>\n",
       "    </tr>\n",
       "    <tr>\n",
       "      <th>1</th>\n",
       "      <td>3</td>\n",
       "      <td>MORTGAGE</td>\n",
       "      <td>59280.0</td>\n",
       "      <td>10.51</td>\n",
       "      <td>4-6 years</td>\n",
       "      <td>Verified</td>\n",
       "      <td>Debt-related</td>\n",
       "    </tr>\n",
       "    <tr>\n",
       "      <th>2</th>\n",
       "      <td>5</td>\n",
       "      <td>MORTGAGE</td>\n",
       "      <td>57250.0</td>\n",
       "      <td>26.35</td>\n",
       "      <td>10+ years</td>\n",
       "      <td>Not Verified</td>\n",
       "      <td>Debt-related</td>\n",
       "    </tr>\n",
       "    <tr>\n",
       "      <th>3</th>\n",
       "      <td>6</td>\n",
       "      <td>MORTGAGE</td>\n",
       "      <td>152500.0</td>\n",
       "      <td>37.94</td>\n",
       "      <td>10+ years</td>\n",
       "      <td>Not Verified</td>\n",
       "      <td>Debt-related</td>\n",
       "    </tr>\n",
       "    <tr>\n",
       "      <th>4</th>\n",
       "      <td>9</td>\n",
       "      <td>MORTGAGE</td>\n",
       "      <td>53580.0</td>\n",
       "      <td>21.16</td>\n",
       "      <td>10+ years</td>\n",
       "      <td>Verified</td>\n",
       "      <td>Debt-related</td>\n",
       "    </tr>\n",
       "  </tbody>\n",
       "</table>\n",
       "</div>"
      ],
      "text/plain": [
       "   member_id home_ownership  merged_annual_inc  merged_dti emp_length_grouped  \\\n",
       "0          1           RENT            55000.0       18.24          10+ years   \n",
       "1          3       MORTGAGE            59280.0       10.51          4-6 years   \n",
       "2          5       MORTGAGE            57250.0       26.35          10+ years   \n",
       "3          6       MORTGAGE           152500.0       37.94          10+ years   \n",
       "4          9       MORTGAGE            53580.0       21.16          10+ years   \n",
       "\n",
       "  clean_verification_status merged_purpose  \n",
       "0              Not Verified   Debt-related  \n",
       "1                  Verified   Debt-related  \n",
       "2              Not Verified   Debt-related  \n",
       "3              Not Verified   Debt-related  \n",
       "4                  Verified   Debt-related  "
      ]
     },
     "execution_count": 45,
     "metadata": {},
     "output_type": "execute_result"
    }
   ],
   "source": [
    "df_borrower = pd.read_sql(\"SELECT * FROM borrower_info;\", engine)\n",
    "df_borrower.head()"
   ]
  },
  {
   "cell_type": "code",
   "execution_count": 46,
   "id": "ANyp8F90_ePL",
   "metadata": {
    "colab": {
     "base_uri": "https://localhost:8080/",
     "height": 206
    },
    "executionInfo": {
     "elapsed": 13148,
     "status": "ok",
     "timestamp": 1744897458491,
     "user": {
      "displayName": "Seyhr Waqas",
      "userId": "14453900050839945906"
     },
     "user_tz": 240
    },
    "id": "ANyp8F90_ePL",
    "outputId": "dac5c894-e648-472f-f04b-6b18d695e0c4"
   },
   "outputs": [
    {
     "data": {
      "application/vnd.microsoft.datawrangler.viewer.v0+json": {
       "columns": [
        {
         "name": "index",
         "rawType": "int64",
         "type": "integer"
        },
        {
         "name": "loan_id",
         "rawType": "object",
         "type": "string"
        },
        {
         "name": "member_id",
         "rawType": "int64",
         "type": "integer"
        },
        {
         "name": "funded_amnt",
         "rawType": "int64",
         "type": "integer"
        },
        {
         "name": "term",
         "rawType": "object",
         "type": "string"
        },
        {
         "name": "int_rate",
         "rawType": "float64",
         "type": "float"
        },
        {
         "name": "grade",
         "rawType": "object",
         "type": "string"
        },
        {
         "name": "loan_status",
         "rawType": "object",
         "type": "string"
        }
       ],
       "conversionMethod": "pd.DataFrame",
       "ref": "b03ca49e-fa25-4851-9ff4-d55deac57d8d",
       "rows": [
        [
         "0",
         "loan1",
         "1",
         "2500",
         " 36 months",
         "13.56",
         "C",
         "Current"
        ],
        [
         "1",
         "loan2",
         "2",
         "30000",
         " 60 months",
         "18.94",
         "D",
         "Current"
        ],
        [
         "2",
         "loan3",
         "3",
         "5000",
         " 36 months",
         "17.97",
         "D",
         "Current"
        ],
        [
         "3",
         "loan4",
         "4",
         "4000",
         " 36 months",
         "18.94",
         "D",
         "Current"
        ],
        [
         "4",
         "loan5",
         "5",
         "30000",
         " 60 months",
         "16.14",
         "C",
         "Current"
        ]
       ],
       "shape": {
        "columns": 7,
        "rows": 5
       }
      },
      "text/html": [
       "<div>\n",
       "<style scoped>\n",
       "    .dataframe tbody tr th:only-of-type {\n",
       "        vertical-align: middle;\n",
       "    }\n",
       "\n",
       "    .dataframe tbody tr th {\n",
       "        vertical-align: top;\n",
       "    }\n",
       "\n",
       "    .dataframe thead th {\n",
       "        text-align: right;\n",
       "    }\n",
       "</style>\n",
       "<table border=\"1\" class=\"dataframe\">\n",
       "  <thead>\n",
       "    <tr style=\"text-align: right;\">\n",
       "      <th></th>\n",
       "      <th>loan_id</th>\n",
       "      <th>member_id</th>\n",
       "      <th>funded_amnt</th>\n",
       "      <th>term</th>\n",
       "      <th>int_rate</th>\n",
       "      <th>grade</th>\n",
       "      <th>loan_status</th>\n",
       "    </tr>\n",
       "  </thead>\n",
       "  <tbody>\n",
       "    <tr>\n",
       "      <th>0</th>\n",
       "      <td>loan1</td>\n",
       "      <td>1</td>\n",
       "      <td>2500</td>\n",
       "      <td>36 months</td>\n",
       "      <td>13.56</td>\n",
       "      <td>C</td>\n",
       "      <td>Current</td>\n",
       "    </tr>\n",
       "    <tr>\n",
       "      <th>1</th>\n",
       "      <td>loan2</td>\n",
       "      <td>2</td>\n",
       "      <td>30000</td>\n",
       "      <td>60 months</td>\n",
       "      <td>18.94</td>\n",
       "      <td>D</td>\n",
       "      <td>Current</td>\n",
       "    </tr>\n",
       "    <tr>\n",
       "      <th>2</th>\n",
       "      <td>loan3</td>\n",
       "      <td>3</td>\n",
       "      <td>5000</td>\n",
       "      <td>36 months</td>\n",
       "      <td>17.97</td>\n",
       "      <td>D</td>\n",
       "      <td>Current</td>\n",
       "    </tr>\n",
       "    <tr>\n",
       "      <th>3</th>\n",
       "      <td>loan4</td>\n",
       "      <td>4</td>\n",
       "      <td>4000</td>\n",
       "      <td>36 months</td>\n",
       "      <td>18.94</td>\n",
       "      <td>D</td>\n",
       "      <td>Current</td>\n",
       "    </tr>\n",
       "    <tr>\n",
       "      <th>4</th>\n",
       "      <td>loan5</td>\n",
       "      <td>5</td>\n",
       "      <td>30000</td>\n",
       "      <td>60 months</td>\n",
       "      <td>16.14</td>\n",
       "      <td>C</td>\n",
       "      <td>Current</td>\n",
       "    </tr>\n",
       "  </tbody>\n",
       "</table>\n",
       "</div>"
      ],
      "text/plain": [
       "  loan_id  member_id  funded_amnt        term  int_rate grade loan_status\n",
       "0   loan1          1         2500   36 months     13.56     C     Current\n",
       "1   loan2          2        30000   60 months     18.94     D     Current\n",
       "2   loan3          3         5000   36 months     17.97     D     Current\n",
       "3   loan4          4         4000   36 months     18.94     D     Current\n",
       "4   loan5          5        30000   60 months     16.14     C     Current"
      ]
     },
     "execution_count": 46,
     "metadata": {},
     "output_type": "execute_result"
    }
   ],
   "source": [
    "df_loan = pd.read_sql(\"SELECT * FROM loan_info;\", engine)\n",
    "df_loan.head()"
   ]
  },
  {
   "cell_type": "code",
   "execution_count": 47,
   "id": "kpQ-UCp3_mym",
   "metadata": {
    "colab": {
     "base_uri": "https://localhost:8080/",
     "height": 206
    },
    "executionInfo": {
     "elapsed": 10751,
     "status": "ok",
     "timestamp": 1744897532889,
     "user": {
      "displayName": "Seyhr Waqas",
      "userId": "14453900050839945906"
     },
     "user_tz": 240
    },
    "id": "kpQ-UCp3_mym",
    "outputId": "2a36bb2f-d4c9-407e-e4bd-a654df445878"
   },
   "outputs": [
    {
     "data": {
      "application/vnd.microsoft.datawrangler.viewer.v0+json": {
       "columns": [
        {
         "name": "index",
         "rawType": "int64",
         "type": "integer"
        },
        {
         "name": "loan_id",
         "rawType": "object",
         "type": "string"
        },
        {
         "name": "all_util",
         "rawType": "float64",
         "type": "float"
        },
        {
         "name": "avg_cur_bal",
         "rawType": "float64",
         "type": "float"
        },
        {
         "name": "tot_hi_cred_lim",
         "rawType": "float64",
         "type": "float"
        },
        {
         "name": "total_acc",
         "rawType": "float64",
         "type": "float"
        },
        {
         "name": "total_bal_ex_mort",
         "rawType": "float64",
         "type": "float"
        },
        {
         "name": "total_bc_limit",
         "rawType": "float64",
         "type": "float"
        }
       ],
       "conversionMethod": "pd.DataFrame",
       "ref": "50c0a06c-2b4b-4fff-85e7-63610dc53162",
       "rows": [
        [
         "0",
         "loan1",
         "28.0",
         "1878.0",
         "60124.0",
         "34.0",
         "16901.0",
         "36500.0"
        ],
        [
         "1",
         "loan2",
         "57.0",
         "24763.0",
         "372872.0",
         "44.0",
         "99468.0",
         "15000.0"
        ],
        [
         "2",
         "loan3",
         "35.0",
         "18383.0",
         "136927.0",
         "13.0",
         "11749.0",
         "13800.0"
        ],
        [
         "3",
         "loan4",
         "70.0",
         "30505.0",
         "385183.0",
         "13.0",
         "36151.0",
         "5000.0"
        ],
        [
         "4",
         "loan5",
         "54.0",
         "9667.0",
         "157548.0",
         "26.0",
         "29674.0",
         "9300.0"
        ]
       ],
       "shape": {
        "columns": 7,
        "rows": 5
       }
      },
      "text/html": [
       "<div>\n",
       "<style scoped>\n",
       "    .dataframe tbody tr th:only-of-type {\n",
       "        vertical-align: middle;\n",
       "    }\n",
       "\n",
       "    .dataframe tbody tr th {\n",
       "        vertical-align: top;\n",
       "    }\n",
       "\n",
       "    .dataframe thead th {\n",
       "        text-align: right;\n",
       "    }\n",
       "</style>\n",
       "<table border=\"1\" class=\"dataframe\">\n",
       "  <thead>\n",
       "    <tr style=\"text-align: right;\">\n",
       "      <th></th>\n",
       "      <th>loan_id</th>\n",
       "      <th>all_util</th>\n",
       "      <th>avg_cur_bal</th>\n",
       "      <th>tot_hi_cred_lim</th>\n",
       "      <th>total_acc</th>\n",
       "      <th>total_bal_ex_mort</th>\n",
       "      <th>total_bc_limit</th>\n",
       "    </tr>\n",
       "  </thead>\n",
       "  <tbody>\n",
       "    <tr>\n",
       "      <th>0</th>\n",
       "      <td>loan1</td>\n",
       "      <td>28.0</td>\n",
       "      <td>1878.0</td>\n",
       "      <td>60124.0</td>\n",
       "      <td>34.0</td>\n",
       "      <td>16901.0</td>\n",
       "      <td>36500.0</td>\n",
       "    </tr>\n",
       "    <tr>\n",
       "      <th>1</th>\n",
       "      <td>loan2</td>\n",
       "      <td>57.0</td>\n",
       "      <td>24763.0</td>\n",
       "      <td>372872.0</td>\n",
       "      <td>44.0</td>\n",
       "      <td>99468.0</td>\n",
       "      <td>15000.0</td>\n",
       "    </tr>\n",
       "    <tr>\n",
       "      <th>2</th>\n",
       "      <td>loan3</td>\n",
       "      <td>35.0</td>\n",
       "      <td>18383.0</td>\n",
       "      <td>136927.0</td>\n",
       "      <td>13.0</td>\n",
       "      <td>11749.0</td>\n",
       "      <td>13800.0</td>\n",
       "    </tr>\n",
       "    <tr>\n",
       "      <th>3</th>\n",
       "      <td>loan4</td>\n",
       "      <td>70.0</td>\n",
       "      <td>30505.0</td>\n",
       "      <td>385183.0</td>\n",
       "      <td>13.0</td>\n",
       "      <td>36151.0</td>\n",
       "      <td>5000.0</td>\n",
       "    </tr>\n",
       "    <tr>\n",
       "      <th>4</th>\n",
       "      <td>loan5</td>\n",
       "      <td>54.0</td>\n",
       "      <td>9667.0</td>\n",
       "      <td>157548.0</td>\n",
       "      <td>26.0</td>\n",
       "      <td>29674.0</td>\n",
       "      <td>9300.0</td>\n",
       "    </tr>\n",
       "  </tbody>\n",
       "</table>\n",
       "</div>"
      ],
      "text/plain": [
       "  loan_id  all_util  avg_cur_bal  tot_hi_cred_lim  total_acc  \\\n",
       "0   loan1      28.0       1878.0          60124.0       34.0   \n",
       "1   loan2      57.0      24763.0         372872.0       44.0   \n",
       "2   loan3      35.0      18383.0         136927.0       13.0   \n",
       "3   loan4      70.0      30505.0         385183.0       13.0   \n",
       "4   loan5      54.0       9667.0         157548.0       26.0   \n",
       "\n",
       "   total_bal_ex_mort  total_bc_limit  \n",
       "0            16901.0         36500.0  \n",
       "1            99468.0         15000.0  \n",
       "2            11749.0         13800.0  \n",
       "3            36151.0          5000.0  \n",
       "4            29674.0          9300.0  "
      ]
     },
     "execution_count": 47,
     "metadata": {},
     "output_type": "execute_result"
    }
   ],
   "source": [
    "df_credit_history = pd.read_sql(\"SELECT * FROM credit_history;\", engine)\n",
    "df_credit_history.head()"
   ]
  },
  {
   "cell_type": "code",
   "execution_count": 48,
   "id": "AlAvpIVJAxrt",
   "metadata": {
    "colab": {
     "base_uri": "https://localhost:8080/",
     "height": 226
    },
    "executionInfo": {
     "elapsed": 12666,
     "status": "ok",
     "timestamp": 1744897815694,
     "user": {
      "displayName": "Seyhr Waqas",
      "userId": "14453900050839945906"
     },
     "user_tz": 240
    },
    "id": "AlAvpIVJAxrt",
    "outputId": "78e1568f-3ed7-4ef8-ba39-b0f91c02e429"
   },
   "outputs": [
    {
     "data": {
      "application/vnd.microsoft.datawrangler.viewer.v0+json": {
       "columns": [
        {
         "name": "index",
         "rawType": "int64",
         "type": "integer"
        },
        {
         "name": "loan_id",
         "rawType": "object",
         "type": "string"
        },
        {
         "name": "delinq_amnt",
         "rawType": "float64",
         "type": "float"
        },
        {
         "name": "delinq_bucket",
         "rawType": "object",
         "type": "string"
        },
        {
         "name": "acc_now_delinq_bucketed",
         "rawType": "object",
         "type": "string"
        },
        {
         "name": "delinq_2yrs_bucketed",
         "rawType": "int64",
         "type": "integer"
        },
        {
         "name": "accounts_90d_past_due_24m",
         "rawType": "int64",
         "type": "integer"
        },
        {
         "name": "total_chargeoffs_within_12_mths",
         "rawType": "int64",
         "type": "integer"
        },
        {
         "name": "pub_rec_bankruptcies_bucketed",
         "rawType": "int64",
         "type": "integer"
        },
        {
         "name": "percent_bc_gt_75_bucketed",
         "rawType": "object",
         "type": "string"
        },
        {
         "name": "pct_tl_nvr_dlq_bucketed",
         "rawType": "object",
         "type": "string"
        },
        {
         "name": "open_acc_bucketed",
         "rawType": "object",
         "type": "string"
        }
       ],
       "conversionMethod": "pd.DataFrame",
       "ref": "c1e9efcd-9e9d-4059-a69d-578ab2fe81b4",
       "rows": [
        [
         "0",
         "loan1",
         "0.0",
         "Unknown",
         "No Delinquencies",
         "0",
         "0",
         "0",
         "1",
         "0",
         "100.0",
         "6-10"
        ],
        [
         "1",
         "loan2",
         "0.0",
         "Unknown",
         "No Delinquencies",
         "0",
         "0",
         "0",
         "0",
         "50.1-75%",
         "100.0",
         "6-10"
        ],
        [
         "2",
         "loan3",
         "0.0",
         "61+ months",
         "No Delinquencies",
         "0",
         "0",
         "0",
         "1",
         "0",
         "90-99.9",
         "11-15"
        ],
        [
         "3",
         "loan4",
         "0.0",
         "Unknown",
         "No Delinquencies",
         "0",
         "0",
         "0",
         "0",
         "0",
         "100.0",
         "11-15"
        ],
        [
         "4",
         "loan5",
         "0.0",
         "Unknown",
         "No Delinquencies",
         "0",
         "0",
         "0",
         "0",
         "0",
         "100.0",
         "6-10"
        ]
       ],
       "shape": {
        "columns": 11,
        "rows": 5
       }
      },
      "text/html": [
       "<div>\n",
       "<style scoped>\n",
       "    .dataframe tbody tr th:only-of-type {\n",
       "        vertical-align: middle;\n",
       "    }\n",
       "\n",
       "    .dataframe tbody tr th {\n",
       "        vertical-align: top;\n",
       "    }\n",
       "\n",
       "    .dataframe thead th {\n",
       "        text-align: right;\n",
       "    }\n",
       "</style>\n",
       "<table border=\"1\" class=\"dataframe\">\n",
       "  <thead>\n",
       "    <tr style=\"text-align: right;\">\n",
       "      <th></th>\n",
       "      <th>loan_id</th>\n",
       "      <th>delinq_amnt</th>\n",
       "      <th>delinq_bucket</th>\n",
       "      <th>acc_now_delinq_bucketed</th>\n",
       "      <th>delinq_2yrs_bucketed</th>\n",
       "      <th>accounts_90d_past_due_24m</th>\n",
       "      <th>total_chargeoffs_within_12_mths</th>\n",
       "      <th>pub_rec_bankruptcies_bucketed</th>\n",
       "      <th>percent_bc_gt_75_bucketed</th>\n",
       "      <th>pct_tl_nvr_dlq_bucketed</th>\n",
       "      <th>open_acc_bucketed</th>\n",
       "    </tr>\n",
       "  </thead>\n",
       "  <tbody>\n",
       "    <tr>\n",
       "      <th>0</th>\n",
       "      <td>loan1</td>\n",
       "      <td>0.0</td>\n",
       "      <td>Unknown</td>\n",
       "      <td>No Delinquencies</td>\n",
       "      <td>0</td>\n",
       "      <td>0</td>\n",
       "      <td>0</td>\n",
       "      <td>1</td>\n",
       "      <td>0</td>\n",
       "      <td>100.0</td>\n",
       "      <td>6-10</td>\n",
       "    </tr>\n",
       "    <tr>\n",
       "      <th>1</th>\n",
       "      <td>loan2</td>\n",
       "      <td>0.0</td>\n",
       "      <td>Unknown</td>\n",
       "      <td>No Delinquencies</td>\n",
       "      <td>0</td>\n",
       "      <td>0</td>\n",
       "      <td>0</td>\n",
       "      <td>0</td>\n",
       "      <td>50.1-75%</td>\n",
       "      <td>100.0</td>\n",
       "      <td>6-10</td>\n",
       "    </tr>\n",
       "    <tr>\n",
       "      <th>2</th>\n",
       "      <td>loan3</td>\n",
       "      <td>0.0</td>\n",
       "      <td>61+ months</td>\n",
       "      <td>No Delinquencies</td>\n",
       "      <td>0</td>\n",
       "      <td>0</td>\n",
       "      <td>0</td>\n",
       "      <td>1</td>\n",
       "      <td>0</td>\n",
       "      <td>90-99.9</td>\n",
       "      <td>11-15</td>\n",
       "    </tr>\n",
       "    <tr>\n",
       "      <th>3</th>\n",
       "      <td>loan4</td>\n",
       "      <td>0.0</td>\n",
       "      <td>Unknown</td>\n",
       "      <td>No Delinquencies</td>\n",
       "      <td>0</td>\n",
       "      <td>0</td>\n",
       "      <td>0</td>\n",
       "      <td>0</td>\n",
       "      <td>0</td>\n",
       "      <td>100.0</td>\n",
       "      <td>11-15</td>\n",
       "    </tr>\n",
       "    <tr>\n",
       "      <th>4</th>\n",
       "      <td>loan5</td>\n",
       "      <td>0.0</td>\n",
       "      <td>Unknown</td>\n",
       "      <td>No Delinquencies</td>\n",
       "      <td>0</td>\n",
       "      <td>0</td>\n",
       "      <td>0</td>\n",
       "      <td>0</td>\n",
       "      <td>0</td>\n",
       "      <td>100.0</td>\n",
       "      <td>6-10</td>\n",
       "    </tr>\n",
       "  </tbody>\n",
       "</table>\n",
       "</div>"
      ],
      "text/plain": [
       "  loan_id  delinq_amnt delinq_bucket acc_now_delinq_bucketed  \\\n",
       "0   loan1          0.0       Unknown        No Delinquencies   \n",
       "1   loan2          0.0       Unknown        No Delinquencies   \n",
       "2   loan3          0.0    61+ months        No Delinquencies   \n",
       "3   loan4          0.0       Unknown        No Delinquencies   \n",
       "4   loan5          0.0       Unknown        No Delinquencies   \n",
       "\n",
       "   delinq_2yrs_bucketed  accounts_90d_past_due_24m  \\\n",
       "0                     0                          0   \n",
       "1                     0                          0   \n",
       "2                     0                          0   \n",
       "3                     0                          0   \n",
       "4                     0                          0   \n",
       "\n",
       "   total_chargeoffs_within_12_mths  pub_rec_bankruptcies_bucketed  \\\n",
       "0                                0                              1   \n",
       "1                                0                              0   \n",
       "2                                0                              1   \n",
       "3                                0                              0   \n",
       "4                                0                              0   \n",
       "\n",
       "  percent_bc_gt_75_bucketed pct_tl_nvr_dlq_bucketed open_acc_bucketed  \n",
       "0                         0                   100.0              6-10  \n",
       "1                  50.1-75%                   100.0              6-10  \n",
       "2                         0                 90-99.9             11-15  \n",
       "3                         0                   100.0             11-15  \n",
       "4                         0                   100.0              6-10  "
      ]
     },
     "execution_count": 48,
     "metadata": {},
     "output_type": "execute_result"
    }
   ],
   "source": [
    "df_delinquency = pd.read_sql(\"SELECT * FROM delinquency_info;\", engine)\n",
    "df_delinquency.head()"
   ]
  },
  {
   "cell_type": "code",
   "execution_count": 49,
   "id": "Us_rXcHECFV0",
   "metadata": {
    "colab": {
     "base_uri": "https://localhost:8080/",
     "height": 342
    },
    "executionInfo": {
     "elapsed": 12498,
     "status": "ok",
     "timestamp": 1744898396322,
     "user": {
      "displayName": "Seyhr Waqas",
      "userId": "14453900050839945906"
     },
     "user_tz": 240
    },
    "id": "Us_rXcHECFV0",
    "outputId": "1d6dce1b-77da-47eb-923a-d27ec2418ea7"
   },
   "outputs": [
    {
     "data": {
      "application/vnd.microsoft.datawrangler.viewer.v0+json": {
       "columns": [
        {
         "name": "index",
         "rawType": "int64",
         "type": "integer"
        },
        {
         "name": "loan_id",
         "rawType": "object",
         "type": "string"
        },
        {
         "name": "member_id",
         "rawType": "int64",
         "type": "integer"
        },
        {
         "name": "funded_amnt",
         "rawType": "int64",
         "type": "integer"
        },
        {
         "name": "term",
         "rawType": "object",
         "type": "string"
        },
        {
         "name": "int_rate",
         "rawType": "float64",
         "type": "float"
        },
        {
         "name": "grade",
         "rawType": "object",
         "type": "string"
        },
        {
         "name": "loan_status",
         "rawType": "object",
         "type": "string"
        },
        {
         "name": "home_ownership",
         "rawType": "object",
         "type": "string"
        },
        {
         "name": "merged_annual_inc",
         "rawType": "float64",
         "type": "float"
        },
        {
         "name": "merged_dti",
         "rawType": "float64",
         "type": "float"
        },
        {
         "name": "emp_length_grouped",
         "rawType": "object",
         "type": "string"
        },
        {
         "name": "clean_verification_status",
         "rawType": "object",
         "type": "string"
        },
        {
         "name": "merged_purpose",
         "rawType": "object",
         "type": "string"
        },
        {
         "name": "all_util",
         "rawType": "float64",
         "type": "float"
        },
        {
         "name": "avg_cur_bal",
         "rawType": "float64",
         "type": "float"
        },
        {
         "name": "tot_hi_cred_lim",
         "rawType": "float64",
         "type": "float"
        },
        {
         "name": "total_acc",
         "rawType": "float64",
         "type": "float"
        },
        {
         "name": "total_bal_ex_mort",
         "rawType": "float64",
         "type": "float"
        },
        {
         "name": "total_bc_limit",
         "rawType": "float64",
         "type": "float"
        },
        {
         "name": "delinq_amnt",
         "rawType": "float64",
         "type": "float"
        },
        {
         "name": "delinq_bucket",
         "rawType": "object",
         "type": "string"
        },
        {
         "name": "acc_now_delinq_bucketed",
         "rawType": "object",
         "type": "string"
        },
        {
         "name": "delinq_2yrs_bucketed",
         "rawType": "int64",
         "type": "integer"
        },
        {
         "name": "accounts_90d_past_due_24m",
         "rawType": "int64",
         "type": "integer"
        },
        {
         "name": "total_chargeoffs_within_12_mths",
         "rawType": "int64",
         "type": "integer"
        },
        {
         "name": "pub_rec_bankruptcies_bucketed",
         "rawType": "int64",
         "type": "integer"
        },
        {
         "name": "percent_bc_gt_75_bucketed",
         "rawType": "object",
         "type": "string"
        },
        {
         "name": "pct_tl_nvr_dlq_bucketed",
         "rawType": "object",
         "type": "string"
        },
        {
         "name": "open_acc_bucketed",
         "rawType": "object",
         "type": "string"
        }
       ],
       "conversionMethod": "pd.DataFrame",
       "ref": "066e0421-41a4-48f8-954b-67420d8a869a",
       "rows": [
        [
         "0",
         "loan1",
         "1",
         "2500",
         " 36 months",
         "13.56",
         "C",
         "Current",
         "RENT",
         "55000.0",
         "18.24",
         "10+ years",
         "Not Verified",
         "Debt-related",
         "28.0",
         "1878.0",
         "60124.0",
         "34.0",
         "16901.0",
         "36500.0",
         "0.0",
         "Unknown",
         "No Delinquencies",
         "0",
         "0",
         "0",
         "1",
         "0",
         "100.0",
         "6-10"
        ],
        [
         "1",
         "loan2",
         "2",
         "30000",
         " 60 months",
         "18.94",
         "D",
         "Current",
         "MORTGAGE",
         "90000.0",
         "26.52",
         "10+ years",
         "Verified",
         "Debt-related",
         "57.0",
         "24763.0",
         "372872.0",
         "44.0",
         "99468.0",
         "15000.0",
         "0.0",
         "Unknown",
         "No Delinquencies",
         "0",
         "0",
         "0",
         "0",
         "50.1-75%",
         "100.0",
         "6-10"
        ],
        [
         "2",
         "loan3",
         "3",
         "5000",
         " 36 months",
         "17.97",
         "D",
         "Current",
         "MORTGAGE",
         "59280.0",
         "10.51",
         "4-6 years",
         "Verified",
         "Debt-related",
         "35.0",
         "18383.0",
         "136927.0",
         "13.0",
         "11749.0",
         "13800.0",
         "0.0",
         "61+ months",
         "No Delinquencies",
         "0",
         "0",
         "0",
         "1",
         "0",
         "90-99.9",
         "11-15"
        ],
        [
         "3",
         "loan4",
         "4",
         "4000",
         " 36 months",
         "18.94",
         "D",
         "Current",
         "MORTGAGE",
         "92000.0",
         "16.74",
         "10+ years",
         "Verified",
         "Debt-related",
         "70.0",
         "30505.0",
         "385183.0",
         "13.0",
         "36151.0",
         "5000.0",
         "0.0",
         "Unknown",
         "No Delinquencies",
         "0",
         "0",
         "0",
         "0",
         "0",
         "100.0",
         "11-15"
        ],
        [
         "4",
         "loan5",
         "5",
         "30000",
         " 60 months",
         "16.14",
         "C",
         "Current",
         "MORTGAGE",
         "57250.0",
         "26.35",
         "10+ years",
         "Not Verified",
         "Debt-related",
         "54.0",
         "9667.0",
         "157548.0",
         "26.0",
         "29674.0",
         "9300.0",
         "0.0",
         "Unknown",
         "No Delinquencies",
         "0",
         "0",
         "0",
         "0",
         "0",
         "100.0",
         "6-10"
        ]
       ],
       "shape": {
        "columns": 29,
        "rows": 5
       }
      },
      "text/html": [
       "<div>\n",
       "<style scoped>\n",
       "    .dataframe tbody tr th:only-of-type {\n",
       "        vertical-align: middle;\n",
       "    }\n",
       "\n",
       "    .dataframe tbody tr th {\n",
       "        vertical-align: top;\n",
       "    }\n",
       "\n",
       "    .dataframe thead th {\n",
       "        text-align: right;\n",
       "    }\n",
       "</style>\n",
       "<table border=\"1\" class=\"dataframe\">\n",
       "  <thead>\n",
       "    <tr style=\"text-align: right;\">\n",
       "      <th></th>\n",
       "      <th>loan_id</th>\n",
       "      <th>member_id</th>\n",
       "      <th>funded_amnt</th>\n",
       "      <th>term</th>\n",
       "      <th>int_rate</th>\n",
       "      <th>grade</th>\n",
       "      <th>loan_status</th>\n",
       "      <th>home_ownership</th>\n",
       "      <th>merged_annual_inc</th>\n",
       "      <th>merged_dti</th>\n",
       "      <th>...</th>\n",
       "      <th>delinq_amnt</th>\n",
       "      <th>delinq_bucket</th>\n",
       "      <th>acc_now_delinq_bucketed</th>\n",
       "      <th>delinq_2yrs_bucketed</th>\n",
       "      <th>accounts_90d_past_due_24m</th>\n",
       "      <th>total_chargeoffs_within_12_mths</th>\n",
       "      <th>pub_rec_bankruptcies_bucketed</th>\n",
       "      <th>percent_bc_gt_75_bucketed</th>\n",
       "      <th>pct_tl_nvr_dlq_bucketed</th>\n",
       "      <th>open_acc_bucketed</th>\n",
       "    </tr>\n",
       "  </thead>\n",
       "  <tbody>\n",
       "    <tr>\n",
       "      <th>0</th>\n",
       "      <td>loan1</td>\n",
       "      <td>1</td>\n",
       "      <td>2500</td>\n",
       "      <td>36 months</td>\n",
       "      <td>13.56</td>\n",
       "      <td>C</td>\n",
       "      <td>Current</td>\n",
       "      <td>RENT</td>\n",
       "      <td>55000.0</td>\n",
       "      <td>18.24</td>\n",
       "      <td>...</td>\n",
       "      <td>0.0</td>\n",
       "      <td>Unknown</td>\n",
       "      <td>No Delinquencies</td>\n",
       "      <td>0</td>\n",
       "      <td>0</td>\n",
       "      <td>0</td>\n",
       "      <td>1</td>\n",
       "      <td>0</td>\n",
       "      <td>100.0</td>\n",
       "      <td>6-10</td>\n",
       "    </tr>\n",
       "    <tr>\n",
       "      <th>1</th>\n",
       "      <td>loan2</td>\n",
       "      <td>2</td>\n",
       "      <td>30000</td>\n",
       "      <td>60 months</td>\n",
       "      <td>18.94</td>\n",
       "      <td>D</td>\n",
       "      <td>Current</td>\n",
       "      <td>MORTGAGE</td>\n",
       "      <td>90000.0</td>\n",
       "      <td>26.52</td>\n",
       "      <td>...</td>\n",
       "      <td>0.0</td>\n",
       "      <td>Unknown</td>\n",
       "      <td>No Delinquencies</td>\n",
       "      <td>0</td>\n",
       "      <td>0</td>\n",
       "      <td>0</td>\n",
       "      <td>0</td>\n",
       "      <td>50.1-75%</td>\n",
       "      <td>100.0</td>\n",
       "      <td>6-10</td>\n",
       "    </tr>\n",
       "    <tr>\n",
       "      <th>2</th>\n",
       "      <td>loan3</td>\n",
       "      <td>3</td>\n",
       "      <td>5000</td>\n",
       "      <td>36 months</td>\n",
       "      <td>17.97</td>\n",
       "      <td>D</td>\n",
       "      <td>Current</td>\n",
       "      <td>MORTGAGE</td>\n",
       "      <td>59280.0</td>\n",
       "      <td>10.51</td>\n",
       "      <td>...</td>\n",
       "      <td>0.0</td>\n",
       "      <td>61+ months</td>\n",
       "      <td>No Delinquencies</td>\n",
       "      <td>0</td>\n",
       "      <td>0</td>\n",
       "      <td>0</td>\n",
       "      <td>1</td>\n",
       "      <td>0</td>\n",
       "      <td>90-99.9</td>\n",
       "      <td>11-15</td>\n",
       "    </tr>\n",
       "    <tr>\n",
       "      <th>3</th>\n",
       "      <td>loan4</td>\n",
       "      <td>4</td>\n",
       "      <td>4000</td>\n",
       "      <td>36 months</td>\n",
       "      <td>18.94</td>\n",
       "      <td>D</td>\n",
       "      <td>Current</td>\n",
       "      <td>MORTGAGE</td>\n",
       "      <td>92000.0</td>\n",
       "      <td>16.74</td>\n",
       "      <td>...</td>\n",
       "      <td>0.0</td>\n",
       "      <td>Unknown</td>\n",
       "      <td>No Delinquencies</td>\n",
       "      <td>0</td>\n",
       "      <td>0</td>\n",
       "      <td>0</td>\n",
       "      <td>0</td>\n",
       "      <td>0</td>\n",
       "      <td>100.0</td>\n",
       "      <td>11-15</td>\n",
       "    </tr>\n",
       "    <tr>\n",
       "      <th>4</th>\n",
       "      <td>loan5</td>\n",
       "      <td>5</td>\n",
       "      <td>30000</td>\n",
       "      <td>60 months</td>\n",
       "      <td>16.14</td>\n",
       "      <td>C</td>\n",
       "      <td>Current</td>\n",
       "      <td>MORTGAGE</td>\n",
       "      <td>57250.0</td>\n",
       "      <td>26.35</td>\n",
       "      <td>...</td>\n",
       "      <td>0.0</td>\n",
       "      <td>Unknown</td>\n",
       "      <td>No Delinquencies</td>\n",
       "      <td>0</td>\n",
       "      <td>0</td>\n",
       "      <td>0</td>\n",
       "      <td>0</td>\n",
       "      <td>0</td>\n",
       "      <td>100.0</td>\n",
       "      <td>6-10</td>\n",
       "    </tr>\n",
       "  </tbody>\n",
       "</table>\n",
       "<p>5 rows × 29 columns</p>\n",
       "</div>"
      ],
      "text/plain": [
       "  loan_id  member_id  funded_amnt        term  int_rate grade loan_status  \\\n",
       "0   loan1          1         2500   36 months     13.56     C     Current   \n",
       "1   loan2          2        30000   60 months     18.94     D     Current   \n",
       "2   loan3          3         5000   36 months     17.97     D     Current   \n",
       "3   loan4          4         4000   36 months     18.94     D     Current   \n",
       "4   loan5          5        30000   60 months     16.14     C     Current   \n",
       "\n",
       "  home_ownership  merged_annual_inc  merged_dti  ... delinq_amnt  \\\n",
       "0           RENT            55000.0       18.24  ...         0.0   \n",
       "1       MORTGAGE            90000.0       26.52  ...         0.0   \n",
       "2       MORTGAGE            59280.0       10.51  ...         0.0   \n",
       "3       MORTGAGE            92000.0       16.74  ...         0.0   \n",
       "4       MORTGAGE            57250.0       26.35  ...         0.0   \n",
       "\n",
       "  delinq_bucket acc_now_delinq_bucketed  delinq_2yrs_bucketed  \\\n",
       "0       Unknown        No Delinquencies                     0   \n",
       "1       Unknown        No Delinquencies                     0   \n",
       "2    61+ months        No Delinquencies                     0   \n",
       "3       Unknown        No Delinquencies                     0   \n",
       "4       Unknown        No Delinquencies                     0   \n",
       "\n",
       "   accounts_90d_past_due_24m  total_chargeoffs_within_12_mths  \\\n",
       "0                          0                                0   \n",
       "1                          0                                0   \n",
       "2                          0                                0   \n",
       "3                          0                                0   \n",
       "4                          0                                0   \n",
       "\n",
       "   pub_rec_bankruptcies_bucketed  percent_bc_gt_75_bucketed  \\\n",
       "0                              1                          0   \n",
       "1                              0                   50.1-75%   \n",
       "2                              1                          0   \n",
       "3                              0                          0   \n",
       "4                              0                          0   \n",
       "\n",
       "   pct_tl_nvr_dlq_bucketed  open_acc_bucketed  \n",
       "0                    100.0               6-10  \n",
       "1                    100.0               6-10  \n",
       "2                  90-99.9              11-15  \n",
       "3                    100.0              11-15  \n",
       "4                    100.0               6-10  \n",
       "\n",
       "[5 rows x 29 columns]"
      ]
     },
     "execution_count": 49,
     "metadata": {},
     "output_type": "execute_result"
    }
   ],
   "source": [
    "# Merge borrower_info on member_id\n",
    "df_merged = df_loan.merge(df_borrower, on=\"member_id\", how=\"left\")\n",
    "\n",
    "# Merge credit_history on loan_id\n",
    "df_merged = df_merged.merge(df_credit_history, on=\"loan_id\", how=\"left\")\n",
    "\n",
    "# Merge delinquency_info on loan_id\n",
    "df_loans_post= df_merged.merge(df_delinquency, on=\"loan_id\", how=\"left\")\n",
    "\n",
    "# Show final dataset\n",
    "df_loans_post.head()"
   ]
  },
  {
   "cell_type": "code",
   "execution_count": 52,
   "id": "dcbf52d9",
   "metadata": {},
   "outputs": [],
   "source": [
    "df_loans= df_loans_post.copy()"
   ]
  },
  {
   "cell_type": "code",
   "execution_count": 73,
   "id": "b55e4f6a",
   "metadata": {},
   "outputs": [],
   "source": [
    "df_loans = df_loans[['member_id', 'funded_amnt', 'term', 'int_rate', 'grade',\n",
    "       'loan_status', 'home_ownership', 'merged_annual_inc', 'merged_dti',\n",
    "       'emp_length_grouped', 'clean_verification_status', 'merged_purpose',\n",
    "       'all_util', 'avg_cur_bal', 'tot_hi_cred_lim', 'total_acc',\n",
    "       'total_bal_ex_mort', 'total_bc_limit', 'delinq_amnt', 'delinq_bucket',\n",
    "       'acc_now_delinq_bucketed', 'delinq_2yrs_bucketed',\n",
    "       'accounts_90d_past_due_24m', 'total_chargeoffs_within_12_mths',\n",
    "       'pub_rec_bankruptcies_bucketed', 'percent_bc_gt_75_bucketed',\n",
    "       'pct_tl_nvr_dlq_bucketed', 'open_acc_bucketed']]"
   ]
  },
  {
   "cell_type": "code",
   "execution_count": 40,
   "id": "1be0881a",
   "metadata": {
    "id": "1be0881a",
    "outputId": "19f2e0e1-cab8-4e55-cc9e-5961f74fec08"
   },
   "outputs": [
    {
     "data": {
      "application/vnd.microsoft.datawrangler.viewer.v0+json": {
       "columns": [
        {
         "name": "index",
         "rawType": "int64",
         "type": "integer"
        },
        {
         "name": "member_id",
         "rawType": "int64",
         "type": "integer"
        },
        {
         "name": "all_util",
         "rawType": "float64",
         "type": "float"
        },
        {
         "name": "avg_cur_bal",
         "rawType": "float64",
         "type": "float"
        },
        {
         "name": "delinq_amnt",
         "rawType": "float64",
         "type": "float"
        },
        {
         "name": "funded_amnt",
         "rawType": "int64",
         "type": "integer"
        },
        {
         "name": "home_ownership",
         "rawType": "object",
         "type": "string"
        },
        {
         "name": "int_rate",
         "rawType": "float64",
         "type": "float"
        },
        {
         "name": "term",
         "rawType": "object",
         "type": "string"
        },
        {
         "name": "tot_hi_cred_lim",
         "rawType": "float64",
         "type": "float"
        },
        {
         "name": "total_acc",
         "rawType": "float64",
         "type": "float"
        },
        {
         "name": "total_bal_ex_mort",
         "rawType": "float64",
         "type": "float"
        },
        {
         "name": "total_bc_limit",
         "rawType": "float64",
         "type": "float"
        },
        {
         "name": "loan_status",
         "rawType": "object",
         "type": "string"
        },
        {
         "name": "grade",
         "rawType": "object",
         "type": "string"
        },
        {
         "name": "merged_annual_inc",
         "rawType": "float64",
         "type": "float"
        },
        {
         "name": "merged_dti",
         "rawType": "float64",
         "type": "float"
        },
        {
         "name": "merged_purpose",
         "rawType": "object",
         "type": "string"
        },
        {
         "name": "emp_length_grouped",
         "rawType": "object",
         "type": "string"
        },
        {
         "name": "clean_verification_status",
         "rawType": "object",
         "type": "string"
        },
        {
         "name": "delinq_bucket",
         "rawType": "object",
         "type": "string"
        },
        {
         "name": "acc_now_delinq_bucketed",
         "rawType": "object",
         "type": "string"
        },
        {
         "name": "delinq_2yrs_bucketed",
         "rawType": "int64",
         "type": "integer"
        },
        {
         "name": "accounts_90d_past_due_24m",
         "rawType": "int64",
         "type": "integer"
        },
        {
         "name": "total_chargeoffs_within_12_mths",
         "rawType": "int64",
         "type": "integer"
        },
        {
         "name": "open_acc_bucketed",
         "rawType": "object",
         "type": "string"
        },
        {
         "name": "pct_tl_nvr_dlq_bucketed",
         "rawType": "object",
         "type": "string"
        },
        {
         "name": "percent_bc_gt_75_bucketed",
         "rawType": "object",
         "type": "string"
        },
        {
         "name": "pub_rec_bankruptcies_bucketed",
         "rawType": "int64",
         "type": "integer"
        }
       ],
       "conversionMethod": "pd.DataFrame",
       "ref": "2f915694-94c0-49a1-a1ba-f5754aa4302f",
       "rows": [
        [
         "0",
         "1",
         "28.0",
         "1878.0",
         "0.0",
         "2500",
         "RENT",
         "13.56",
         " 36 months",
         "60124.0",
         "34.0",
         "16901.0",
         "36500.0",
         "Current",
         "C",
         "55000.0",
         "18.24",
         "Debt-related",
         "10+ years",
         "Not Verified",
         "Unknown",
         "No Delinquencies",
         "0",
         "0",
         "0",
         "6-10",
         "100.0",
         "0",
         "1"
        ],
        [
         "1",
         "2",
         "57.0",
         "24763.0",
         "0.0",
         "30000",
         "MORTGAGE",
         "18.94",
         " 60 months",
         "372872.0",
         "44.0",
         "99468.0",
         "15000.0",
         "Current",
         "D",
         "90000.0",
         "26.52",
         "Debt-related",
         "10+ years",
         "Verified",
         "61+ months",
         "No Delinquencies",
         "0",
         "0",
         "0",
         "11-15",
         "90-99.9",
         "0",
         "1"
        ],
        [
         "2",
         "3",
         "35.0",
         "18383.0",
         "0.0",
         "5000",
         "MORTGAGE",
         "17.97",
         " 36 months",
         "136927.0",
         "13.0",
         "11749.0",
         "13800.0",
         "Current",
         "D",
         "59280.0",
         "10.51",
         "Debt-related",
         "4-6 years",
         "Verified",
         "Unknown",
         "No Delinquencies",
         "0",
         "0",
         "0",
         "6-10",
         "100.0",
         "0",
         "0"
        ],
        [
         "3",
         "4",
         "70.0",
         "30505.0",
         "0.0",
         "4000",
         "MORTGAGE",
         "18.94",
         " 36 months",
         "385183.0",
         "13.0",
         "36151.0",
         "5000.0",
         "Current",
         "D",
         "92000.0",
         "16.74",
         "Debt-related",
         "10+ years",
         "Verified",
         "Unknown",
         "No Delinquencies",
         "0",
         "0",
         "0",
         "6-10",
         "100.0",
         "75.1-100%",
         "0"
        ],
        [
         "4",
         "5",
         "54.0",
         "9667.0",
         "0.0",
         "30000",
         "MORTGAGE",
         "16.14",
         " 60 months",
         "157548.0",
         "26.0",
         "29674.0",
         "9300.0",
         "Current",
         "C",
         "57250.0",
         "26.35",
         "Debt-related",
         "10+ years",
         "Not Verified",
         "Unknown",
         "No Delinquencies",
         "0",
         "0",
         "0",
         "11-15",
         "90-99.9",
         "0",
         "0"
        ]
       ],
       "shape": {
        "columns": 28,
        "rows": 5
       }
      },
      "text/html": [
       "<div>\n",
       "<style scoped>\n",
       "    .dataframe tbody tr th:only-of-type {\n",
       "        vertical-align: middle;\n",
       "    }\n",
       "\n",
       "    .dataframe tbody tr th {\n",
       "        vertical-align: top;\n",
       "    }\n",
       "\n",
       "    .dataframe thead th {\n",
       "        text-align: right;\n",
       "    }\n",
       "</style>\n",
       "<table border=\"1\" class=\"dataframe\">\n",
       "  <thead>\n",
       "    <tr style=\"text-align: right;\">\n",
       "      <th></th>\n",
       "      <th>member_id</th>\n",
       "      <th>all_util</th>\n",
       "      <th>avg_cur_bal</th>\n",
       "      <th>delinq_amnt</th>\n",
       "      <th>funded_amnt</th>\n",
       "      <th>home_ownership</th>\n",
       "      <th>int_rate</th>\n",
       "      <th>term</th>\n",
       "      <th>tot_hi_cred_lim</th>\n",
       "      <th>total_acc</th>\n",
       "      <th>...</th>\n",
       "      <th>clean_verification_status</th>\n",
       "      <th>delinq_bucket</th>\n",
       "      <th>acc_now_delinq_bucketed</th>\n",
       "      <th>delinq_2yrs_bucketed</th>\n",
       "      <th>accounts_90d_past_due_24m</th>\n",
       "      <th>total_chargeoffs_within_12_mths</th>\n",
       "      <th>open_acc_bucketed</th>\n",
       "      <th>pct_tl_nvr_dlq_bucketed</th>\n",
       "      <th>percent_bc_gt_75_bucketed</th>\n",
       "      <th>pub_rec_bankruptcies_bucketed</th>\n",
       "    </tr>\n",
       "  </thead>\n",
       "  <tbody>\n",
       "    <tr>\n",
       "      <th>0</th>\n",
       "      <td>1</td>\n",
       "      <td>28.0</td>\n",
       "      <td>1878.0</td>\n",
       "      <td>0.0</td>\n",
       "      <td>2500</td>\n",
       "      <td>RENT</td>\n",
       "      <td>13.56</td>\n",
       "      <td>36 months</td>\n",
       "      <td>60124.0</td>\n",
       "      <td>34.0</td>\n",
       "      <td>...</td>\n",
       "      <td>Not Verified</td>\n",
       "      <td>Unknown</td>\n",
       "      <td>No Delinquencies</td>\n",
       "      <td>0</td>\n",
       "      <td>0</td>\n",
       "      <td>0</td>\n",
       "      <td>6-10</td>\n",
       "      <td>100.0</td>\n",
       "      <td>0</td>\n",
       "      <td>1</td>\n",
       "    </tr>\n",
       "    <tr>\n",
       "      <th>1</th>\n",
       "      <td>2</td>\n",
       "      <td>57.0</td>\n",
       "      <td>24763.0</td>\n",
       "      <td>0.0</td>\n",
       "      <td>30000</td>\n",
       "      <td>MORTGAGE</td>\n",
       "      <td>18.94</td>\n",
       "      <td>60 months</td>\n",
       "      <td>372872.0</td>\n",
       "      <td>44.0</td>\n",
       "      <td>...</td>\n",
       "      <td>Verified</td>\n",
       "      <td>61+ months</td>\n",
       "      <td>No Delinquencies</td>\n",
       "      <td>0</td>\n",
       "      <td>0</td>\n",
       "      <td>0</td>\n",
       "      <td>11-15</td>\n",
       "      <td>90-99.9</td>\n",
       "      <td>0</td>\n",
       "      <td>1</td>\n",
       "    </tr>\n",
       "    <tr>\n",
       "      <th>2</th>\n",
       "      <td>3</td>\n",
       "      <td>35.0</td>\n",
       "      <td>18383.0</td>\n",
       "      <td>0.0</td>\n",
       "      <td>5000</td>\n",
       "      <td>MORTGAGE</td>\n",
       "      <td>17.97</td>\n",
       "      <td>36 months</td>\n",
       "      <td>136927.0</td>\n",
       "      <td>13.0</td>\n",
       "      <td>...</td>\n",
       "      <td>Verified</td>\n",
       "      <td>Unknown</td>\n",
       "      <td>No Delinquencies</td>\n",
       "      <td>0</td>\n",
       "      <td>0</td>\n",
       "      <td>0</td>\n",
       "      <td>6-10</td>\n",
       "      <td>100.0</td>\n",
       "      <td>0</td>\n",
       "      <td>0</td>\n",
       "    </tr>\n",
       "    <tr>\n",
       "      <th>3</th>\n",
       "      <td>4</td>\n",
       "      <td>70.0</td>\n",
       "      <td>30505.0</td>\n",
       "      <td>0.0</td>\n",
       "      <td>4000</td>\n",
       "      <td>MORTGAGE</td>\n",
       "      <td>18.94</td>\n",
       "      <td>36 months</td>\n",
       "      <td>385183.0</td>\n",
       "      <td>13.0</td>\n",
       "      <td>...</td>\n",
       "      <td>Verified</td>\n",
       "      <td>Unknown</td>\n",
       "      <td>No Delinquencies</td>\n",
       "      <td>0</td>\n",
       "      <td>0</td>\n",
       "      <td>0</td>\n",
       "      <td>6-10</td>\n",
       "      <td>100.0</td>\n",
       "      <td>75.1-100%</td>\n",
       "      <td>0</td>\n",
       "    </tr>\n",
       "    <tr>\n",
       "      <th>4</th>\n",
       "      <td>5</td>\n",
       "      <td>54.0</td>\n",
       "      <td>9667.0</td>\n",
       "      <td>0.0</td>\n",
       "      <td>30000</td>\n",
       "      <td>MORTGAGE</td>\n",
       "      <td>16.14</td>\n",
       "      <td>60 months</td>\n",
       "      <td>157548.0</td>\n",
       "      <td>26.0</td>\n",
       "      <td>...</td>\n",
       "      <td>Not Verified</td>\n",
       "      <td>Unknown</td>\n",
       "      <td>No Delinquencies</td>\n",
       "      <td>0</td>\n",
       "      <td>0</td>\n",
       "      <td>0</td>\n",
       "      <td>11-15</td>\n",
       "      <td>90-99.9</td>\n",
       "      <td>0</td>\n",
       "      <td>0</td>\n",
       "    </tr>\n",
       "  </tbody>\n",
       "</table>\n",
       "<p>5 rows × 28 columns</p>\n",
       "</div>"
      ],
      "text/plain": [
       "   member_id  all_util  avg_cur_bal  delinq_amnt  funded_amnt home_ownership  \\\n",
       "0          1      28.0       1878.0          0.0         2500           RENT   \n",
       "1          2      57.0      24763.0          0.0        30000       MORTGAGE   \n",
       "2          3      35.0      18383.0          0.0         5000       MORTGAGE   \n",
       "3          4      70.0      30505.0          0.0         4000       MORTGAGE   \n",
       "4          5      54.0       9667.0          0.0        30000       MORTGAGE   \n",
       "\n",
       "   int_rate        term  tot_hi_cred_lim  total_acc  ...  \\\n",
       "0     13.56   36 months          60124.0       34.0  ...   \n",
       "1     18.94   60 months         372872.0       44.0  ...   \n",
       "2     17.97   36 months         136927.0       13.0  ...   \n",
       "3     18.94   36 months         385183.0       13.0  ...   \n",
       "4     16.14   60 months         157548.0       26.0  ...   \n",
       "\n",
       "   clean_verification_status  delinq_bucket acc_now_delinq_bucketed  \\\n",
       "0               Not Verified        Unknown        No Delinquencies   \n",
       "1                   Verified     61+ months        No Delinquencies   \n",
       "2                   Verified        Unknown        No Delinquencies   \n",
       "3                   Verified        Unknown        No Delinquencies   \n",
       "4               Not Verified        Unknown        No Delinquencies   \n",
       "\n",
       "  delinq_2yrs_bucketed  accounts_90d_past_due_24m  \\\n",
       "0                    0                          0   \n",
       "1                    0                          0   \n",
       "2                    0                          0   \n",
       "3                    0                          0   \n",
       "4                    0                          0   \n",
       "\n",
       "   total_chargeoffs_within_12_mths open_acc_bucketed pct_tl_nvr_dlq_bucketed  \\\n",
       "0                                0              6-10                   100.0   \n",
       "1                                0             11-15                 90-99.9   \n",
       "2                                0              6-10                   100.0   \n",
       "3                                0              6-10                   100.0   \n",
       "4                                0             11-15                 90-99.9   \n",
       "\n",
       "  percent_bc_gt_75_bucketed pub_rec_bankruptcies_bucketed  \n",
       "0                         0                             1  \n",
       "1                         0                             1  \n",
       "2                         0                             0  \n",
       "3                 75.1-100%                             0  \n",
       "4                         0                             0  \n",
       "\n",
       "[5 rows x 28 columns]"
      ]
     },
     "execution_count": 40,
     "metadata": {},
     "output_type": "execute_result"
    }
   ],
   "source": [
    "# # Getting the data into a pandas dataframe\n",
    "# df_loans = pd.read_csv(\"Resources/df_subset.csv\")\n",
    "# # show the dataframe\n",
    "# df_loans.head()"
   ]
  },
  {
   "cell_type": "code",
   "execution_count": 74,
   "id": "ff69b97c",
   "metadata": {
    "executionInfo": {
     "elapsed": 4348,
     "status": "ok",
     "timestamp": 1744899316614,
     "user": {
      "displayName": "Seyhr Waqas",
      "userId": "14453900050839945906"
     },
     "user_tz": 240
    },
    "id": "ff69b97c"
   },
   "outputs": [],
   "source": [
    "# Dividing dataframe into two dataframes one for Good loans where Grade is A ,B and C\n",
    "# and one for Bad loans where Grade is D, E, F and G\n",
    "df_good_loans = df_loans[df_loans['grade'].isin(['A', 'B', 'C'])].copy()\n",
    "df_bad_loans = df_loans[df_loans['grade'].isin(['D', 'E', 'F', 'G'])].copy()"
   ]
  },
  {
   "cell_type": "markdown",
   "id": "791ca587",
   "metadata": {
    "id": "791ca587"
   },
   "source": [
    "Working on Good_loans"
   ]
  },
  {
   "cell_type": "code",
   "execution_count": 70,
   "id": "441e2f38",
   "metadata": {},
   "outputs": [
    {
     "name": "stdout",
     "output_type": "stream",
     "text": [
      "(1746637, 29)\n"
     ]
    }
   ],
   "source": [
    "print(df_good_loans.shape)"
   ]
  },
  {
   "cell_type": "code",
   "execution_count": 85,
   "id": "03ac87b6",
   "metadata": {},
   "outputs": [
    {
     "data": {
      "text/plain": [
       "Index(['member_id', 'funded_amnt', 'term', 'int_rate', 'grade', 'loan_status',\n",
       "       'home_ownership', 'merged_annual_inc', 'merged_dti',\n",
       "       'emp_length_grouped', 'clean_verification_status', 'merged_purpose',\n",
       "       'all_util', 'avg_cur_bal', 'tot_hi_cred_lim', 'total_acc',\n",
       "       'total_bal_ex_mort', 'total_bc_limit', 'delinq_amnt', 'delinq_bucket',\n",
       "       'acc_now_delinq_bucketed', 'delinq_2yrs_bucketed',\n",
       "       'accounts_90d_past_due_24m', 'total_chargeoffs_within_12_mths',\n",
       "       'pub_rec_bankruptcies_bucketed', 'percent_bc_gt_75_bucketed',\n",
       "       'pct_tl_nvr_dlq_bucketed', 'open_acc_bucketed', 'target'],\n",
       "      dtype='object')"
      ]
     },
     "execution_count": 85,
     "metadata": {},
     "output_type": "execute_result"
    }
   ],
   "source": [
    "df_good_loans.columns"
   ]
  },
  {
   "cell_type": "code",
   "execution_count": 77,
   "id": "15449427",
   "metadata": {
    "executionInfo": {
     "elapsed": 673,
     "status": "ok",
     "timestamp": 1744899320320,
     "user": {
      "displayName": "Seyhr Waqas",
      "userId": "14453900050839945906"
     },
     "user_tz": 240
    },
    "id": "15449427"
   },
   "outputs": [],
   "source": [
    "# Assign target for Good Loans: 1 = 'C', 0 = 'A'/'B'\n",
    "df_good_loans['target'] = df_good_loans['grade'].apply(lambda x: 1 if x == 'C' else 0)"
   ]
  },
  {
   "cell_type": "code",
   "execution_count": 78,
   "id": "797d9da6",
   "metadata": {},
   "outputs": [
    {
     "name": "stdout",
     "output_type": "stream",
     "text": [
      "term 2\n",
      "grade 3\n",
      "loan_status 9\n",
      "home_ownership 6\n",
      "emp_length_grouped 5\n",
      "clean_verification_status 2\n",
      "merged_purpose 6\n",
      "delinq_bucket 6\n",
      "acc_now_delinq_bucketed 2\n",
      "percent_bc_gt_75_bucketed 6\n",
      "pct_tl_nvr_dlq_bucketed 5\n",
      "open_acc_bucketed 7\n"
     ]
    }
   ],
   "source": [
    "for col in df_good_loans.select_dtypes(include='object').columns:\n",
    "    print(col, df_good_loans[col].nunique())\n"
   ]
  },
  {
   "cell_type": "code",
   "execution_count": 79,
   "id": "2da90a2d",
   "metadata": {},
   "outputs": [
    {
     "data": {
      "text/plain": [
       "Index(['member_id', 'funded_amnt', 'term', 'int_rate', 'grade', 'loan_status',\n",
       "       'home_ownership', 'merged_annual_inc', 'merged_dti',\n",
       "       'emp_length_grouped', 'clean_verification_status', 'merged_purpose',\n",
       "       'all_util', 'avg_cur_bal', 'tot_hi_cred_lim', 'total_acc',\n",
       "       'total_bal_ex_mort', 'total_bc_limit', 'delinq_amnt', 'delinq_bucket',\n",
       "       'acc_now_delinq_bucketed', 'delinq_2yrs_bucketed',\n",
       "       'accounts_90d_past_due_24m', 'total_chargeoffs_within_12_mths',\n",
       "       'pub_rec_bankruptcies_bucketed', 'percent_bc_gt_75_bucketed',\n",
       "       'pct_tl_nvr_dlq_bucketed', 'open_acc_bucketed', 'target'],\n",
       "      dtype='object')"
      ]
     },
     "execution_count": 79,
     "metadata": {},
     "output_type": "execute_result"
    }
   ],
   "source": [
    "df_good_loans.columns"
   ]
  },
  {
   "cell_type": "markdown",
   "id": "a19bed5b",
   "metadata": {
    "id": "a19bed5b"
   },
   "source": [
    "**Loading and Preprocessing Loans Encoded Data**"
   ]
  },
  {
   "cell_type": "code",
   "execution_count": 80,
   "id": "6cc44fef",
   "metadata": {
    "colab": {
     "base_uri": "https://localhost:8080/",
     "height": 211
    },
    "executionInfo": {
     "elapsed": 63,
     "status": "error",
     "timestamp": 1744899449936,
     "user": {
      "displayName": "Seyhr Waqas",
      "userId": "14453900050839945906"
     },
     "user_tz": 240
    },
    "id": "6cc44fef",
    "outputId": "440f357a-4a57-4f2c-d9ea-95c37afc211b"
   },
   "outputs": [
    {
     "name": "stderr",
     "output_type": "stream",
     "text": [
      "c:\\Users\\seyhr\\anaconda3\\envs\\dev\\lib\\site-packages\\sklearn\\base.py:474: FutureWarning: `BaseEstimator._validate_data` is deprecated in 1.6 and will be removed in 1.7. Use `sklearn.utils.validation.validate_data` instead. This function becomes public and is part of the scikit-learn developer API.\n",
      "  warnings.warn(\n"
     ]
    }
   ],
   "source": [
    "# Define the feature set\n",
    "X= df_good_loans.drop(columns=['grade', 'target','int_rate'], axis=1)\n",
    "# Define the target variable\n",
    "y= df_good_loans['target']\n",
    "# Encode the categorical variables using get_dummies\n",
    "X = pd.get_dummies(X)\n",
    "# Cleaning special characters from column names\n",
    "X.columns = X.columns.astype(str).map(lambda x: x.replace('[', '_').replace(']', '_').replace('<', '_'))\n",
    "#impute missing in X with median\n",
    "imp = SimpleImputer(strategy='median')\n",
    "X = pd.DataFrame(imp.fit_transform(X), columns=X.columns)\n",
    "# scale the data\n",
    "scaler = StandardScaler()\n",
    "X_scaled = pd.DataFrame(scaler.fit_transform(X), columns=X.columns)\n",
    "# Split the data into training and testing sets\n",
    "X_train, X_test, y_train, y_test = train_test_split(X_scaled, y, test_size=0.25, random_state=42, stratify=y)\n",
    "# use SMOTE to generate samples for the minority class\n",
    "sm = SMOTE(random_state=42)\n",
    "X_res, y_res = sm.fit_resample(X_train, y_train)\n",
    "# Compute class weights to handle class imbalance\n",
    "class_weights = compute_class_weight('balanced', classes=np.unique(y_res), y=y_res)\n",
    "class_weights = dict(enumerate(class_weights))"
   ]
  },
  {
   "cell_type": "code",
   "execution_count": 81,
   "id": "cf7f3a40",
   "metadata": {
    "id": "cf7f3a40"
   },
   "outputs": [],
   "source": [
    "# Define the model architecture\n",
    "nn = Sequential()\n",
    "\n",
    "# First hidden layer\n",
    "nn.add(Dense(units=80, activation='relu', input_dim=X_res.shape[1]))\n",
    "nn.add(BatchNormalization())\n",
    "nn.add(Dropout(0.4))\n",
    "\n",
    "# Second hidden layer\n",
    "nn.add(Dense(units=30, activation='relu'))\n",
    "nn.add(BatchNormalization())\n",
    "nn.add(Dropout(0.3))\n",
    "\n",
    "# Output layer\n",
    "nn.add(Dense(units=1, activation='sigmoid'))  # For binary classification\n",
    "\n",
    "# Compile the model\n",
    "nn.compile(optimizer='adam', loss='binary_crossentropy', metrics=['accuracy'])\n",
    "\n",
    "# Define early stopping callback\n",
    "early_stop = EarlyStopping(monitor='val_loss', patience=5, restore_best_weights=True)\n",
    "\n"
   ]
  },
  {
   "cell_type": "code",
   "execution_count": 82,
   "id": "4e80ab85",
   "metadata": {
    "id": "4e80ab85",
    "outputId": "4261310c-9c9e-4d58-c140-c04977d5610d"
   },
   "outputs": [
    {
     "name": "stdout",
     "output_type": "stream",
     "text": [
      "Epoch 1/30\n",
      "5141/5141 [==============================] - 21s 4ms/step - loss: 0.5783 - accuracy: 0.6962 - val_loss: 0.8113 - val_accuracy: 0.4516\n",
      "Epoch 2/30\n",
      "5141/5141 [==============================] - 23s 4ms/step - loss: 0.5659 - accuracy: 0.7043 - val_loss: 0.8034 - val_accuracy: 0.4560\n",
      "Epoch 3/30\n",
      "5141/5141 [==============================] - 23s 4ms/step - loss: 0.5636 - accuracy: 0.7063 - val_loss: 0.8081 - val_accuracy: 0.4535\n",
      "Epoch 4/30\n",
      "5141/5141 [==============================] - 23s 4ms/step - loss: 0.5619 - accuracy: 0.7077 - val_loss: 0.8051 - val_accuracy: 0.4606\n",
      "Epoch 5/30\n",
      "5141/5141 [==============================] - 23s 4ms/step - loss: 0.5609 - accuracy: 0.7081 - val_loss: 0.8116 - val_accuracy: 0.4565\n",
      "Epoch 6/30\n",
      "5141/5141 [==============================] - 22s 4ms/step - loss: 0.5601 - accuracy: 0.7085 - val_loss: 0.7978 - val_accuracy: 0.4626\n",
      "Epoch 7/30\n",
      "5141/5141 [==============================] - 21s 4ms/step - loss: 0.5595 - accuracy: 0.7089 - val_loss: 0.8117 - val_accuracy: 0.4492\n",
      "Epoch 8/30\n",
      "5141/5141 [==============================] - 21s 4ms/step - loss: 0.5590 - accuracy: 0.7094 - val_loss: 0.8097 - val_accuracy: 0.4551\n",
      "Epoch 9/30\n",
      "5141/5141 [==============================] - 21s 4ms/step - loss: 0.5584 - accuracy: 0.7098 - val_loss: 0.8103 - val_accuracy: 0.4503\n",
      "Epoch 10/30\n",
      "5141/5141 [==============================] - 21s 4ms/step - loss: 0.5579 - accuracy: 0.7100 - val_loss: 0.8009 - val_accuracy: 0.4534\n",
      "Epoch 11/30\n",
      "5141/5141 [==============================] - 21s 4ms/step - loss: 0.5578 - accuracy: 0.7102 - val_loss: 0.7919 - val_accuracy: 0.4461\n",
      "Epoch 12/30\n",
      "5141/5141 [==============================] - 21s 4ms/step - loss: 0.5575 - accuracy: 0.7104 - val_loss: 0.7993 - val_accuracy: 0.4784\n",
      "Epoch 13/30\n",
      "5141/5141 [==============================] - 21s 4ms/step - loss: 0.5571 - accuracy: 0.7108 - val_loss: 0.8110 - val_accuracy: 0.4556\n",
      "Epoch 14/30\n",
      "5141/5141 [==============================] - 21s 4ms/step - loss: 0.5568 - accuracy: 0.7107 - val_loss: 0.8221 - val_accuracy: 0.3851\n",
      "Epoch 15/30\n",
      "5141/5141 [==============================] - 21s 4ms/step - loss: 0.5566 - accuracy: 0.7107 - val_loss: 0.7990 - val_accuracy: 0.4609\n",
      "Epoch 16/30\n",
      "5141/5141 [==============================] - 21s 4ms/step - loss: 0.5564 - accuracy: 0.7109 - val_loss: 0.8034 - val_accuracy: 0.4659\n"
     ]
    }
   ],
   "source": [
    "## Fit the model with class weights\n",
    "history = nn.fit(\n",
    "    X_res, y_res,\n",
    "    validation_split=0.2,\n",
    "    epochs=30,\n",
    "    batch_size=256,\n",
    "    callbacks=[early_stop],\n",
    "    verbose=1,\n",
    "    class_weight=class_weights\n",
    ")"
   ]
  },
  {
   "cell_type": "code",
   "execution_count": 83,
   "id": "906f7a3e",
   "metadata": {
    "id": "906f7a3e",
    "outputId": "b8b04a37-4b94-4c30-dfde-0d19d7b694a7"
   },
   "outputs": [
    {
     "name": "stdout",
     "output_type": "stream",
     "text": [
      "13646/13646 [==============================] - 18s 1ms/step\n"
     ]
    }
   ],
   "source": [
    "# Evaluate the model on the test set\n",
    "y_pred_probs = nn.predict(X_test).flatten()\n",
    "# Convert probabilities to binary predictions using a threshold\n",
    "threshold = 0.45\n",
    "y_pred = (y_pred_probs >= threshold).astype(int)"
   ]
  },
  {
   "cell_type": "code",
   "execution_count": 84,
   "id": "71d71062",
   "metadata": {
    "id": "71d71062",
    "outputId": "fb8ef28d-7417-4563-c3a3-e30c933e8132"
   },
   "outputs": [
    {
     "name": "stdout",
     "output_type": "stream",
     "text": [
      "Classification Report for Good Loan Model:\n",
      "              precision    recall  f1-score   support\n",
      "\n",
      "           0     0.7577    0.7952    0.7760    274146\n",
      "           1     0.6231    0.5711    0.5960    162514\n",
      "\n",
      "    accuracy                         0.7118    436660\n",
      "   macro avg     0.6904    0.6832    0.6860    436660\n",
      "weighted avg     0.7076    0.7118    0.7090    436660\n",
      "\n",
      "Confusion Matrix:\n",
      "[[218006  56140]\n",
      " [ 69705  92809]]\n"
     ]
    },
    {
     "data": {
      "image/png": "[encoded data removed]",
      "text/plain": [
       "<Figure size 600x500 with 2 Axes>"
      ]
     },
     "metadata": {},
     "output_type": "display_data"
    }
   ],
   "source": [
    "print(\"Classification Report for Good Loan Model:\")\n",
    "print(classification_report(y_test, y_pred, digits=4))\n",
    "\n",
    "\n",
    "cm = confusion_matrix(y_test, y_pred)\n",
    "print(\"Confusion Matrix:\")\n",
    "print(cm)\n",
    "\n",
    "labels = [\"Class 0 A/B\", \"Class 1 C\"]\n",
    "plt.figure(figsize=(6, 5))\n",
    "sns.heatmap(cm, annot=True, fmt='d', cmap='Blues', xticklabels=labels, yticklabels=labels)\n",
    "plt.xlabel('Predicted')\n",
    "plt.ylabel('Actual')\n",
    "plt.title('Confusion Matrix - Good Loan Model')\n",
    "plt.tight_layout()\n",
    "plt.show()\n",
    "\n"
   ]
  },
  {
   "cell_type": "code",
   "execution_count": null,
   "id": "a982ee35",
   "metadata": {
    "id": "a982ee35",
    "outputId": "5164d76f-e5ed-42e9-f6d2-7e030335be61"
   },
   "outputs": [
    {
     "data": {
      "text/plain": [
       "['models/Gloan_scaler.pkl']"
      ]
     },
     "execution_count": 86,
     "metadata": {},
     "output_type": "execute_result"
    }
   ],
   "source": [
    "# Save the model\n",
    "#nn.save(\"models/Gloan_model.h5\")  # Save Keras model in .h5 format\n",
    "# Save scaler\n",
    "#joblib.dump(scaler, \"models/Gloan_scaler.pkl\")"
   ]
  },
  {
   "cell_type": "markdown",
   "id": "bb3c4f72",
   "metadata": {
    "id": "bb3c4f72"
   },
   "source": [
    "Bad Loan Model"
   ]
  },
  {
   "cell_type": "code",
   "execution_count": 87,
   "id": "a92a0790",
   "metadata": {
    "id": "a92a0790"
   },
   "outputs": [],
   "source": [
    "# Assign target for Bad Loan: 0 = 'D', 1 = 'E'/'F'/'G'\n",
    "df_bad_loans['target'] = df_bad_loans['grade'].apply(lambda x: 1 if x in ['E','F','G'] else 0)\n"
   ]
  },
  {
   "cell_type": "code",
   "execution_count": 88,
   "id": "1859b78f",
   "metadata": {
    "id": "1859b78f",
    "outputId": "9e62a6fe-cffe-41bf-896c-c141de23b380"
   },
   "outputs": [
    {
     "name": "stderr",
     "output_type": "stream",
     "text": [
      "c:\\Users\\seyhr\\anaconda3\\envs\\dev\\lib\\site-packages\\sklearn\\base.py:474: FutureWarning: `BaseEstimator._validate_data` is deprecated in 1.6 and will be removed in 1.7. Use `sklearn.utils.validation.validate_data` instead. This function becomes public and is part of the scikit-learn developer API.\n",
      "  warnings.warn(\n"
     ]
    }
   ],
   "source": [
    "# Define the feature set\n",
    "X= df_bad_loans.drop(columns=['grade', 'target','int_rate'], axis=1)\n",
    "# Define the target variable\n",
    "y= df_bad_loans['target']\n",
    "# Encode the categorical variables using get_dummies\n",
    "X = pd.get_dummies(X)\n",
    "# Cleaning special characters from column names\n",
    "X.columns = X.columns.astype(str).map(lambda x: x.replace('[', '_').replace(']', '_').replace('<', '_'))\n",
    "#impute missing in X with median\n",
    "imp = SimpleImputer(strategy='median')\n",
    "X = pd.DataFrame(imp.fit_transform(X), columns=X.columns)\n",
    "# scale the data\n",
    "scaler = StandardScaler()\n",
    "X_scaled = pd.DataFrame(scaler.fit_transform(X), columns=X.columns)\n",
    "# Split the data into training and testing sets\n",
    "X_train, X_test, y_train, y_test = train_test_split(X_scaled, y, test_size=0.25, random_state=42, stratify=y)\n",
    "# use SMOTE to generate samples for the minority class\n",
    "sm = SMOTE(random_state=42)\n",
    "X_res, y_res = sm.fit_resample(X_train, y_train)\n",
    "# Compute class weights to handle class imbalance\n",
    "#class_weights = compute_class_weight('balanced', classes=np.unique(y_res), y=y_res)\n",
    "#class_weights = dict(enumerate(class_weights))"
   ]
  },
  {
   "cell_type": "code",
   "execution_count": null,
   "id": "01c518cd",
   "metadata": {
    "id": "01c518cd"
   },
   "outputs": [],
   "source": [
    "# # Define the model architecture\n",
    "# B_nn = Sequential()\n",
    "\n",
    "# # First hidden layer\n",
    "# B_nn.add(Dense(units=80, activation='relu', input_dim=X_res.shape[1]))\n",
    "# B_nn.add(BatchNormalization())\n",
    "# B_nn.add(Dropout(0.4))\n",
    "\n",
    "# # Second hidden layer\n",
    "# B_nn.add(Dense(units=30, activation='relu'))\n",
    "# B_nn.add(BatchNormalization())\n",
    "# B_nn.add(Dropout(0.3))\n",
    "\n",
    "# # Output layer\n",
    "# B_nn.add(Dense(units=1, activation='sigmoid'))  # For binary classification\n",
    "\n",
    "# # Compile the model\n",
    "# B_nn.compile(optimizer='adam', loss='binary_crossentropy', metrics=['accuracy'])\n",
    "\n",
    "# # Define early stopping callback\n",
    "# early_stop = EarlyStopping(monitor='val_loss', patience=5, restore_best_weights=True)\n",
    "\n"
   ]
  },
  {
   "cell_type": "code",
   "execution_count": null,
   "id": "b0b32e4a",
   "metadata": {
    "id": "b0b32e4a"
   },
   "outputs": [],
   "source": [
    "# ## Fit the model with class weights\n",
    "# history = B_nn.fit(\n",
    "#     X_res, y_res,\n",
    "#     validation_split=0.2,\n",
    "#     epochs=30,\n",
    "#     batch_size=256,\n",
    "#     callbacks=[early_stop],\n",
    "#     verbose=1\n",
    "#     #class_weight=class_weights\n",
    "# )"
   ]
  },
  {
   "cell_type": "code",
   "execution_count": null,
   "id": "dbfdb5af",
   "metadata": {
    "id": "dbfdb5af"
   },
   "outputs": [],
   "source": [
    "# # Evaluate the model on the test set\n",
    "# y_pred_probs = nn.predict(X_test).flatten()\n",
    "# # Convert probabilities to binary predictions using a threshold\n",
    "# threshold = 0.35\n",
    "# y_pred = (y_pred_probs >= threshold).astype(int)"
   ]
  },
  {
   "cell_type": "code",
   "execution_count": null,
   "id": "f077d26b",
   "metadata": {
    "id": "f077d26b"
   },
   "outputs": [],
   "source": [
    "# print(\"Classification Report for Bad Loan Model:\")\n",
    "# print(classification_report(y_test, y_pred, digits=4))\n",
    "\n",
    "\n",
    "# cm = confusion_matrix(y_test, y_pred)\n",
    "# print(\"Confusion Matrix:\")\n",
    "# print(cm)\n",
    "\n",
    "# plt.figure(figsize=(6, 5))\n",
    "# sns.heatmap(cm, annot=True, fmt='d', cmap='Blues', xticklabels=labels, yticklabels=labels)\n",
    "# plt.xlabel('Predicted')\n",
    "# plt.ylabel('Actual')\n",
    "# plt.title('Confusion Matrix - Good Loan Model')\n",
    "# plt.tight_layout()\n",
    "# plt.show()\n",
    "\n"
   ]
  },
  {
   "cell_type": "code",
   "execution_count": 89,
   "id": "d26e6c18",
   "metadata": {
    "id": "d26e6c18",
    "outputId": "fe34c821-c160-48e7-8e99-9890ba4c1b09"
   },
   "outputs": [
    {
     "name": "stderr",
     "output_type": "stream",
     "text": [
      "c:\\Users\\seyhr\\anaconda3\\envs\\dev\\lib\\site-packages\\xgboost\\training.py:183: UserWarning: [13:54:49] WARNING: C:\\actions-runner\\_work\\xgboost\\xgboost\\src\\learner.cc:738: \n",
      "Parameters: { \"use_label_encoder\" } are not used.\n",
      "\n",
      "  bst.update(dtrain, iteration=i, fobj=obj)\n"
     ]
    },
    {
     "data": {
      "text/html": [
       "<style>#sk-container-id-1 {\n",
       "  /* Definition of color scheme common for light and dark mode */\n",
       "  --sklearn-color-text: #000;\n",
       "  --sklearn-color-text-muted: #666;\n",
       "  --sklearn-color-line: gray;\n",
       "  /* Definition of color scheme for unfitted estimators */\n",
       "  --sklearn-color-unfitted-level-0: #fff5e6;\n",
       "  --sklearn-color-unfitted-level-1: #f6e4d2;\n",
       "  --sklearn-color-unfitted-level-2: #ffe0b3;\n",
       "  --sklearn-color-unfitted-level-3: chocolate;\n",
       "  /* Definition of color scheme for fitted estimators */\n",
       "  --sklearn-color-fitted-level-0: #f0f8ff;\n",
       "  --sklearn-color-fitted-level-1: #d4ebff;\n",
       "  --sklearn-color-fitted-level-2: #b3dbfd;\n",
       "  --sklearn-color-fitted-level-3: cornflowerblue;\n",
       "\n",
       "  /* Specific color for light theme */\n",
       "  --sklearn-color-text-on-default-background: var(--sg-text-color, var(--theme-code-foreground, var(--jp-content-font-color1, black)));\n",
       "  --sklearn-color-background: var(--sg-background-color, var(--theme-background, var(--jp-layout-color0, white)));\n",
       "  --sklearn-color-border-box: var(--sg-text-color, var(--theme-code-foreground, var(--jp-content-font-color1, black)));\n",
       "  --sklearn-color-icon: #696969;\n",
       "\n",
       "  @media (prefers-color-scheme: dark) {\n",
       "    /* Redefinition of color scheme for dark theme */\n",
       "    --sklearn-color-text-on-default-background: var(--sg-text-color, var(--theme-code-foreground, var(--jp-content-font-color1, white)));\n",
       "    --sklearn-color-background: var(--sg-background-color, var(--theme-background, var(--jp-layout-color0, #111)));\n",
       "    --sklearn-color-border-box: var(--sg-text-color, var(--theme-code-foreground, var(--jp-content-font-color1, white)));\n",
       "    --sklearn-color-icon: #878787;\n",
       "  }\n",
       "}\n",
       "\n",
       "#sk-container-id-1 {\n",
       "  color: var(--sklearn-color-text);\n",
       "}\n",
       "\n",
       "#sk-container-id-1 pre {\n",
       "  padding: 0;\n",
       "}\n",
       "\n",
       "#sk-container-id-1 input.sk-hidden--visually {\n",
       "  border: 0;\n",
       "  clip: rect(1px 1px 1px 1px);\n",
       "  clip: rect(1px, 1px, 1px, 1px);\n",
       "  height: 1px;\n",
       "  margin: -1px;\n",
       "  overflow: hidden;\n",
       "  padding: 0;\n",
       "  position: absolute;\n",
       "  width: 1px;\n",
       "}\n",
       "\n",
       "#sk-container-id-1 div.sk-dashed-wrapped {\n",
       "  border: 1px dashed var(--sklearn-color-line);\n",
       "  margin: 0 0.4em 0.5em 0.4em;\n",
       "  box-sizing: border-box;\n",
       "  padding-bottom: 0.4em;\n",
       "  background-color: var(--sklearn-color-background);\n",
       "}\n",
       "\n",
       "#sk-container-id-1 div.sk-container {\n",
       "  /* jupyter's `normalize.less` sets `[hidden] { display: none; }`\n",
       "     but bootstrap.min.css set `[hidden] { display: none !important; }`\n",
       "     so we also need the `!important` here to be able to override the\n",
       "     default hidden behavior on the sphinx rendered scikit-learn.org.\n",
       "     See: https://github.com/scikit-learn/scikit-learn/issues/21755 */\n",
       "  display: inline-block !important;\n",
       "  position: relative;\n",
       "}\n",
       "\n",
       "#sk-container-id-1 div.sk-text-repr-fallback {\n",
       "  display: none;\n",
       "}\n",
       "\n",
       "div.sk-parallel-item,\n",
       "div.sk-serial,\n",
       "div.sk-item {\n",
       "  /* draw centered vertical line to link estimators */\n",
       "  background-image: linear-gradient(var(--sklearn-color-text-on-default-background), var(--sklearn-color-text-on-default-background));\n",
       "  background-size: 2px 100%;\n",
       "  background-repeat: no-repeat;\n",
       "  background-position: center center;\n",
       "}\n",
       "\n",
       "/* Parallel-specific style estimator block */\n",
       "\n",
       "#sk-container-id-1 div.sk-parallel-item::after {\n",
       "  content: \"\";\n",
       "  width: 100%;\n",
       "  border-bottom: 2px solid var(--sklearn-color-text-on-default-background);\n",
       "  flex-grow: 1;\n",
       "}\n",
       "\n",
       "#sk-container-id-1 div.sk-parallel {\n",
       "  display: flex;\n",
       "  align-items: stretch;\n",
       "  justify-content: center;\n",
       "  background-color: var(--sklearn-color-background);\n",
       "  position: relative;\n",
       "}\n",
       "\n",
       "#sk-container-id-1 div.sk-parallel-item {\n",
       "  display: flex;\n",
       "  flex-direction: column;\n",
       "}\n",
       "\n",
       "#sk-container-id-1 div.sk-parallel-item:first-child::after {\n",
       "  align-self: flex-end;\n",
       "  width: 50%;\n",
       "}\n",
       "\n",
       "#sk-container-id-1 div.sk-parallel-item:last-child::after {\n",
       "  align-self: flex-start;\n",
       "  width: 50%;\n",
       "}\n",
       "\n",
       "#sk-container-id-1 div.sk-parallel-item:only-child::after {\n",
       "  width: 0;\n",
       "}\n",
       "\n",
       "/* Serial-specific style estimator block */\n",
       "\n",
       "#sk-container-id-1 div.sk-serial {\n",
       "  display: flex;\n",
       "  flex-direction: column;\n",
       "  align-items: center;\n",
       "  background-color: var(--sklearn-color-background);\n",
       "  padding-right: 1em;\n",
       "  padding-left: 1em;\n",
       "}\n",
       "\n",
       "\n",
       "/* Toggleable style: style used for estimator/Pipeline/ColumnTransformer box that is\n",
       "clickable and can be expanded/collapsed.\n",
       "- Pipeline and ColumnTransformer use this feature and define the default style\n",
       "- Estimators will overwrite some part of the style using the `sk-estimator` class\n",
       "*/\n",
       "\n",
       "/* Pipeline and ColumnTransformer style (default) */\n",
       "\n",
       "#sk-container-id-1 div.sk-toggleable {\n",
       "  /* Default theme specific background. It is overwritten whether we have a\n",
       "  specific estimator or a Pipeline/ColumnTransformer */\n",
       "  background-color: var(--sklearn-color-background);\n",
       "}\n",
       "\n",
       "/* Toggleable label */\n",
       "#sk-container-id-1 label.sk-toggleable__label {\n",
       "  cursor: pointer;\n",
       "  display: flex;\n",
       "  width: 100%;\n",
       "  margin-bottom: 0;\n",
       "  padding: 0.5em;\n",
       "  box-sizing: border-box;\n",
       "  text-align: center;\n",
       "  align-items: start;\n",
       "  justify-content: space-between;\n",
       "  gap: 0.5em;\n",
       "}\n",
       "\n",
       "#sk-container-id-1 label.sk-toggleable__label .caption {\n",
       "  font-size: 0.6rem;\n",
       "  font-weight: lighter;\n",
       "  color: var(--sklearn-color-text-muted);\n",
       "}\n",
       "\n",
       "#sk-container-id-1 label.sk-toggleable__label-arrow:before {\n",
       "  /* Arrow on the left of the label */\n",
       "  content: \"▸\";\n",
       "  float: left;\n",
       "  margin-right: 0.25em;\n",
       "  color: var(--sklearn-color-icon);\n",
       "}\n",
       "\n",
       "#sk-container-id-1 label.sk-toggleable__label-arrow:hover:before {\n",
       "  color: var(--sklearn-color-text);\n",
       "}\n",
       "\n",
       "/* Toggleable content - dropdown */\n",
       "\n",
       "#sk-container-id-1 div.sk-toggleable__content {\n",
       "  max-height: 0;\n",
       "  max-width: 0;\n",
       "  overflow: hidden;\n",
       "  text-align: left;\n",
       "  /* unfitted */\n",
       "  background-color: var(--sklearn-color-unfitted-level-0);\n",
       "}\n",
       "\n",
       "#sk-container-id-1 div.sk-toggleable__content.fitted {\n",
       "  /* fitted */\n",
       "  background-color: var(--sklearn-color-fitted-level-0);\n",
       "}\n",
       "\n",
       "#sk-container-id-1 div.sk-toggleable__content pre {\n",
       "  margin: 0.2em;\n",
       "  border-radius: 0.25em;\n",
       "  color: var(--sklearn-color-text);\n",
       "  /* unfitted */\n",
       "  background-color: var(--sklearn-color-unfitted-level-0);\n",
       "}\n",
       "\n",
       "#sk-container-id-1 div.sk-toggleable__content.fitted pre {\n",
       "  /* unfitted */\n",
       "  background-color: var(--sklearn-color-fitted-level-0);\n",
       "}\n",
       "\n",
       "#sk-container-id-1 input.sk-toggleable__control:checked~div.sk-toggleable__content {\n",
       "  /* Expand drop-down */\n",
       "  max-height: 200px;\n",
       "  max-width: 100%;\n",
       "  overflow: auto;\n",
       "}\n",
       "\n",
       "#sk-container-id-1 input.sk-toggleable__control:checked~label.sk-toggleable__label-arrow:before {\n",
       "  content: \"▾\";\n",
       "}\n",
       "\n",
       "/* Pipeline/ColumnTransformer-specific style */\n",
       "\n",
       "#sk-container-id-1 div.sk-label input.sk-toggleable__control:checked~label.sk-toggleable__label {\n",
       "  color: var(--sklearn-color-text);\n",
       "  background-color: var(--sklearn-color-unfitted-level-2);\n",
       "}\n",
       "\n",
       "#sk-container-id-1 div.sk-label.fitted input.sk-toggleable__control:checked~label.sk-toggleable__label {\n",
       "  background-color: var(--sklearn-color-fitted-level-2);\n",
       "}\n",
       "\n",
       "/* Estimator-specific style */\n",
       "\n",
       "/* Colorize estimator box */\n",
       "#sk-container-id-1 div.sk-estimator input.sk-toggleable__control:checked~label.sk-toggleable__label {\n",
       "  /* unfitted */\n",
       "  background-color: var(--sklearn-color-unfitted-level-2);\n",
       "}\n",
       "\n",
       "#sk-container-id-1 div.sk-estimator.fitted input.sk-toggleable__control:checked~label.sk-toggleable__label {\n",
       "  /* fitted */\n",
       "  background-color: var(--sklearn-color-fitted-level-2);\n",
       "}\n",
       "\n",
       "#sk-container-id-1 div.sk-label label.sk-toggleable__label,\n",
       "#sk-container-id-1 div.sk-label label {\n",
       "  /* The background is the default theme color */\n",
       "  color: var(--sklearn-color-text-on-default-background);\n",
       "}\n",
       "\n",
       "/* On hover, darken the color of the background */\n",
       "#sk-container-id-1 div.sk-label:hover label.sk-toggleable__label {\n",
       "  color: var(--sklearn-color-text);\n",
       "  background-color: var(--sklearn-color-unfitted-level-2);\n",
       "}\n",
       "\n",
       "/* Label box, darken color on hover, fitted */\n",
       "#sk-container-id-1 div.sk-label.fitted:hover label.sk-toggleable__label.fitted {\n",
       "  color: var(--sklearn-color-text);\n",
       "  background-color: var(--sklearn-color-fitted-level-2);\n",
       "}\n",
       "\n",
       "/* Estimator label */\n",
       "\n",
       "#sk-container-id-1 div.sk-label label {\n",
       "  font-family: monospace;\n",
       "  font-weight: bold;\n",
       "  display: inline-block;\n",
       "  line-height: 1.2em;\n",
       "}\n",
       "\n",
       "#sk-container-id-1 div.sk-label-container {\n",
       "  text-align: center;\n",
       "}\n",
       "\n",
       "/* Estimator-specific */\n",
       "#sk-container-id-1 div.sk-estimator {\n",
       "  font-family: monospace;\n",
       "  border: 1px dotted var(--sklearn-color-border-box);\n",
       "  border-radius: 0.25em;\n",
       "  box-sizing: border-box;\n",
       "  margin-bottom: 0.5em;\n",
       "  /* unfitted */\n",
       "  background-color: var(--sklearn-color-unfitted-level-0);\n",
       "}\n",
       "\n",
       "#sk-container-id-1 div.sk-estimator.fitted {\n",
       "  /* fitted */\n",
       "  background-color: var(--sklearn-color-fitted-level-0);\n",
       "}\n",
       "\n",
       "/* on hover */\n",
       "#sk-container-id-1 div.sk-estimator:hover {\n",
       "  /* unfitted */\n",
       "  background-color: var(--sklearn-color-unfitted-level-2);\n",
       "}\n",
       "\n",
       "#sk-container-id-1 div.sk-estimator.fitted:hover {\n",
       "  /* fitted */\n",
       "  background-color: var(--sklearn-color-fitted-level-2);\n",
       "}\n",
       "\n",
       "/* Specification for estimator info (e.g. \"i\" and \"?\") */\n",
       "\n",
       "/* Common style for \"i\" and \"?\" */\n",
       "\n",
       ".sk-estimator-doc-link,\n",
       "a:link.sk-estimator-doc-link,\n",
       "a:visited.sk-estimator-doc-link {\n",
       "  float: right;\n",
       "  font-size: smaller;\n",
       "  line-height: 1em;\n",
       "  font-family: monospace;\n",
       "  background-color: var(--sklearn-color-background);\n",
       "  border-radius: 1em;\n",
       "  height: 1em;\n",
       "  width: 1em;\n",
       "  text-decoration: none !important;\n",
       "  margin-left: 0.5em;\n",
       "  text-align: center;\n",
       "  /* unfitted */\n",
       "  border: var(--sklearn-color-unfitted-level-1) 1pt solid;\n",
       "  color: var(--sklearn-color-unfitted-level-1);\n",
       "}\n",
       "\n",
       ".sk-estimator-doc-link.fitted,\n",
       "a:link.sk-estimator-doc-link.fitted,\n",
       "a:visited.sk-estimator-doc-link.fitted {\n",
       "  /* fitted */\n",
       "  border: var(--sklearn-color-fitted-level-1) 1pt solid;\n",
       "  color: var(--sklearn-color-fitted-level-1);\n",
       "}\n",
       "\n",
       "/* On hover */\n",
       "div.sk-estimator:hover .sk-estimator-doc-link:hover,\n",
       ".sk-estimator-doc-link:hover,\n",
       "div.sk-label-container:hover .sk-estimator-doc-link:hover,\n",
       ".sk-estimator-doc-link:hover {\n",
       "  /* unfitted */\n",
       "  background-color: var(--sklearn-color-unfitted-level-3);\n",
       "  color: var(--sklearn-color-background);\n",
       "  text-decoration: none;\n",
       "}\n",
       "\n",
       "div.sk-estimator.fitted:hover .sk-estimator-doc-link.fitted:hover,\n",
       ".sk-estimator-doc-link.fitted:hover,\n",
       "div.sk-label-container:hover .sk-estimator-doc-link.fitted:hover,\n",
       ".sk-estimator-doc-link.fitted:hover {\n",
       "  /* fitted */\n",
       "  background-color: var(--sklearn-color-fitted-level-3);\n",
       "  color: var(--sklearn-color-background);\n",
       "  text-decoration: none;\n",
       "}\n",
       "\n",
       "/* Span, style for the box shown on hovering the info icon */\n",
       ".sk-estimator-doc-link span {\n",
       "  display: none;\n",
       "  z-index: 9999;\n",
       "  position: relative;\n",
       "  font-weight: normal;\n",
       "  right: .2ex;\n",
       "  padding: .5ex;\n",
       "  margin: .5ex;\n",
       "  width: min-content;\n",
       "  min-width: 20ex;\n",
       "  max-width: 50ex;\n",
       "  color: var(--sklearn-color-text);\n",
       "  box-shadow: 2pt 2pt 4pt #999;\n",
       "  /* unfitted */\n",
       "  background: var(--sklearn-color-unfitted-level-0);\n",
       "  border: .5pt solid var(--sklearn-color-unfitted-level-3);\n",
       "}\n",
       "\n",
       ".sk-estimator-doc-link.fitted span {\n",
       "  /* fitted */\n",
       "  background: var(--sklearn-color-fitted-level-0);\n",
       "  border: var(--sklearn-color-fitted-level-3);\n",
       "}\n",
       "\n",
       ".sk-estimator-doc-link:hover span {\n",
       "  display: block;\n",
       "}\n",
       "\n",
       "/* \"?\"-specific style due to the `<a>` HTML tag */\n",
       "\n",
       "#sk-container-id-1 a.estimator_doc_link {\n",
       "  float: right;\n",
       "  font-size: 1rem;\n",
       "  line-height: 1em;\n",
       "  font-family: monospace;\n",
       "  background-color: var(--sklearn-color-background);\n",
       "  border-radius: 1rem;\n",
       "  height: 1rem;\n",
       "  width: 1rem;\n",
       "  text-decoration: none;\n",
       "  /* unfitted */\n",
       "  color: var(--sklearn-color-unfitted-level-1);\n",
       "  border: var(--sklearn-color-unfitted-level-1) 1pt solid;\n",
       "}\n",
       "\n",
       "#sk-container-id-1 a.estimator_doc_link.fitted {\n",
       "  /* fitted */\n",
       "  border: var(--sklearn-color-fitted-level-1) 1pt solid;\n",
       "  color: var(--sklearn-color-fitted-level-1);\n",
       "}\n",
       "\n",
       "/* On hover */\n",
       "#sk-container-id-1 a.estimator_doc_link:hover {\n",
       "  /* unfitted */\n",
       "  background-color: var(--sklearn-color-unfitted-level-3);\n",
       "  color: var(--sklearn-color-background);\n",
       "  text-decoration: none;\n",
       "}\n",
       "\n",
       "#sk-container-id-1 a.estimator_doc_link.fitted:hover {\n",
       "  /* fitted */\n",
       "  background-color: var(--sklearn-color-fitted-level-3);\n",
       "}\n",
       "</style><div id=\"sk-container-id-1\" class=\"sk-top-container\"><div class=\"sk-text-repr-fallback\"><pre>XGBClassifier(base_score=None, booster=None, callbacks=None,\n",
       "              colsample_bylevel=None, colsample_bynode=None,\n",
       "              colsample_bytree=None, device=None, early_stopping_rounds=None,\n",
       "              enable_categorical=False, eval_metric=&#x27;logloss&#x27;,\n",
       "              feature_types=None, feature_weights=None, gamma=None,\n",
       "              grow_policy=None, importance_type=None,\n",
       "              interaction_constraints=None, learning_rate=0.1, max_bin=None,\n",
       "              max_cat_threshold=None, max_cat_to_onehot=None,\n",
       "              max_delta_step=None, max_depth=6, max_leaves=None,\n",
       "              min_child_weight=None, missing=nan, monotone_constraints=None,\n",
       "              multi_strategy=None, n_estimators=100, n_jobs=None,\n",
       "              num_parallel_tree=None, ...)</pre><b>In a Jupyter environment, please rerun this cell to show the HTML representation or trust the notebook. <br />On GitHub, the HTML representation is unable to render, please try loading this page with nbviewer.org.</b></div><div class=\"sk-container\" hidden><div class=\"sk-item\"><div class=\"sk-estimator fitted sk-toggleable\"><input class=\"sk-toggleable__control sk-hidden--visually\" id=\"sk-estimator-id-1\" type=\"checkbox\" checked><label for=\"sk-estimator-id-1\" class=\"sk-toggleable__label fitted sk-toggleable__label-arrow\"><div><div>XGBClassifier</div></div><div><a class=\"sk-estimator-doc-link fitted\" rel=\"noreferrer\" target=\"_blank\" href=\"https://xgboost.readthedocs.io/en/release_3.0.0/python/python_api.html#xgboost.XGBClassifier\">?<span>Documentation for XGBClassifier</span></a><span class=\"sk-estimator-doc-link fitted\">i<span>Fitted</span></span></div></label><div class=\"sk-toggleable__content fitted\"><pre>XGBClassifier(base_score=None, booster=None, callbacks=None,\n",
       "              colsample_bylevel=None, colsample_bynode=None,\n",
       "              colsample_bytree=None, device=None, early_stopping_rounds=None,\n",
       "              enable_categorical=False, eval_metric=&#x27;logloss&#x27;,\n",
       "              feature_types=None, feature_weights=None, gamma=None,\n",
       "              grow_policy=None, importance_type=None,\n",
       "              interaction_constraints=None, learning_rate=0.1, max_bin=None,\n",
       "              max_cat_threshold=None, max_cat_to_onehot=None,\n",
       "              max_delta_step=None, max_depth=6, max_leaves=None,\n",
       "              min_child_weight=None, missing=nan, monotone_constraints=None,\n",
       "              multi_strategy=None, n_estimators=100, n_jobs=None,\n",
       "              num_parallel_tree=None, ...)</pre></div> </div></div></div></div>"
      ],
      "text/plain": [
       "XGBClassifier(base_score=None, booster=None, callbacks=None,\n",
       "              colsample_bylevel=None, colsample_bynode=None,\n",
       "              colsample_bytree=None, device=None, early_stopping_rounds=None,\n",
       "              enable_categorical=False, eval_metric='logloss',\n",
       "              feature_types=None, feature_weights=None, gamma=None,\n",
       "              grow_policy=None, importance_type=None,\n",
       "              interaction_constraints=None, learning_rate=0.1, max_bin=None,\n",
       "              max_cat_threshold=None, max_cat_to_onehot=None,\n",
       "              max_delta_step=None, max_depth=6, max_leaves=None,\n",
       "              min_child_weight=None, missing=nan, monotone_constraints=None,\n",
       "              multi_strategy=None, n_estimators=100, n_jobs=None,\n",
       "              num_parallel_tree=None, ...)"
      ]
     },
     "execution_count": 89,
     "metadata": {},
     "output_type": "execute_result"
    }
   ],
   "source": [
    "# Instantiate the model\n",
    "xgb_model = xgb.XGBClassifier(\n",
    "    objective='binary:logistic',\n",
    "    eval_metric='logloss',\n",
    "    use_label_encoder=False,\n",
    "    scale_pos_weight=1,  # tune this if data is imbalanced\n",
    "    n_estimators=100,\n",
    "    max_depth=6,\n",
    "    learning_rate=0.1,\n",
    "    random_state=42\n",
    ")\n",
    "\n",
    "# Fit the model\n",
    "xgb_model.fit(X_train, y_train)\n"
   ]
  },
  {
   "cell_type": "code",
   "execution_count": 90,
   "id": "84a7454c",
   "metadata": {
    "id": "84a7454c",
    "outputId": "445750fc-5d92-4267-d851-b182e838f3b6"
   },
   "outputs": [
    {
     "name": "stdout",
     "output_type": "stream",
     "text": [
      "Classification Report - XGBoost: Bad Loans Model\n",
      "              precision    recall  f1-score   support\n",
      "\n",
      "           0     0.7399    0.7926    0.7654     81106\n",
      "           1     0.5960    0.5234    0.5573     47402\n",
      "\n",
      "    accuracy                         0.6933    128508\n",
      "   macro avg     0.6680    0.6580    0.6613    128508\n",
      "weighted avg     0.6868    0.6933    0.6886    128508\n",
      "\n",
      "Confusion Matrix:\n",
      " [[64287 16819]\n",
      " [22594 24808]]\n"
     ]
    },
    {
     "data": {
      "image/png": "[encoded data removed]",
      "text/plain": [
       "<Figure size 600x500 with 2 Axes>"
      ]
     },
     "metadata": {},
     "output_type": "display_data"
    }
   ],
   "source": [
    "\n",
    "# # Neural network prediction\n",
    "# nn_probs = nn.predict(X_test).flatten()\n",
    "# nn_pred = (nn_probs >= 0.45).astype(int)\n",
    "\n",
    "# XGBoost prediction\n",
    "xgb_probs = xgb_model.predict_proba(X_test)[:, 1]\n",
    "xgb_pred = (xgb_probs >= 0.45).astype(int)\n",
    "\n",
    "# # NN Evaluation\n",
    "# print(\"Classification Report - Neural Network:\")\n",
    "# print(classification_report(y_test, nn_pred, digits=4))\n",
    "# print(\"Confusion Matrix:\\n\", confusion_matrix(y_test, nn_pred))\n",
    "\n",
    "# XGBoost Evaluation\n",
    "print(\"Classification Report - XGBoost: Bad Loans Model\")\n",
    "print(classification_report(y_test, xgb_pred, digits=4))\n",
    "print(\"Confusion Matrix:\\n\", confusion_matrix(y_test, xgb_pred))\n",
    "\n",
    "# plot confusion matrix for xgboost\n",
    "# Bad Loan: 1 = 'D', 0 = 'E'/'F'/'G'\n",
    "labels = [\"D\", \"E/F/G\"]\n",
    "cm = confusion_matrix(y_test, xgb_pred)\n",
    "plt.figure(figsize=(6, 5))\n",
    "sns.heatmap(cm, annot=True, fmt='d', cmap='Blues', xticklabels=labels, yticklabels=labels)\n",
    "plt.xlabel('Predicted')\n",
    "plt.ylabel('Actual')\n",
    "plt.title('Confusion Matrix - Bad Loan Model (XGBoost)')\n",
    "plt.tight_layout()\n",
    "plt.show()"
   ]
  },
  {
   "cell_type": "code",
   "execution_count": null,
   "id": "ee2c5e02",
   "metadata": {
    "id": "ee2c5e02"
   },
   "outputs": [],
   "source": [
    "# save the model\n",
    "#xgb_model.save_model(\"models/Bad_Loan_Model.json\")"
   ]
  },
  {
   "cell_type": "code",
   "execution_count": null,
   "id": "64bd54fd",
   "metadata": {},
   "outputs": [],
   "source": [
    "# Close database connection\n",
    "engine.dispose()"
   ]
  }
 ],
 "metadata": {
  "colab": {
   "provenance": []
  },
  "kernelspec": {
   "display_name": "dev",
   "language": "python",
   "name": "python3"
  },
  "language_info": {
   "codemirror_mode": {
    "name": "ipython",
    "version": 3
   },
   "file_extension": ".py",
   "mimetype": "text/x-python",
   "name": "python",
   "nbconvert_exporter": "python",
   "pygments_lexer": "ipython3",
   "version": "3.10.8"
  }
 },
 "nbformat": 4,
 "nbformat_minor": 5
}
