{
 "cells": [
  {
   "cell_type": "code",
   "execution_count": 1,
   "metadata": {
    "id": "MsG9CC1zSlxv"
   },
   "outputs": [
    {
     "name": "stdout",
     "output_type": "stream",
     "text": [
      "Requirement already satisfied: psycopg2-binary in c:\\users\\seyhr\\anaconda3\\envs\\dev\\lib\\site-packages (2.9.10)\n"
     ]
    }
   ],
   "source": [
    "! pip install psycopg2-binary\n",
    "# Import dependencies\n",
    "import pandas as pd # Data manipulation\n",
    "import numpy as np\n",
    "from sklearn.ensemble import RandomForestClassifier\n",
    "from sklearn.preprocessing import StandardScaler\n",
    "from sklearn.model_selection import train_test_split,GridSearchCV,RandomizedSearchCV\n",
    "from sklearn.metrics import confusion_matrix, accuracy_score, classification_report\n",
    "from sklearn.utils.class_weight import compute_class_weight\n",
    "from sklearn.linear_model import Perceptron, LogisticRegression\n",
    "from sklearn.impute import SimpleImputer\n",
    "from imblearn.over_sampling import SMOTE\n",
    "import matplotlib.pyplot as plt\n",
    "import seaborn as sns\n",
    "import joblib\n",
    "import xgboost as xgb\n",
    "import psycopg2\n",
    "import json\n",
    "from sqlalchemy import create_engine"
   ]
  },
  {
   "cell_type": "markdown",
   "metadata": {
    "id": "KTtT-qxURfas"
   },
   "source": [
    "**Loading and Preprocessing Loans Encoded Data**"
   ]
  },
  {
   "cell_type": "code",
   "execution_count": 2,
   "metadata": {},
   "outputs": [],
   "source": [
    "# Load credentials\n",
    "with open(\"../../db_config.json\") as f:\n",
    "    config = json.load(f)\n"
   ]
  },
  {
   "cell_type": "code",
   "execution_count": 5,
   "metadata": {
    "colab": {
     "base_uri": "https://localhost:8080/",
     "height": 342
    },
    "executionInfo": {
     "elapsed": 21024,
     "status": "ok",
     "timestamp": 1744648101959,
     "user": {
      "displayName": "Seyhr Waqas",
      "userId": "14453900050839945906"
     },
     "user_tz": 240
    },
    "id": "97NhEgRhSyrd",
    "outputId": "e54f3a5a-d1cb-4761-eb9d-8693f37a4158"
   },
   "outputs": [],
   "source": [
    "# Connect to PostgreSQL\n",
    "conn = psycopg2.connect(\n",
    "    host=config[\"host\"],\n",
    "    port=config[\"port\"],\n",
    "    database=config[\"database\"],\n",
    "    user=config[\"user\"],\n",
    "    password=config[\"password\"]\n",
    ")\n",
    "\n",
    "# Create SQLAlchemy engine\n",
    "engine = create_engine(f\"postgresql+psycopg2://{config['user']}:{config['password']}@{config['host']}:{config['port']}/{config['database']}\")\n"
   ]
  },
  {
   "cell_type": "code",
   "execution_count": 6,
   "metadata": {},
   "outputs": [
    {
     "data": {
      "application/vnd.microsoft.datawrangler.viewer.v0+json": {
       "columns": [
        {
         "name": "index",
         "rawType": "int64",
         "type": "integer"
        },
        {
         "name": "member_id",
         "rawType": "int64",
         "type": "integer"
        },
        {
         "name": "home_ownership",
         "rawType": "object",
         "type": "string"
        },
        {
         "name": "merged_annual_inc",
         "rawType": "float64",
         "type": "float"
        },
        {
         "name": "merged_dti",
         "rawType": "float64",
         "type": "float"
        },
        {
         "name": "emp_length_grouped",
         "rawType": "object",
         "type": "string"
        },
        {
         "name": "clean_verification_status",
         "rawType": "object",
         "type": "string"
        },
        {
         "name": "merged_purpose",
         "rawType": "object",
         "type": "string"
        }
       ],
       "conversionMethod": "pd.DataFrame",
       "ref": "63416901-e2a0-4ab6-9086-24d8ca647694",
       "rows": [
        [
         "0",
         "1",
         "RENT",
         "55000.0",
         "18.24",
         "10+ years",
         "Not Verified",
         "Debt-related"
        ],
        [
         "1",
         "3",
         "MORTGAGE",
         "59280.0",
         "10.51",
         "4-6 years",
         "Verified",
         "Debt-related"
        ],
        [
         "2",
         "5",
         "MORTGAGE",
         "57250.0",
         "26.35",
         "10+ years",
         "Not Verified",
         "Debt-related"
        ],
        [
         "3",
         "6",
         "MORTGAGE",
         "152500.0",
         "37.94",
         "10+ years",
         "Not Verified",
         "Debt-related"
        ],
        [
         "4",
         "9",
         "MORTGAGE",
         "53580.0",
         "21.16",
         "10+ years",
         "Verified",
         "Debt-related"
        ]
       ],
       "shape": {
        "columns": 7,
        "rows": 5
       }
      },
      "text/html": [
       "<div>\n",
       "<style scoped>\n",
       "    .dataframe tbody tr th:only-of-type {\n",
       "        vertical-align: middle;\n",
       "    }\n",
       "\n",
       "    .dataframe tbody tr th {\n",
       "        vertical-align: top;\n",
       "    }\n",
       "\n",
       "    .dataframe thead th {\n",
       "        text-align: right;\n",
       "    }\n",
       "</style>\n",
       "<table border=\"1\" class=\"dataframe\">\n",
       "  <thead>\n",
       "    <tr style=\"text-align: right;\">\n",
       "      <th></th>\n",
       "      <th>member_id</th>\n",
       "      <th>home_ownership</th>\n",
       "      <th>merged_annual_inc</th>\n",
       "      <th>merged_dti</th>\n",
       "      <th>emp_length_grouped</th>\n",
       "      <th>clean_verification_status</th>\n",
       "      <th>merged_purpose</th>\n",
       "    </tr>\n",
       "  </thead>\n",
       "  <tbody>\n",
       "    <tr>\n",
       "      <th>0</th>\n",
       "      <td>1</td>\n",
       "      <td>RENT</td>\n",
       "      <td>55000.0</td>\n",
       "      <td>18.24</td>\n",
       "      <td>10+ years</td>\n",
       "      <td>Not Verified</td>\n",
       "      <td>Debt-related</td>\n",
       "    </tr>\n",
       "    <tr>\n",
       "      <th>1</th>\n",
       "      <td>3</td>\n",
       "      <td>MORTGAGE</td>\n",
       "      <td>59280.0</td>\n",
       "      <td>10.51</td>\n",
       "      <td>4-6 years</td>\n",
       "      <td>Verified</td>\n",
       "      <td>Debt-related</td>\n",
       "    </tr>\n",
       "    <tr>\n",
       "      <th>2</th>\n",
       "      <td>5</td>\n",
       "      <td>MORTGAGE</td>\n",
       "      <td>57250.0</td>\n",
       "      <td>26.35</td>\n",
       "      <td>10+ years</td>\n",
       "      <td>Not Verified</td>\n",
       "      <td>Debt-related</td>\n",
       "    </tr>\n",
       "    <tr>\n",
       "      <th>3</th>\n",
       "      <td>6</td>\n",
       "      <td>MORTGAGE</td>\n",
       "      <td>152500.0</td>\n",
       "      <td>37.94</td>\n",
       "      <td>10+ years</td>\n",
       "      <td>Not Verified</td>\n",
       "      <td>Debt-related</td>\n",
       "    </tr>\n",
       "    <tr>\n",
       "      <th>4</th>\n",
       "      <td>9</td>\n",
       "      <td>MORTGAGE</td>\n",
       "      <td>53580.0</td>\n",
       "      <td>21.16</td>\n",
       "      <td>10+ years</td>\n",
       "      <td>Verified</td>\n",
       "      <td>Debt-related</td>\n",
       "    </tr>\n",
       "  </tbody>\n",
       "</table>\n",
       "</div>"
      ],
      "text/plain": [
       "   member_id home_ownership  merged_annual_inc  merged_dti emp_length_grouped  \\\n",
       "0          1           RENT            55000.0       18.24          10+ years   \n",
       "1          3       MORTGAGE            59280.0       10.51          4-6 years   \n",
       "2          5       MORTGAGE            57250.0       26.35          10+ years   \n",
       "3          6       MORTGAGE           152500.0       37.94          10+ years   \n",
       "4          9       MORTGAGE            53580.0       21.16          10+ years   \n",
       "\n",
       "  clean_verification_status merged_purpose  \n",
       "0              Not Verified   Debt-related  \n",
       "1                  Verified   Debt-related  \n",
       "2              Not Verified   Debt-related  \n",
       "3              Not Verified   Debt-related  \n",
       "4                  Verified   Debt-related  "
      ]
     },
     "execution_count": 6,
     "metadata": {},
     "output_type": "execute_result"
    }
   ],
   "source": [
    "df_borrower = pd.read_sql(\"SELECT * FROM borrower_info;\", engine)\n",
    "df_borrower.head()"
   ]
  },
  {
   "cell_type": "code",
   "execution_count": 7,
   "metadata": {},
   "outputs": [
    {
     "data": {
      "application/vnd.microsoft.datawrangler.viewer.v0+json": {
       "columns": [
        {
         "name": "index",
         "rawType": "int64",
         "type": "integer"
        },
        {
         "name": "loan_id",
         "rawType": "object",
         "type": "string"
        },
        {
         "name": "member_id",
         "rawType": "int64",
         "type": "integer"
        },
        {
         "name": "funded_amnt",
         "rawType": "int64",
         "type": "integer"
        },
        {
         "name": "term",
         "rawType": "object",
         "type": "string"
        },
        {
         "name": "int_rate",
         "rawType": "float64",
         "type": "float"
        },
        {
         "name": "grade",
         "rawType": "object",
         "type": "string"
        },
        {
         "name": "loan_status",
         "rawType": "object",
         "type": "string"
        }
       ],
       "conversionMethod": "pd.DataFrame",
       "ref": "d1d39851-7e2e-455a-aa16-d5720606f952",
       "rows": [
        [
         "0",
         "loan1",
         "1",
         "2500",
         " 36 months",
         "13.56",
         "C",
         "Current"
        ],
        [
         "1",
         "loan2",
         "2",
         "30000",
         " 60 months",
         "18.94",
         "D",
         "Current"
        ],
        [
         "2",
         "loan3",
         "3",
         "5000",
         " 36 months",
         "17.97",
         "D",
         "Current"
        ],
        [
         "3",
         "loan4",
         "4",
         "4000",
         " 36 months",
         "18.94",
         "D",
         "Current"
        ],
        [
         "4",
         "loan5",
         "5",
         "30000",
         " 60 months",
         "16.14",
         "C",
         "Current"
        ]
       ],
       "shape": {
        "columns": 7,
        "rows": 5
       }
      },
      "text/html": [
       "<div>\n",
       "<style scoped>\n",
       "    .dataframe tbody tr th:only-of-type {\n",
       "        vertical-align: middle;\n",
       "    }\n",
       "\n",
       "    .dataframe tbody tr th {\n",
       "        vertical-align: top;\n",
       "    }\n",
       "\n",
       "    .dataframe thead th {\n",
       "        text-align: right;\n",
       "    }\n",
       "</style>\n",
       "<table border=\"1\" class=\"dataframe\">\n",
       "  <thead>\n",
       "    <tr style=\"text-align: right;\">\n",
       "      <th></th>\n",
       "      <th>loan_id</th>\n",
       "      <th>member_id</th>\n",
       "      <th>funded_amnt</th>\n",
       "      <th>term</th>\n",
       "      <th>int_rate</th>\n",
       "      <th>grade</th>\n",
       "      <th>loan_status</th>\n",
       "    </tr>\n",
       "  </thead>\n",
       "  <tbody>\n",
       "    <tr>\n",
       "      <th>0</th>\n",
       "      <td>loan1</td>\n",
       "      <td>1</td>\n",
       "      <td>2500</td>\n",
       "      <td>36 months</td>\n",
       "      <td>13.56</td>\n",
       "      <td>C</td>\n",
       "      <td>Current</td>\n",
       "    </tr>\n",
       "    <tr>\n",
       "      <th>1</th>\n",
       "      <td>loan2</td>\n",
       "      <td>2</td>\n",
       "      <td>30000</td>\n",
       "      <td>60 months</td>\n",
       "      <td>18.94</td>\n",
       "      <td>D</td>\n",
       "      <td>Current</td>\n",
       "    </tr>\n",
       "    <tr>\n",
       "      <th>2</th>\n",
       "      <td>loan3</td>\n",
       "      <td>3</td>\n",
       "      <td>5000</td>\n",
       "      <td>36 months</td>\n",
       "      <td>17.97</td>\n",
       "      <td>D</td>\n",
       "      <td>Current</td>\n",
       "    </tr>\n",
       "    <tr>\n",
       "      <th>3</th>\n",
       "      <td>loan4</td>\n",
       "      <td>4</td>\n",
       "      <td>4000</td>\n",
       "      <td>36 months</td>\n",
       "      <td>18.94</td>\n",
       "      <td>D</td>\n",
       "      <td>Current</td>\n",
       "    </tr>\n",
       "    <tr>\n",
       "      <th>4</th>\n",
       "      <td>loan5</td>\n",
       "      <td>5</td>\n",
       "      <td>30000</td>\n",
       "      <td>60 months</td>\n",
       "      <td>16.14</td>\n",
       "      <td>C</td>\n",
       "      <td>Current</td>\n",
       "    </tr>\n",
       "  </tbody>\n",
       "</table>\n",
       "</div>"
      ],
      "text/plain": [
       "  loan_id  member_id  funded_amnt        term  int_rate grade loan_status\n",
       "0   loan1          1         2500   36 months     13.56     C     Current\n",
       "1   loan2          2        30000   60 months     18.94     D     Current\n",
       "2   loan3          3         5000   36 months     17.97     D     Current\n",
       "3   loan4          4         4000   36 months     18.94     D     Current\n",
       "4   loan5          5        30000   60 months     16.14     C     Current"
      ]
     },
     "execution_count": 7,
     "metadata": {},
     "output_type": "execute_result"
    }
   ],
   "source": [
    "df_loan = pd.read_sql(\"SELECT * FROM loan_info;\", engine)\n",
    "df_loan.head()"
   ]
  },
  {
   "cell_type": "code",
   "execution_count": 8,
   "metadata": {},
   "outputs": [
    {
     "data": {
      "application/vnd.microsoft.datawrangler.viewer.v0+json": {
       "columns": [
        {
         "name": "index",
         "rawType": "int64",
         "type": "integer"
        },
        {
         "name": "loan_id",
         "rawType": "object",
         "type": "string"
        },
        {
         "name": "all_util",
         "rawType": "float64",
         "type": "float"
        },
        {
         "name": "avg_cur_bal",
         "rawType": "float64",
         "type": "float"
        },
        {
         "name": "tot_hi_cred_lim",
         "rawType": "float64",
         "type": "float"
        },
        {
         "name": "total_acc",
         "rawType": "float64",
         "type": "float"
        },
        {
         "name": "total_bal_ex_mort",
         "rawType": "float64",
         "type": "float"
        },
        {
         "name": "total_bc_limit",
         "rawType": "float64",
         "type": "float"
        }
       ],
       "conversionMethod": "pd.DataFrame",
       "ref": "1a739ca8-a6b9-429d-a042-5d254d0cef3e",
       "rows": [
        [
         "0",
         "loan1",
         "28.0",
         "1878.0",
         "60124.0",
         "34.0",
         "16901.0",
         "36500.0"
        ],
        [
         "1",
         "loan2",
         "57.0",
         "24763.0",
         "372872.0",
         "44.0",
         "99468.0",
         "15000.0"
        ],
        [
         "2",
         "loan3",
         "35.0",
         "18383.0",
         "136927.0",
         "13.0",
         "11749.0",
         "13800.0"
        ],
        [
         "3",
         "loan4",
         "70.0",
         "30505.0",
         "385183.0",
         "13.0",
         "36151.0",
         "5000.0"
        ],
        [
         "4",
         "loan5",
         "54.0",
         "9667.0",
         "157548.0",
         "26.0",
         "29674.0",
         "9300.0"
        ]
       ],
       "shape": {
        "columns": 7,
        "rows": 5
       }
      },
      "text/html": [
       "<div>\n",
       "<style scoped>\n",
       "    .dataframe tbody tr th:only-of-type {\n",
       "        vertical-align: middle;\n",
       "    }\n",
       "\n",
       "    .dataframe tbody tr th {\n",
       "        vertical-align: top;\n",
       "    }\n",
       "\n",
       "    .dataframe thead th {\n",
       "        text-align: right;\n",
       "    }\n",
       "</style>\n",
       "<table border=\"1\" class=\"dataframe\">\n",
       "  <thead>\n",
       "    <tr style=\"text-align: right;\">\n",
       "      <th></th>\n",
       "      <th>loan_id</th>\n",
       "      <th>all_util</th>\n",
       "      <th>avg_cur_bal</th>\n",
       "      <th>tot_hi_cred_lim</th>\n",
       "      <th>total_acc</th>\n",
       "      <th>total_bal_ex_mort</th>\n",
       "      <th>total_bc_limit</th>\n",
       "    </tr>\n",
       "  </thead>\n",
       "  <tbody>\n",
       "    <tr>\n",
       "      <th>0</th>\n",
       "      <td>loan1</td>\n",
       "      <td>28.0</td>\n",
       "      <td>1878.0</td>\n",
       "      <td>60124.0</td>\n",
       "      <td>34.0</td>\n",
       "      <td>16901.0</td>\n",
       "      <td>36500.0</td>\n",
       "    </tr>\n",
       "    <tr>\n",
       "      <th>1</th>\n",
       "      <td>loan2</td>\n",
       "      <td>57.0</td>\n",
       "      <td>24763.0</td>\n",
       "      <td>372872.0</td>\n",
       "      <td>44.0</td>\n",
       "      <td>99468.0</td>\n",
       "      <td>15000.0</td>\n",
       "    </tr>\n",
       "    <tr>\n",
       "      <th>2</th>\n",
       "      <td>loan3</td>\n",
       "      <td>35.0</td>\n",
       "      <td>18383.0</td>\n",
       "      <td>136927.0</td>\n",
       "      <td>13.0</td>\n",
       "      <td>11749.0</td>\n",
       "      <td>13800.0</td>\n",
       "    </tr>\n",
       "    <tr>\n",
       "      <th>3</th>\n",
       "      <td>loan4</td>\n",
       "      <td>70.0</td>\n",
       "      <td>30505.0</td>\n",
       "      <td>385183.0</td>\n",
       "      <td>13.0</td>\n",
       "      <td>36151.0</td>\n",
       "      <td>5000.0</td>\n",
       "    </tr>\n",
       "    <tr>\n",
       "      <th>4</th>\n",
       "      <td>loan5</td>\n",
       "      <td>54.0</td>\n",
       "      <td>9667.0</td>\n",
       "      <td>157548.0</td>\n",
       "      <td>26.0</td>\n",
       "      <td>29674.0</td>\n",
       "      <td>9300.0</td>\n",
       "    </tr>\n",
       "  </tbody>\n",
       "</table>\n",
       "</div>"
      ],
      "text/plain": [
       "  loan_id  all_util  avg_cur_bal  tot_hi_cred_lim  total_acc  \\\n",
       "0   loan1      28.0       1878.0          60124.0       34.0   \n",
       "1   loan2      57.0      24763.0         372872.0       44.0   \n",
       "2   loan3      35.0      18383.0         136927.0       13.0   \n",
       "3   loan4      70.0      30505.0         385183.0       13.0   \n",
       "4   loan5      54.0       9667.0         157548.0       26.0   \n",
       "\n",
       "   total_bal_ex_mort  total_bc_limit  \n",
       "0            16901.0         36500.0  \n",
       "1            99468.0         15000.0  \n",
       "2            11749.0         13800.0  \n",
       "3            36151.0          5000.0  \n",
       "4            29674.0          9300.0  "
      ]
     },
     "execution_count": 8,
     "metadata": {},
     "output_type": "execute_result"
    }
   ],
   "source": [
    "df_credit_history = pd.read_sql(\"SELECT * FROM credit_history;\", engine)\n",
    "df_credit_history.head()"
   ]
  },
  {
   "cell_type": "code",
   "execution_count": 9,
   "metadata": {},
   "outputs": [
    {
     "data": {
      "application/vnd.microsoft.datawrangler.viewer.v0+json": {
       "columns": [
        {
         "name": "index",
         "rawType": "int64",
         "type": "integer"
        },
        {
         "name": "loan_id",
         "rawType": "object",
         "type": "string"
        },
        {
         "name": "delinq_amnt",
         "rawType": "float64",
         "type": "float"
        },
        {
         "name": "delinq_bucket",
         "rawType": "object",
         "type": "string"
        },
        {
         "name": "acc_now_delinq_bucketed",
         "rawType": "object",
         "type": "string"
        },
        {
         "name": "delinq_2yrs_bucketed",
         "rawType": "int64",
         "type": "integer"
        },
        {
         "name": "accounts_90d_past_due_24m",
         "rawType": "int64",
         "type": "integer"
        },
        {
         "name": "total_chargeoffs_within_12_mths",
         "rawType": "int64",
         "type": "integer"
        },
        {
         "name": "pub_rec_bankruptcies_bucketed",
         "rawType": "int64",
         "type": "integer"
        },
        {
         "name": "percent_bc_gt_75_bucketed",
         "rawType": "object",
         "type": "string"
        },
        {
         "name": "pct_tl_nvr_dlq_bucketed",
         "rawType": "object",
         "type": "string"
        },
        {
         "name": "open_acc_bucketed",
         "rawType": "object",
         "type": "string"
        }
       ],
       "conversionMethod": "pd.DataFrame",
       "ref": "e11aadb3-e24d-473c-88a8-6fbf551b2480",
       "rows": [
        [
         "0",
         "loan1",
         "0.0",
         "Unknown",
         "No Delinquencies",
         "0",
         "0",
         "0",
         "1",
         "0",
         "100.0",
         "6-10"
        ],
        [
         "1",
         "loan2",
         "0.0",
         "Unknown",
         "No Delinquencies",
         "0",
         "0",
         "0",
         "0",
         "50.1-75%",
         "100.0",
         "6-10"
        ],
        [
         "2",
         "loan3",
         "0.0",
         "61+ months",
         "No Delinquencies",
         "0",
         "0",
         "0",
         "1",
         "0",
         "90-99.9",
         "11-15"
        ],
        [
         "3",
         "loan4",
         "0.0",
         "Unknown",
         "No Delinquencies",
         "0",
         "0",
         "0",
         "0",
         "0",
         "100.0",
         "11-15"
        ],
        [
         "4",
         "loan5",
         "0.0",
         "Unknown",
         "No Delinquencies",
         "0",
         "0",
         "0",
         "0",
         "0",
         "100.0",
         "6-10"
        ]
       ],
       "shape": {
        "columns": 11,
        "rows": 5
       }
      },
      "text/html": [
       "<div>\n",
       "<style scoped>\n",
       "    .dataframe tbody tr th:only-of-type {\n",
       "        vertical-align: middle;\n",
       "    }\n",
       "\n",
       "    .dataframe tbody tr th {\n",
       "        vertical-align: top;\n",
       "    }\n",
       "\n",
       "    .dataframe thead th {\n",
       "        text-align: right;\n",
       "    }\n",
       "</style>\n",
       "<table border=\"1\" class=\"dataframe\">\n",
       "  <thead>\n",
       "    <tr style=\"text-align: right;\">\n",
       "      <th></th>\n",
       "      <th>loan_id</th>\n",
       "      <th>delinq_amnt</th>\n",
       "      <th>delinq_bucket</th>\n",
       "      <th>acc_now_delinq_bucketed</th>\n",
       "      <th>delinq_2yrs_bucketed</th>\n",
       "      <th>accounts_90d_past_due_24m</th>\n",
       "      <th>total_chargeoffs_within_12_mths</th>\n",
       "      <th>pub_rec_bankruptcies_bucketed</th>\n",
       "      <th>percent_bc_gt_75_bucketed</th>\n",
       "      <th>pct_tl_nvr_dlq_bucketed</th>\n",
       "      <th>open_acc_bucketed</th>\n",
       "    </tr>\n",
       "  </thead>\n",
       "  <tbody>\n",
       "    <tr>\n",
       "      <th>0</th>\n",
       "      <td>loan1</td>\n",
       "      <td>0.0</td>\n",
       "      <td>Unknown</td>\n",
       "      <td>No Delinquencies</td>\n",
       "      <td>0</td>\n",
       "      <td>0</td>\n",
       "      <td>0</td>\n",
       "      <td>1</td>\n",
       "      <td>0</td>\n",
       "      <td>100.0</td>\n",
       "      <td>6-10</td>\n",
       "    </tr>\n",
       "    <tr>\n",
       "      <th>1</th>\n",
       "      <td>loan2</td>\n",
       "      <td>0.0</td>\n",
       "      <td>Unknown</td>\n",
       "      <td>No Delinquencies</td>\n",
       "      <td>0</td>\n",
       "      <td>0</td>\n",
       "      <td>0</td>\n",
       "      <td>0</td>\n",
       "      <td>50.1-75%</td>\n",
       "      <td>100.0</td>\n",
       "      <td>6-10</td>\n",
       "    </tr>\n",
       "    <tr>\n",
       "      <th>2</th>\n",
       "      <td>loan3</td>\n",
       "      <td>0.0</td>\n",
       "      <td>61+ months</td>\n",
       "      <td>No Delinquencies</td>\n",
       "      <td>0</td>\n",
       "      <td>0</td>\n",
       "      <td>0</td>\n",
       "      <td>1</td>\n",
       "      <td>0</td>\n",
       "      <td>90-99.9</td>\n",
       "      <td>11-15</td>\n",
       "    </tr>\n",
       "    <tr>\n",
       "      <th>3</th>\n",
       "      <td>loan4</td>\n",
       "      <td>0.0</td>\n",
       "      <td>Unknown</td>\n",
       "      <td>No Delinquencies</td>\n",
       "      <td>0</td>\n",
       "      <td>0</td>\n",
       "      <td>0</td>\n",
       "      <td>0</td>\n",
       "      <td>0</td>\n",
       "      <td>100.0</td>\n",
       "      <td>11-15</td>\n",
       "    </tr>\n",
       "    <tr>\n",
       "      <th>4</th>\n",
       "      <td>loan5</td>\n",
       "      <td>0.0</td>\n",
       "      <td>Unknown</td>\n",
       "      <td>No Delinquencies</td>\n",
       "      <td>0</td>\n",
       "      <td>0</td>\n",
       "      <td>0</td>\n",
       "      <td>0</td>\n",
       "      <td>0</td>\n",
       "      <td>100.0</td>\n",
       "      <td>6-10</td>\n",
       "    </tr>\n",
       "  </tbody>\n",
       "</table>\n",
       "</div>"
      ],
      "text/plain": [
       "  loan_id  delinq_amnt delinq_bucket acc_now_delinq_bucketed  \\\n",
       "0   loan1          0.0       Unknown        No Delinquencies   \n",
       "1   loan2          0.0       Unknown        No Delinquencies   \n",
       "2   loan3          0.0    61+ months        No Delinquencies   \n",
       "3   loan4          0.0       Unknown        No Delinquencies   \n",
       "4   loan5          0.0       Unknown        No Delinquencies   \n",
       "\n",
       "   delinq_2yrs_bucketed  accounts_90d_past_due_24m  \\\n",
       "0                     0                          0   \n",
       "1                     0                          0   \n",
       "2                     0                          0   \n",
       "3                     0                          0   \n",
       "4                     0                          0   \n",
       "\n",
       "   total_chargeoffs_within_12_mths  pub_rec_bankruptcies_bucketed  \\\n",
       "0                                0                              1   \n",
       "1                                0                              0   \n",
       "2                                0                              1   \n",
       "3                                0                              0   \n",
       "4                                0                              0   \n",
       "\n",
       "  percent_bc_gt_75_bucketed pct_tl_nvr_dlq_bucketed open_acc_bucketed  \n",
       "0                         0                   100.0              6-10  \n",
       "1                  50.1-75%                   100.0              6-10  \n",
       "2                         0                 90-99.9             11-15  \n",
       "3                         0                   100.0             11-15  \n",
       "4                         0                   100.0              6-10  "
      ]
     },
     "execution_count": 9,
     "metadata": {},
     "output_type": "execute_result"
    }
   ],
   "source": [
    "df_delinquency = pd.read_sql(\"SELECT * FROM delinquency_info;\", engine)\n",
    "df_delinquency.head()"
   ]
  },
  {
   "cell_type": "code",
   "execution_count": 10,
   "metadata": {},
   "outputs": [
    {
     "data": {
      "application/vnd.microsoft.datawrangler.viewer.v0+json": {
       "columns": [
        {
         "name": "index",
         "rawType": "int64",
         "type": "integer"
        },
        {
         "name": "loan_id",
         "rawType": "object",
         "type": "string"
        },
        {
         "name": "member_id",
         "rawType": "int64",
         "type": "integer"
        },
        {
         "name": "funded_amnt",
         "rawType": "int64",
         "type": "integer"
        },
        {
         "name": "term",
         "rawType": "object",
         "type": "string"
        },
        {
         "name": "int_rate",
         "rawType": "float64",
         "type": "float"
        },
        {
         "name": "grade",
         "rawType": "object",
         "type": "string"
        },
        {
         "name": "loan_status",
         "rawType": "object",
         "type": "string"
        },
        {
         "name": "home_ownership",
         "rawType": "object",
         "type": "string"
        },
        {
         "name": "merged_annual_inc",
         "rawType": "float64",
         "type": "float"
        },
        {
         "name": "merged_dti",
         "rawType": "float64",
         "type": "float"
        },
        {
         "name": "emp_length_grouped",
         "rawType": "object",
         "type": "string"
        },
        {
         "name": "clean_verification_status",
         "rawType": "object",
         "type": "string"
        },
        {
         "name": "merged_purpose",
         "rawType": "object",
         "type": "string"
        },
        {
         "name": "all_util",
         "rawType": "float64",
         "type": "float"
        },
        {
         "name": "avg_cur_bal",
         "rawType": "float64",
         "type": "float"
        },
        {
         "name": "tot_hi_cred_lim",
         "rawType": "float64",
         "type": "float"
        },
        {
         "name": "total_acc",
         "rawType": "float64",
         "type": "float"
        },
        {
         "name": "total_bal_ex_mort",
         "rawType": "float64",
         "type": "float"
        },
        {
         "name": "total_bc_limit",
         "rawType": "float64",
         "type": "float"
        },
        {
         "name": "delinq_amnt",
         "rawType": "float64",
         "type": "float"
        },
        {
         "name": "delinq_bucket",
         "rawType": "object",
         "type": "string"
        },
        {
         "name": "acc_now_delinq_bucketed",
         "rawType": "object",
         "type": "string"
        },
        {
         "name": "delinq_2yrs_bucketed",
         "rawType": "int64",
         "type": "integer"
        },
        {
         "name": "accounts_90d_past_due_24m",
         "rawType": "int64",
         "type": "integer"
        },
        {
         "name": "total_chargeoffs_within_12_mths",
         "rawType": "int64",
         "type": "integer"
        },
        {
         "name": "pub_rec_bankruptcies_bucketed",
         "rawType": "int64",
         "type": "integer"
        },
        {
         "name": "percent_bc_gt_75_bucketed",
         "rawType": "object",
         "type": "string"
        },
        {
         "name": "pct_tl_nvr_dlq_bucketed",
         "rawType": "object",
         "type": "string"
        },
        {
         "name": "open_acc_bucketed",
         "rawType": "object",
         "type": "string"
        }
       ],
       "conversionMethod": "pd.DataFrame",
       "ref": "2b80a9f5-bdca-47be-b2c4-c157d5ee9f8f",
       "rows": [
        [
         "0",
         "loan1",
         "1",
         "2500",
         " 36 months",
         "13.56",
         "C",
         "Current",
         "RENT",
         "55000.0",
         "18.24",
         "10+ years",
         "Not Verified",
         "Debt-related",
         "28.0",
         "1878.0",
         "60124.0",
         "34.0",
         "16901.0",
         "36500.0",
         "0.0",
         "Unknown",
         "No Delinquencies",
         "0",
         "0",
         "0",
         "1",
         "0",
         "100.0",
         "6-10"
        ],
        [
         "1",
         "loan2",
         "2",
         "30000",
         " 60 months",
         "18.94",
         "D",
         "Current",
         "MORTGAGE",
         "90000.0",
         "26.52",
         "10+ years",
         "Verified",
         "Debt-related",
         "57.0",
         "24763.0",
         "372872.0",
         "44.0",
         "99468.0",
         "15000.0",
         "0.0",
         "Unknown",
         "No Delinquencies",
         "0",
         "0",
         "0",
         "0",
         "50.1-75%",
         "100.0",
         "6-10"
        ],
        [
         "2",
         "loan3",
         "3",
         "5000",
         " 36 months",
         "17.97",
         "D",
         "Current",
         "MORTGAGE",
         "59280.0",
         "10.51",
         "4-6 years",
         "Verified",
         "Debt-related",
         "35.0",
         "18383.0",
         "136927.0",
         "13.0",
         "11749.0",
         "13800.0",
         "0.0",
         "61+ months",
         "No Delinquencies",
         "0",
         "0",
         "0",
         "1",
         "0",
         "90-99.9",
         "11-15"
        ],
        [
         "3",
         "loan4",
         "4",
         "4000",
         " 36 months",
         "18.94",
         "D",
         "Current",
         "MORTGAGE",
         "92000.0",
         "16.74",
         "10+ years",
         "Verified",
         "Debt-related",
         "70.0",
         "30505.0",
         "385183.0",
         "13.0",
         "36151.0",
         "5000.0",
         "0.0",
         "Unknown",
         "No Delinquencies",
         "0",
         "0",
         "0",
         "0",
         "0",
         "100.0",
         "11-15"
        ],
        [
         "4",
         "loan5",
         "5",
         "30000",
         " 60 months",
         "16.14",
         "C",
         "Current",
         "MORTGAGE",
         "57250.0",
         "26.35",
         "10+ years",
         "Not Verified",
         "Debt-related",
         "54.0",
         "9667.0",
         "157548.0",
         "26.0",
         "29674.0",
         "9300.0",
         "0.0",
         "Unknown",
         "No Delinquencies",
         "0",
         "0",
         "0",
         "0",
         "0",
         "100.0",
         "6-10"
        ]
       ],
       "shape": {
        "columns": 29,
        "rows": 5
       }
      },
      "text/html": [
       "<div>\n",
       "<style scoped>\n",
       "    .dataframe tbody tr th:only-of-type {\n",
       "        vertical-align: middle;\n",
       "    }\n",
       "\n",
       "    .dataframe tbody tr th {\n",
       "        vertical-align: top;\n",
       "    }\n",
       "\n",
       "    .dataframe thead th {\n",
       "        text-align: right;\n",
       "    }\n",
       "</style>\n",
       "<table border=\"1\" class=\"dataframe\">\n",
       "  <thead>\n",
       "    <tr style=\"text-align: right;\">\n",
       "      <th></th>\n",
       "      <th>loan_id</th>\n",
       "      <th>member_id</th>\n",
       "      <th>funded_amnt</th>\n",
       "      <th>term</th>\n",
       "      <th>int_rate</th>\n",
       "      <th>grade</th>\n",
       "      <th>loan_status</th>\n",
       "      <th>home_ownership</th>\n",
       "      <th>merged_annual_inc</th>\n",
       "      <th>merged_dti</th>\n",
       "      <th>...</th>\n",
       "      <th>delinq_amnt</th>\n",
       "      <th>delinq_bucket</th>\n",
       "      <th>acc_now_delinq_bucketed</th>\n",
       "      <th>delinq_2yrs_bucketed</th>\n",
       "      <th>accounts_90d_past_due_24m</th>\n",
       "      <th>total_chargeoffs_within_12_mths</th>\n",
       "      <th>pub_rec_bankruptcies_bucketed</th>\n",
       "      <th>percent_bc_gt_75_bucketed</th>\n",
       "      <th>pct_tl_nvr_dlq_bucketed</th>\n",
       "      <th>open_acc_bucketed</th>\n",
       "    </tr>\n",
       "  </thead>\n",
       "  <tbody>\n",
       "    <tr>\n",
       "      <th>0</th>\n",
       "      <td>loan1</td>\n",
       "      <td>1</td>\n",
       "      <td>2500</td>\n",
       "      <td>36 months</td>\n",
       "      <td>13.56</td>\n",
       "      <td>C</td>\n",
       "      <td>Current</td>\n",
       "      <td>RENT</td>\n",
       "      <td>55000.0</td>\n",
       "      <td>18.24</td>\n",
       "      <td>...</td>\n",
       "      <td>0.0</td>\n",
       "      <td>Unknown</td>\n",
       "      <td>No Delinquencies</td>\n",
       "      <td>0</td>\n",
       "      <td>0</td>\n",
       "      <td>0</td>\n",
       "      <td>1</td>\n",
       "      <td>0</td>\n",
       "      <td>100.0</td>\n",
       "      <td>6-10</td>\n",
       "    </tr>\n",
       "    <tr>\n",
       "      <th>1</th>\n",
       "      <td>loan2</td>\n",
       "      <td>2</td>\n",
       "      <td>30000</td>\n",
       "      <td>60 months</td>\n",
       "      <td>18.94</td>\n",
       "      <td>D</td>\n",
       "      <td>Current</td>\n",
       "      <td>MORTGAGE</td>\n",
       "      <td>90000.0</td>\n",
       "      <td>26.52</td>\n",
       "      <td>...</td>\n",
       "      <td>0.0</td>\n",
       "      <td>Unknown</td>\n",
       "      <td>No Delinquencies</td>\n",
       "      <td>0</td>\n",
       "      <td>0</td>\n",
       "      <td>0</td>\n",
       "      <td>0</td>\n",
       "      <td>50.1-75%</td>\n",
       "      <td>100.0</td>\n",
       "      <td>6-10</td>\n",
       "    </tr>\n",
       "    <tr>\n",
       "      <th>2</th>\n",
       "      <td>loan3</td>\n",
       "      <td>3</td>\n",
       "      <td>5000</td>\n",
       "      <td>36 months</td>\n",
       "      <td>17.97</td>\n",
       "      <td>D</td>\n",
       "      <td>Current</td>\n",
       "      <td>MORTGAGE</td>\n",
       "      <td>59280.0</td>\n",
       "      <td>10.51</td>\n",
       "      <td>...</td>\n",
       "      <td>0.0</td>\n",
       "      <td>61+ months</td>\n",
       "      <td>No Delinquencies</td>\n",
       "      <td>0</td>\n",
       "      <td>0</td>\n",
       "      <td>0</td>\n",
       "      <td>1</td>\n",
       "      <td>0</td>\n",
       "      <td>90-99.9</td>\n",
       "      <td>11-15</td>\n",
       "    </tr>\n",
       "    <tr>\n",
       "      <th>3</th>\n",
       "      <td>loan4</td>\n",
       "      <td>4</td>\n",
       "      <td>4000</td>\n",
       "      <td>36 months</td>\n",
       "      <td>18.94</td>\n",
       "      <td>D</td>\n",
       "      <td>Current</td>\n",
       "      <td>MORTGAGE</td>\n",
       "      <td>92000.0</td>\n",
       "      <td>16.74</td>\n",
       "      <td>...</td>\n",
       "      <td>0.0</td>\n",
       "      <td>Unknown</td>\n",
       "      <td>No Delinquencies</td>\n",
       "      <td>0</td>\n",
       "      <td>0</td>\n",
       "      <td>0</td>\n",
       "      <td>0</td>\n",
       "      <td>0</td>\n",
       "      <td>100.0</td>\n",
       "      <td>11-15</td>\n",
       "    </tr>\n",
       "    <tr>\n",
       "      <th>4</th>\n",
       "      <td>loan5</td>\n",
       "      <td>5</td>\n",
       "      <td>30000</td>\n",
       "      <td>60 months</td>\n",
       "      <td>16.14</td>\n",
       "      <td>C</td>\n",
       "      <td>Current</td>\n",
       "      <td>MORTGAGE</td>\n",
       "      <td>57250.0</td>\n",
       "      <td>26.35</td>\n",
       "      <td>...</td>\n",
       "      <td>0.0</td>\n",
       "      <td>Unknown</td>\n",
       "      <td>No Delinquencies</td>\n",
       "      <td>0</td>\n",
       "      <td>0</td>\n",
       "      <td>0</td>\n",
       "      <td>0</td>\n",
       "      <td>0</td>\n",
       "      <td>100.0</td>\n",
       "      <td>6-10</td>\n",
       "    </tr>\n",
       "  </tbody>\n",
       "</table>\n",
       "<p>5 rows × 29 columns</p>\n",
       "</div>"
      ],
      "text/plain": [
       "  loan_id  member_id  funded_amnt        term  int_rate grade loan_status  \\\n",
       "0   loan1          1         2500   36 months     13.56     C     Current   \n",
       "1   loan2          2        30000   60 months     18.94     D     Current   \n",
       "2   loan3          3         5000   36 months     17.97     D     Current   \n",
       "3   loan4          4         4000   36 months     18.94     D     Current   \n",
       "4   loan5          5        30000   60 months     16.14     C     Current   \n",
       "\n",
       "  home_ownership  merged_annual_inc  merged_dti  ... delinq_amnt  \\\n",
       "0           RENT            55000.0       18.24  ...         0.0   \n",
       "1       MORTGAGE            90000.0       26.52  ...         0.0   \n",
       "2       MORTGAGE            59280.0       10.51  ...         0.0   \n",
       "3       MORTGAGE            92000.0       16.74  ...         0.0   \n",
       "4       MORTGAGE            57250.0       26.35  ...         0.0   \n",
       "\n",
       "  delinq_bucket acc_now_delinq_bucketed  delinq_2yrs_bucketed  \\\n",
       "0       Unknown        No Delinquencies                     0   \n",
       "1       Unknown        No Delinquencies                     0   \n",
       "2    61+ months        No Delinquencies                     0   \n",
       "3       Unknown        No Delinquencies                     0   \n",
       "4       Unknown        No Delinquencies                     0   \n",
       "\n",
       "   accounts_90d_past_due_24m  total_chargeoffs_within_12_mths  \\\n",
       "0                          0                                0   \n",
       "1                          0                                0   \n",
       "2                          0                                0   \n",
       "3                          0                                0   \n",
       "4                          0                                0   \n",
       "\n",
       "   pub_rec_bankruptcies_bucketed  percent_bc_gt_75_bucketed  \\\n",
       "0                              1                          0   \n",
       "1                              0                   50.1-75%   \n",
       "2                              1                          0   \n",
       "3                              0                          0   \n",
       "4                              0                          0   \n",
       "\n",
       "   pct_tl_nvr_dlq_bucketed  open_acc_bucketed  \n",
       "0                    100.0               6-10  \n",
       "1                    100.0               6-10  \n",
       "2                  90-99.9              11-15  \n",
       "3                    100.0              11-15  \n",
       "4                    100.0               6-10  \n",
       "\n",
       "[5 rows x 29 columns]"
      ]
     },
     "execution_count": 10,
     "metadata": {},
     "output_type": "execute_result"
    }
   ],
   "source": [
    "# Merge borrower_info on member_id\n",
    "df_merged = df_loan.merge(df_borrower, on=\"member_id\", how=\"left\")\n",
    "\n",
    "# Merge credit_history on loan_id\n",
    "df_merged = df_merged.merge(df_credit_history, on=\"loan_id\", how=\"left\")\n",
    "\n",
    "# Merge delinquency_info on loan_id\n",
    "df_loans_post= df_merged.merge(df_delinquency, on=\"loan_id\", how=\"left\")\n",
    "\n",
    "# Show final dataset\n",
    "df_loans_post.head()"
   ]
  },
  {
   "cell_type": "code",
   "execution_count": 11,
   "metadata": {},
   "outputs": [],
   "source": [
    "# Rename dataframe\n",
    "df_loans = df_loans_post.copy()"
   ]
  },
  {
   "cell_type": "code",
   "execution_count": 12,
   "metadata": {
    "id": "n2ZJa7h33PYM",
    "outputId": "2f3f3cb6-7a51-454c-cc0e-dd9d6e5ffe21"
   },
   "outputs": [],
   "source": [
    "\n",
    "df_loans = df_loans[['member_id', 'funded_amnt', 'term', 'int_rate', 'grade',\n",
    "       'loan_status', 'home_ownership', 'merged_annual_inc', 'merged_dti',\n",
    "       'emp_length_grouped', 'clean_verification_status', 'merged_purpose',\n",
    "       'all_util', 'avg_cur_bal', 'tot_hi_cred_lim', 'total_acc',\n",
    "       'total_bal_ex_mort', 'total_bc_limit', 'delinq_amnt', 'delinq_bucket',\n",
    "       'acc_now_delinq_bucketed', 'delinq_2yrs_bucketed',\n",
    "       'accounts_90d_past_due_24m', 'total_chargeoffs_within_12_mths',\n",
    "       'pub_rec_bankruptcies_bucketed', 'percent_bc_gt_75_bucketed',\n",
    "       'pct_tl_nvr_dlq_bucketed', 'open_acc_bucketed']]"
   ]
  },
  {
   "cell_type": "code",
   "execution_count": 13,
   "metadata": {
    "colab": {
     "base_uri": "https://localhost:8080/",
     "height": 320
    },
    "executionInfo": {
     "elapsed": 1352,
     "status": "ok",
     "timestamp": 1744646220400,
     "user": {
      "displayName": "Seyhr Waqas",
      "userId": "14453900050839945906"
     },
     "user_tz": 240
    },
    "id": "AHqaQxixCz_9",
    "outputId": "88fb9979-1c93-4c21-daec-08445697774e"
   },
   "outputs": [
    {
     "data": {
      "application/vnd.microsoft.datawrangler.viewer.v0+json": {
       "columns": [
        {
         "name": "index",
         "rawType": "object",
         "type": "string"
        },
        {
         "name": "member_id",
         "rawType": "float64",
         "type": "float"
        },
        {
         "name": "funded_amnt",
         "rawType": "float64",
         "type": "float"
        },
        {
         "name": "int_rate",
         "rawType": "float64",
         "type": "float"
        },
        {
         "name": "merged_annual_inc",
         "rawType": "float64",
         "type": "float"
        },
        {
         "name": "merged_dti",
         "rawType": "float64",
         "type": "float"
        },
        {
         "name": "all_util",
         "rawType": "float64",
         "type": "float"
        },
        {
         "name": "avg_cur_bal",
         "rawType": "float64",
         "type": "float"
        },
        {
         "name": "tot_hi_cred_lim",
         "rawType": "float64",
         "type": "float"
        },
        {
         "name": "total_acc",
         "rawType": "float64",
         "type": "float"
        },
        {
         "name": "total_bal_ex_mort",
         "rawType": "float64",
         "type": "float"
        },
        {
         "name": "total_bc_limit",
         "rawType": "float64",
         "type": "float"
        },
        {
         "name": "delinq_amnt",
         "rawType": "float64",
         "type": "float"
        },
        {
         "name": "delinq_2yrs_bucketed",
         "rawType": "float64",
         "type": "float"
        },
        {
         "name": "accounts_90d_past_due_24m",
         "rawType": "float64",
         "type": "float"
        },
        {
         "name": "total_chargeoffs_within_12_mths",
         "rawType": "float64",
         "type": "float"
        },
        {
         "name": "pub_rec_bankruptcies_bucketed",
         "rawType": "float64",
         "type": "float"
        }
       ],
       "conversionMethod": "pd.DataFrame",
       "ref": "e543e220-9ab9-46f6-aa79-8caf285a6c67",
       "rows": [
        [
         "count",
         "2260668.0",
         "2260668.0",
         "2260668.0",
         "2260664.0",
         "2260668.0",
         "1394320.0",
         "2190322.0",
         "2190392.0",
         "2260639.0",
         "2210638.0",
         "2210638.0",
         "2260639.0",
         "2260668.0",
         "2260668.0",
         "2260668.0",
         "2260668.0"
        ],
        [
         "mean",
         "1130334.5",
         "15041.664056818605",
         "13.09291294431558",
         "81383.79446951427",
         "18.155034870224195",
         "57.03229531241035",
         "13547.797508768117",
         "178242.75374362213",
         "24.162552269513178",
         "51022.93846165677",
         "23193.76817326039",
         "12.369827734547622",
         "0.28755261719102493",
         "0.08298786022538471",
         "0.008950009466228566",
         "0.1208868352186168"
        ],
        [
         "std",
         "652598.7835123078",
         "9188.413022412722",
         "4.8321142328735265",
         "113709.22320722623",
         "8.398329263644076",
         "20.904747595972538",
         "16474.07500950759",
         "181574.81465454545",
         "11.987528317340708",
         "49911.235665750166",
         "23006.558238740407",
         "726.4647813116172",
         "0.7149278507537641",
         "0.2758639319404043",
         "0.09490541813167233",
         "0.3259957903116349"
        ],
        [
         "min",
         "1.0",
         "500.0",
         "5.31",
         "1896.0",
         "-1.0",
         "0.0",
         "0.0",
         "0.0",
         "1.0",
         "0.0",
         "0.0",
         "0.0",
         "0.0",
         "0.0",
         "0.0",
         "0.0"
        ],
        [
         "25%",
         "565167.75",
         "8000.0",
         "9.49",
         "48000.0",
         "11.87",
         "43.0",
         "3080.0",
         "50731.0",
         "15.0",
         "20892.0",
         "8300.0",
         "0.0",
         "0.0",
         "0.0",
         "0.0",
         "0.0"
        ],
        [
         "50%",
         "1130334.5",
         "12875.0",
         "12.62",
         "68500.0",
         "17.67",
         "58.0",
         "7335.0",
         "114298.5",
         "22.0",
         "37864.0",
         "16300.0",
         "0.0",
         "0.0",
         "0.0",
         "0.0",
         "0.0"
        ],
        [
         "75%",
         "1695501.25",
         "20000.0",
         "15.99",
         "98000.0",
         "24.07",
         "72.0",
         "18783.0",
         "257755.0",
         "31.0",
         "64350.0",
         "30300.0",
         "0.0",
         "0.0",
         "0.0",
         "0.0",
         "0.0"
        ],
        [
         "max",
         "2260668.0",
         "40000.0",
         "30.99",
         "110000000.0",
         "69.49",
         "239.0",
         "958084.0",
         "9999999.0",
         "176.0",
         "3408095.0",
         "1569000.0",
         "249925.0",
         "4.0",
         "1.0",
         "2.0",
         "1.0"
        ]
       ],
       "shape": {
        "columns": 16,
        "rows": 8
       }
      },
      "text/html": [
       "<div>\n",
       "<style scoped>\n",
       "    .dataframe tbody tr th:only-of-type {\n",
       "        vertical-align: middle;\n",
       "    }\n",
       "\n",
       "    .dataframe tbody tr th {\n",
       "        vertical-align: top;\n",
       "    }\n",
       "\n",
       "    .dataframe thead th {\n",
       "        text-align: right;\n",
       "    }\n",
       "</style>\n",
       "<table border=\"1\" class=\"dataframe\">\n",
       "  <thead>\n",
       "    <tr style=\"text-align: right;\">\n",
       "      <th></th>\n",
       "      <th>member_id</th>\n",
       "      <th>funded_amnt</th>\n",
       "      <th>int_rate</th>\n",
       "      <th>merged_annual_inc</th>\n",
       "      <th>merged_dti</th>\n",
       "      <th>all_util</th>\n",
       "      <th>avg_cur_bal</th>\n",
       "      <th>tot_hi_cred_lim</th>\n",
       "      <th>total_acc</th>\n",
       "      <th>total_bal_ex_mort</th>\n",
       "      <th>total_bc_limit</th>\n",
       "      <th>delinq_amnt</th>\n",
       "      <th>delinq_2yrs_bucketed</th>\n",
       "      <th>accounts_90d_past_due_24m</th>\n",
       "      <th>total_chargeoffs_within_12_mths</th>\n",
       "      <th>pub_rec_bankruptcies_bucketed</th>\n",
       "    </tr>\n",
       "  </thead>\n",
       "  <tbody>\n",
       "    <tr>\n",
       "      <th>count</th>\n",
       "      <td>2.260668e+06</td>\n",
       "      <td>2.260668e+06</td>\n",
       "      <td>2.260668e+06</td>\n",
       "      <td>2.260664e+06</td>\n",
       "      <td>2.260668e+06</td>\n",
       "      <td>1.394320e+06</td>\n",
       "      <td>2.190322e+06</td>\n",
       "      <td>2.190392e+06</td>\n",
       "      <td>2.260639e+06</td>\n",
       "      <td>2.210638e+06</td>\n",
       "      <td>2.210638e+06</td>\n",
       "      <td>2.260639e+06</td>\n",
       "      <td>2.260668e+06</td>\n",
       "      <td>2.260668e+06</td>\n",
       "      <td>2.260668e+06</td>\n",
       "      <td>2.260668e+06</td>\n",
       "    </tr>\n",
       "    <tr>\n",
       "      <th>mean</th>\n",
       "      <td>1.130334e+06</td>\n",
       "      <td>1.504166e+04</td>\n",
       "      <td>1.309291e+01</td>\n",
       "      <td>8.138379e+04</td>\n",
       "      <td>1.815503e+01</td>\n",
       "      <td>5.703230e+01</td>\n",
       "      <td>1.354780e+04</td>\n",
       "      <td>1.782428e+05</td>\n",
       "      <td>2.416255e+01</td>\n",
       "      <td>5.102294e+04</td>\n",
       "      <td>2.319377e+04</td>\n",
       "      <td>1.236983e+01</td>\n",
       "      <td>2.875526e-01</td>\n",
       "      <td>8.298786e-02</td>\n",
       "      <td>8.950009e-03</td>\n",
       "      <td>1.208868e-01</td>\n",
       "    </tr>\n",
       "    <tr>\n",
       "      <th>std</th>\n",
       "      <td>6.525988e+05</td>\n",
       "      <td>9.188413e+03</td>\n",
       "      <td>4.832114e+00</td>\n",
       "      <td>1.137092e+05</td>\n",
       "      <td>8.398329e+00</td>\n",
       "      <td>2.090475e+01</td>\n",
       "      <td>1.647408e+04</td>\n",
       "      <td>1.815748e+05</td>\n",
       "      <td>1.198753e+01</td>\n",
       "      <td>4.991124e+04</td>\n",
       "      <td>2.300656e+04</td>\n",
       "      <td>7.264648e+02</td>\n",
       "      <td>7.149279e-01</td>\n",
       "      <td>2.758639e-01</td>\n",
       "      <td>9.490542e-02</td>\n",
       "      <td>3.259958e-01</td>\n",
       "    </tr>\n",
       "    <tr>\n",
       "      <th>min</th>\n",
       "      <td>1.000000e+00</td>\n",
       "      <td>5.000000e+02</td>\n",
       "      <td>5.310000e+00</td>\n",
       "      <td>1.896000e+03</td>\n",
       "      <td>-1.000000e+00</td>\n",
       "      <td>0.000000e+00</td>\n",
       "      <td>0.000000e+00</td>\n",
       "      <td>0.000000e+00</td>\n",
       "      <td>1.000000e+00</td>\n",
       "      <td>0.000000e+00</td>\n",
       "      <td>0.000000e+00</td>\n",
       "      <td>0.000000e+00</td>\n",
       "      <td>0.000000e+00</td>\n",
       "      <td>0.000000e+00</td>\n",
       "      <td>0.000000e+00</td>\n",
       "      <td>0.000000e+00</td>\n",
       "    </tr>\n",
       "    <tr>\n",
       "      <th>25%</th>\n",
       "      <td>5.651678e+05</td>\n",
       "      <td>8.000000e+03</td>\n",
       "      <td>9.490000e+00</td>\n",
       "      <td>4.800000e+04</td>\n",
       "      <td>1.187000e+01</td>\n",
       "      <td>4.300000e+01</td>\n",
       "      <td>3.080000e+03</td>\n",
       "      <td>5.073100e+04</td>\n",
       "      <td>1.500000e+01</td>\n",
       "      <td>2.089200e+04</td>\n",
       "      <td>8.300000e+03</td>\n",
       "      <td>0.000000e+00</td>\n",
       "      <td>0.000000e+00</td>\n",
       "      <td>0.000000e+00</td>\n",
       "      <td>0.000000e+00</td>\n",
       "      <td>0.000000e+00</td>\n",
       "    </tr>\n",
       "    <tr>\n",
       "      <th>50%</th>\n",
       "      <td>1.130334e+06</td>\n",
       "      <td>1.287500e+04</td>\n",
       "      <td>1.262000e+01</td>\n",
       "      <td>6.850000e+04</td>\n",
       "      <td>1.767000e+01</td>\n",
       "      <td>5.800000e+01</td>\n",
       "      <td>7.335000e+03</td>\n",
       "      <td>1.142985e+05</td>\n",
       "      <td>2.200000e+01</td>\n",
       "      <td>3.786400e+04</td>\n",
       "      <td>1.630000e+04</td>\n",
       "      <td>0.000000e+00</td>\n",
       "      <td>0.000000e+00</td>\n",
       "      <td>0.000000e+00</td>\n",
       "      <td>0.000000e+00</td>\n",
       "      <td>0.000000e+00</td>\n",
       "    </tr>\n",
       "    <tr>\n",
       "      <th>75%</th>\n",
       "      <td>1.695501e+06</td>\n",
       "      <td>2.000000e+04</td>\n",
       "      <td>1.599000e+01</td>\n",
       "      <td>9.800000e+04</td>\n",
       "      <td>2.407000e+01</td>\n",
       "      <td>7.200000e+01</td>\n",
       "      <td>1.878300e+04</td>\n",
       "      <td>2.577550e+05</td>\n",
       "      <td>3.100000e+01</td>\n",
       "      <td>6.435000e+04</td>\n",
       "      <td>3.030000e+04</td>\n",
       "      <td>0.000000e+00</td>\n",
       "      <td>0.000000e+00</td>\n",
       "      <td>0.000000e+00</td>\n",
       "      <td>0.000000e+00</td>\n",
       "      <td>0.000000e+00</td>\n",
       "    </tr>\n",
       "    <tr>\n",
       "      <th>max</th>\n",
       "      <td>2.260668e+06</td>\n",
       "      <td>4.000000e+04</td>\n",
       "      <td>3.099000e+01</td>\n",
       "      <td>1.100000e+08</td>\n",
       "      <td>6.949000e+01</td>\n",
       "      <td>2.390000e+02</td>\n",
       "      <td>9.580840e+05</td>\n",
       "      <td>9.999999e+06</td>\n",
       "      <td>1.760000e+02</td>\n",
       "      <td>3.408095e+06</td>\n",
       "      <td>1.569000e+06</td>\n",
       "      <td>2.499250e+05</td>\n",
       "      <td>4.000000e+00</td>\n",
       "      <td>1.000000e+00</td>\n",
       "      <td>2.000000e+00</td>\n",
       "      <td>1.000000e+00</td>\n",
       "    </tr>\n",
       "  </tbody>\n",
       "</table>\n",
       "</div>"
      ],
      "text/plain": [
       "          member_id   funded_amnt      int_rate  merged_annual_inc  \\\n",
       "count  2.260668e+06  2.260668e+06  2.260668e+06       2.260664e+06   \n",
       "mean   1.130334e+06  1.504166e+04  1.309291e+01       8.138379e+04   \n",
       "std    6.525988e+05  9.188413e+03  4.832114e+00       1.137092e+05   \n",
       "min    1.000000e+00  5.000000e+02  5.310000e+00       1.896000e+03   \n",
       "25%    5.651678e+05  8.000000e+03  9.490000e+00       4.800000e+04   \n",
       "50%    1.130334e+06  1.287500e+04  1.262000e+01       6.850000e+04   \n",
       "75%    1.695501e+06  2.000000e+04  1.599000e+01       9.800000e+04   \n",
       "max    2.260668e+06  4.000000e+04  3.099000e+01       1.100000e+08   \n",
       "\n",
       "         merged_dti      all_util   avg_cur_bal  tot_hi_cred_lim  \\\n",
       "count  2.260668e+06  1.394320e+06  2.190322e+06     2.190392e+06   \n",
       "mean   1.815503e+01  5.703230e+01  1.354780e+04     1.782428e+05   \n",
       "std    8.398329e+00  2.090475e+01  1.647408e+04     1.815748e+05   \n",
       "min   -1.000000e+00  0.000000e+00  0.000000e+00     0.000000e+00   \n",
       "25%    1.187000e+01  4.300000e+01  3.080000e+03     5.073100e+04   \n",
       "50%    1.767000e+01  5.800000e+01  7.335000e+03     1.142985e+05   \n",
       "75%    2.407000e+01  7.200000e+01  1.878300e+04     2.577550e+05   \n",
       "max    6.949000e+01  2.390000e+02  9.580840e+05     9.999999e+06   \n",
       "\n",
       "          total_acc  total_bal_ex_mort  total_bc_limit   delinq_amnt  \\\n",
       "count  2.260639e+06       2.210638e+06    2.210638e+06  2.260639e+06   \n",
       "mean   2.416255e+01       5.102294e+04    2.319377e+04  1.236983e+01   \n",
       "std    1.198753e+01       4.991124e+04    2.300656e+04  7.264648e+02   \n",
       "min    1.000000e+00       0.000000e+00    0.000000e+00  0.000000e+00   \n",
       "25%    1.500000e+01       2.089200e+04    8.300000e+03  0.000000e+00   \n",
       "50%    2.200000e+01       3.786400e+04    1.630000e+04  0.000000e+00   \n",
       "75%    3.100000e+01       6.435000e+04    3.030000e+04  0.000000e+00   \n",
       "max    1.760000e+02       3.408095e+06    1.569000e+06  2.499250e+05   \n",
       "\n",
       "       delinq_2yrs_bucketed  accounts_90d_past_due_24m  \\\n",
       "count          2.260668e+06               2.260668e+06   \n",
       "mean           2.875526e-01               8.298786e-02   \n",
       "std            7.149279e-01               2.758639e-01   \n",
       "min            0.000000e+00               0.000000e+00   \n",
       "25%            0.000000e+00               0.000000e+00   \n",
       "50%            0.000000e+00               0.000000e+00   \n",
       "75%            0.000000e+00               0.000000e+00   \n",
       "max            4.000000e+00               1.000000e+00   \n",
       "\n",
       "       total_chargeoffs_within_12_mths  pub_rec_bankruptcies_bucketed  \n",
       "count                     2.260668e+06                   2.260668e+06  \n",
       "mean                      8.950009e-03                   1.208868e-01  \n",
       "std                       9.490542e-02                   3.259958e-01  \n",
       "min                       0.000000e+00                   0.000000e+00  \n",
       "25%                       0.000000e+00                   0.000000e+00  \n",
       "50%                       0.000000e+00                   0.000000e+00  \n",
       "75%                       0.000000e+00                   0.000000e+00  \n",
       "max                       2.000000e+00                   1.000000e+00  "
      ]
     },
     "execution_count": 13,
     "metadata": {},
     "output_type": "execute_result"
    }
   ],
   "source": [
    "# desribe the dataset\n",
    "df_loans.describe()"
   ]
  },
  {
   "cell_type": "code",
   "execution_count": 14,
   "metadata": {
    "id": "CwUBSjOI3PYO"
   },
   "outputs": [],
   "source": [
    "# Add a new column 'is_high_risk' based on the 'grade' column\n",
    "df_loans['is_high_risk'] = df_loans['grade'].apply(lambda x: 1 if x in ['C','D', 'E', 'F', 'G'] else 0)"
   ]
  },
  {
   "cell_type": "code",
   "execution_count": 15,
   "metadata": {
    "colab": {
     "base_uri": "https://localhost:8080/",
     "height": 273
    },
    "executionInfo": {
     "elapsed": 3158,
     "status": "ok",
     "timestamp": 1744648122752,
     "user": {
      "displayName": "Seyhr Waqas",
      "userId": "14453900050839945906"
     },
     "user_tz": 240
    },
    "id": "GSXFj5K3EEAg",
    "outputId": "a3823bfd-0093-4a9e-d187-cde29c57bf31"
   },
   "outputs": [
    {
     "data": {
      "application/vnd.microsoft.datawrangler.viewer.v0+json": {
       "columns": [
        {
         "name": "index",
         "rawType": "int64",
         "type": "integer"
        },
        {
         "name": "member_id",
         "rawType": "int64",
         "type": "integer"
        },
        {
         "name": "funded_amnt",
         "rawType": "int64",
         "type": "integer"
        },
        {
         "name": "merged_annual_inc",
         "rawType": "float64",
         "type": "float"
        },
        {
         "name": "merged_dti",
         "rawType": "float64",
         "type": "float"
        },
        {
         "name": "all_util",
         "rawType": "float64",
         "type": "float"
        },
        {
         "name": "avg_cur_bal",
         "rawType": "float64",
         "type": "float"
        },
        {
         "name": "tot_hi_cred_lim",
         "rawType": "float64",
         "type": "float"
        },
        {
         "name": "total_acc",
         "rawType": "float64",
         "type": "float"
        },
        {
         "name": "total_bal_ex_mort",
         "rawType": "float64",
         "type": "float"
        },
        {
         "name": "total_bc_limit",
         "rawType": "float64",
         "type": "float"
        },
        {
         "name": "delinq_amnt",
         "rawType": "float64",
         "type": "float"
        },
        {
         "name": "delinq_2yrs_bucketed",
         "rawType": "int64",
         "type": "integer"
        },
        {
         "name": "accounts_90d_past_due_24m",
         "rawType": "int64",
         "type": "integer"
        },
        {
         "name": "total_chargeoffs_within_12_mths",
         "rawType": "int64",
         "type": "integer"
        },
        {
         "name": "pub_rec_bankruptcies_bucketed",
         "rawType": "int64",
         "type": "integer"
        },
        {
         "name": "term_ 36 months",
         "rawType": "bool",
         "type": "boolean"
        },
        {
         "name": "term_ 60 months",
         "rawType": "bool",
         "type": "boolean"
        },
        {
         "name": "loan_status_Charged Off",
         "rawType": "bool",
         "type": "boolean"
        },
        {
         "name": "loan_status_Current",
         "rawType": "bool",
         "type": "boolean"
        },
        {
         "name": "loan_status_Default",
         "rawType": "bool",
         "type": "boolean"
        },
        {
         "name": "loan_status_Does not meet the credit policy. Status:Charged Off",
         "rawType": "bool",
         "type": "boolean"
        },
        {
         "name": "loan_status_Does not meet the credit policy. Status:Fully Paid",
         "rawType": "bool",
         "type": "boolean"
        },
        {
         "name": "loan_status_Fully Paid",
         "rawType": "bool",
         "type": "boolean"
        },
        {
         "name": "loan_status_In Grace Period",
         "rawType": "bool",
         "type": "boolean"
        },
        {
         "name": "loan_status_Late (16-30 days)",
         "rawType": "bool",
         "type": "boolean"
        },
        {
         "name": "loan_status_Late (31-120 days)",
         "rawType": "bool",
         "type": "boolean"
        },
        {
         "name": "home_ownership_ANY",
         "rawType": "bool",
         "type": "boolean"
        },
        {
         "name": "home_ownership_MORTGAGE",
         "rawType": "bool",
         "type": "boolean"
        },
        {
         "name": "home_ownership_NONE",
         "rawType": "bool",
         "type": "boolean"
        },
        {
         "name": "home_ownership_OTHER",
         "rawType": "bool",
         "type": "boolean"
        },
        {
         "name": "home_ownership_OWN",
         "rawType": "bool",
         "type": "boolean"
        },
        {
         "name": "home_ownership_RENT",
         "rawType": "bool",
         "type": "boolean"
        },
        {
         "name": "emp_length_grouped_0-3 years",
         "rawType": "bool",
         "type": "boolean"
        },
        {
         "name": "emp_length_grouped_10+ years",
         "rawType": "bool",
         "type": "boolean"
        },
        {
         "name": "emp_length_grouped_4-6 years",
         "rawType": "bool",
         "type": "boolean"
        },
        {
         "name": "emp_length_grouped_7-9 years",
         "rawType": "bool",
         "type": "boolean"
        },
        {
         "name": "emp_length_grouped_Unknown",
         "rawType": "bool",
         "type": "boolean"
        },
        {
         "name": "clean_verification_status_Not Verified",
         "rawType": "bool",
         "type": "boolean"
        },
        {
         "name": "clean_verification_status_Verified",
         "rawType": "bool",
         "type": "boolean"
        },
        {
         "name": "merged_purpose_Business/Professional",
         "rawType": "bool",
         "type": "boolean"
        },
        {
         "name": "merged_purpose_Debt-related",
         "rawType": "bool",
         "type": "boolean"
        },
        {
         "name": "merged_purpose_Home-related",
         "rawType": "bool",
         "type": "boolean"
        },
        {
         "name": "merged_purpose_Lifestyle-related",
         "rawType": "bool",
         "type": "boolean"
        },
        {
         "name": "merged_purpose_Other",
         "rawType": "bool",
         "type": "boolean"
        },
        {
         "name": "merged_purpose_Purchase-related",
         "rawType": "bool",
         "type": "boolean"
        },
        {
         "name": "delinq_bucket_0-6 months",
         "rawType": "bool",
         "type": "boolean"
        },
        {
         "name": "delinq_bucket_13-24 months",
         "rawType": "bool",
         "type": "boolean"
        },
        {
         "name": "delinq_bucket_25-60 months",
         "rawType": "bool",
         "type": "boolean"
        },
        {
         "name": "delinq_bucket_61+ months",
         "rawType": "bool",
         "type": "boolean"
        },
        {
         "name": "delinq_bucket_7-12 months",
         "rawType": "bool",
         "type": "boolean"
        },
        {
         "name": "delinq_bucket_Unknown",
         "rawType": "bool",
         "type": "boolean"
        },
        {
         "name": "acc_now_delinq_bucketed_At Least One Delinquency",
         "rawType": "bool",
         "type": "boolean"
        },
        {
         "name": "acc_now_delinq_bucketed_No Delinquencies",
         "rawType": "bool",
         "type": "boolean"
        },
        {
         "name": "percent_bc_gt_75_bucketed_0",
         "rawType": "bool",
         "type": "boolean"
        },
        {
         "name": "percent_bc_gt_75_bucketed_1-25%",
         "rawType": "bool",
         "type": "boolean"
        },
        {
         "name": "percent_bc_gt_75_bucketed_25.1-50%",
         "rawType": "bool",
         "type": "boolean"
        },
        {
         "name": "percent_bc_gt_75_bucketed_50.1-75%",
         "rawType": "bool",
         "type": "boolean"
        },
        {
         "name": "percent_bc_gt_75_bucketed_75.1-100%",
         "rawType": "bool",
         "type": "boolean"
        },
        {
         "name": "percent_bc_gt_75_bucketed_Unknown",
         "rawType": "bool",
         "type": "boolean"
        },
        {
         "name": "pct_tl_nvr_dlq_bucketed_100.0",
         "rawType": "bool",
         "type": "boolean"
        },
        {
         "name": "pct_tl_nvr_dlq_bucketed_80-89.9",
         "rawType": "bool",
         "type": "boolean"
        },
        {
         "name": "pct_tl_nvr_dlq_bucketed_90-99.9",
         "rawType": "bool",
         "type": "boolean"
        },
        {
         "name": "pct_tl_nvr_dlq_bucketed_<80",
         "rawType": "bool",
         "type": "boolean"
        },
        {
         "name": "pct_tl_nvr_dlq_bucketed_Unknown",
         "rawType": "bool",
         "type": "boolean"
        },
        {
         "name": "open_acc_bucketed_0",
         "rawType": "bool",
         "type": "boolean"
        },
        {
         "name": "open_acc_bucketed_1-5",
         "rawType": "bool",
         "type": "boolean"
        },
        {
         "name": "open_acc_bucketed_11-15",
         "rawType": "bool",
         "type": "boolean"
        },
        {
         "name": "open_acc_bucketed_16-20",
         "rawType": "bool",
         "type": "boolean"
        },
        {
         "name": "open_acc_bucketed_21+",
         "rawType": "bool",
         "type": "boolean"
        },
        {
         "name": "open_acc_bucketed_6-10",
         "rawType": "bool",
         "type": "boolean"
        },
        {
         "name": "open_acc_bucketed_Unknown",
         "rawType": "bool",
         "type": "boolean"
        }
       ],
       "conversionMethod": "pd.DataFrame",
       "ref": "4b286f94-b7c1-4907-a50f-132e5f197a80",
       "rows": [
        [
         "0",
         "1",
         "2500",
         "55000.0",
         "18.24",
         "28.0",
         "1878.0",
         "60124.0",
         "34.0",
         "16901.0",
         "36500.0",
         "0.0",
         "0",
         "0",
         "0",
         "1",
         "True",
         "False",
         "False",
         "True",
         "False",
         "False",
         "False",
         "False",
         "False",
         "False",
         "False",
         "False",
         "False",
         "False",
         "False",
         "False",
         "True",
         "False",
         "True",
         "False",
         "False",
         "False",
         "True",
         "False",
         "False",
         "True",
         "False",
         "False",
         "False",
         "False",
         "False",
         "False",
         "False",
         "False",
         "False",
         "True",
         "False",
         "True",
         "True",
         "False",
         "False",
         "False",
         "False",
         "False",
         "True",
         "False",
         "False",
         "False",
         "False",
         "False",
         "False",
         "False",
         "False",
         "False",
         "True",
         "False"
        ],
        [
         "1",
         "2",
         "30000",
         "90000.0",
         "26.52",
         "57.0",
         "24763.0",
         "372872.0",
         "44.0",
         "99468.0",
         "15000.0",
         "0.0",
         "0",
         "0",
         "0",
         "0",
         "False",
         "True",
         "False",
         "True",
         "False",
         "False",
         "False",
         "False",
         "False",
         "False",
         "False",
         "False",
         "True",
         "False",
         "False",
         "False",
         "False",
         "False",
         "True",
         "False",
         "False",
         "False",
         "False",
         "True",
         "False",
         "True",
         "False",
         "False",
         "False",
         "False",
         "False",
         "False",
         "False",
         "False",
         "False",
         "True",
         "False",
         "True",
         "False",
         "False",
         "False",
         "True",
         "False",
         "False",
         "True",
         "False",
         "False",
         "False",
         "False",
         "False",
         "False",
         "False",
         "False",
         "False",
         "True",
         "False"
        ],
        [
         "2",
         "3",
         "5000",
         "59280.0",
         "10.51",
         "35.0",
         "18383.0",
         "136927.0",
         "13.0",
         "11749.0",
         "13800.0",
         "0.0",
         "0",
         "0",
         "0",
         "1",
         "True",
         "False",
         "False",
         "True",
         "False",
         "False",
         "False",
         "False",
         "False",
         "False",
         "False",
         "False",
         "True",
         "False",
         "False",
         "False",
         "False",
         "False",
         "False",
         "True",
         "False",
         "False",
         "False",
         "True",
         "False",
         "True",
         "False",
         "False",
         "False",
         "False",
         "False",
         "False",
         "False",
         "True",
         "False",
         "False",
         "False",
         "True",
         "True",
         "False",
         "False",
         "False",
         "False",
         "False",
         "False",
         "False",
         "True",
         "False",
         "False",
         "False",
         "False",
         "True",
         "False",
         "False",
         "False",
         "False"
        ],
        [
         "3",
         "4",
         "4000",
         "92000.0",
         "16.74",
         "70.0",
         "30505.0",
         "385183.0",
         "13.0",
         "36151.0",
         "5000.0",
         "0.0",
         "0",
         "0",
         "0",
         "0",
         "True",
         "False",
         "False",
         "True",
         "False",
         "False",
         "False",
         "False",
         "False",
         "False",
         "False",
         "False",
         "True",
         "False",
         "False",
         "False",
         "False",
         "False",
         "True",
         "False",
         "False",
         "False",
         "False",
         "True",
         "False",
         "True",
         "False",
         "False",
         "False",
         "False",
         "False",
         "False",
         "False",
         "False",
         "False",
         "True",
         "False",
         "True",
         "True",
         "False",
         "False",
         "False",
         "False",
         "False",
         "True",
         "False",
         "False",
         "False",
         "False",
         "False",
         "False",
         "True",
         "False",
         "False",
         "False",
         "False"
        ],
        [
         "4",
         "5",
         "30000",
         "57250.0",
         "26.35",
         "54.0",
         "9667.0",
         "157548.0",
         "26.0",
         "29674.0",
         "9300.0",
         "0.0",
         "0",
         "0",
         "0",
         "0",
         "False",
         "True",
         "False",
         "True",
         "False",
         "False",
         "False",
         "False",
         "False",
         "False",
         "False",
         "False",
         "True",
         "False",
         "False",
         "False",
         "False",
         "False",
         "True",
         "False",
         "False",
         "False",
         "True",
         "False",
         "False",
         "True",
         "False",
         "False",
         "False",
         "False",
         "False",
         "False",
         "False",
         "False",
         "False",
         "True",
         "False",
         "True",
         "True",
         "False",
         "False",
         "False",
         "False",
         "False",
         "True",
         "False",
         "False",
         "False",
         "False",
         "False",
         "False",
         "False",
         "False",
         "False",
         "True",
         "False"
        ]
       ],
       "shape": {
        "columns": 71,
        "rows": 5
       }
      },
      "text/html": [
       "<div>\n",
       "<style scoped>\n",
       "    .dataframe tbody tr th:only-of-type {\n",
       "        vertical-align: middle;\n",
       "    }\n",
       "\n",
       "    .dataframe tbody tr th {\n",
       "        vertical-align: top;\n",
       "    }\n",
       "\n",
       "    .dataframe thead th {\n",
       "        text-align: right;\n",
       "    }\n",
       "</style>\n",
       "<table border=\"1\" class=\"dataframe\">\n",
       "  <thead>\n",
       "    <tr style=\"text-align: right;\">\n",
       "      <th></th>\n",
       "      <th>member_id</th>\n",
       "      <th>funded_amnt</th>\n",
       "      <th>merged_annual_inc</th>\n",
       "      <th>merged_dti</th>\n",
       "      <th>all_util</th>\n",
       "      <th>avg_cur_bal</th>\n",
       "      <th>tot_hi_cred_lim</th>\n",
       "      <th>total_acc</th>\n",
       "      <th>total_bal_ex_mort</th>\n",
       "      <th>total_bc_limit</th>\n",
       "      <th>...</th>\n",
       "      <th>pct_tl_nvr_dlq_bucketed_90-99.9</th>\n",
       "      <th>pct_tl_nvr_dlq_bucketed_&lt;80</th>\n",
       "      <th>pct_tl_nvr_dlq_bucketed_Unknown</th>\n",
       "      <th>open_acc_bucketed_0</th>\n",
       "      <th>open_acc_bucketed_1-5</th>\n",
       "      <th>open_acc_bucketed_11-15</th>\n",
       "      <th>open_acc_bucketed_16-20</th>\n",
       "      <th>open_acc_bucketed_21+</th>\n",
       "      <th>open_acc_bucketed_6-10</th>\n",
       "      <th>open_acc_bucketed_Unknown</th>\n",
       "    </tr>\n",
       "  </thead>\n",
       "  <tbody>\n",
       "    <tr>\n",
       "      <th>0</th>\n",
       "      <td>1</td>\n",
       "      <td>2500</td>\n",
       "      <td>55000.0</td>\n",
       "      <td>18.24</td>\n",
       "      <td>28.0</td>\n",
       "      <td>1878.0</td>\n",
       "      <td>60124.0</td>\n",
       "      <td>34.0</td>\n",
       "      <td>16901.0</td>\n",
       "      <td>36500.0</td>\n",
       "      <td>...</td>\n",
       "      <td>False</td>\n",
       "      <td>False</td>\n",
       "      <td>False</td>\n",
       "      <td>False</td>\n",
       "      <td>False</td>\n",
       "      <td>False</td>\n",
       "      <td>False</td>\n",
       "      <td>False</td>\n",
       "      <td>True</td>\n",
       "      <td>False</td>\n",
       "    </tr>\n",
       "    <tr>\n",
       "      <th>1</th>\n",
       "      <td>2</td>\n",
       "      <td>30000</td>\n",
       "      <td>90000.0</td>\n",
       "      <td>26.52</td>\n",
       "      <td>57.0</td>\n",
       "      <td>24763.0</td>\n",
       "      <td>372872.0</td>\n",
       "      <td>44.0</td>\n",
       "      <td>99468.0</td>\n",
       "      <td>15000.0</td>\n",
       "      <td>...</td>\n",
       "      <td>False</td>\n",
       "      <td>False</td>\n",
       "      <td>False</td>\n",
       "      <td>False</td>\n",
       "      <td>False</td>\n",
       "      <td>False</td>\n",
       "      <td>False</td>\n",
       "      <td>False</td>\n",
       "      <td>True</td>\n",
       "      <td>False</td>\n",
       "    </tr>\n",
       "    <tr>\n",
       "      <th>2</th>\n",
       "      <td>3</td>\n",
       "      <td>5000</td>\n",
       "      <td>59280.0</td>\n",
       "      <td>10.51</td>\n",
       "      <td>35.0</td>\n",
       "      <td>18383.0</td>\n",
       "      <td>136927.0</td>\n",
       "      <td>13.0</td>\n",
       "      <td>11749.0</td>\n",
       "      <td>13800.0</td>\n",
       "      <td>...</td>\n",
       "      <td>True</td>\n",
       "      <td>False</td>\n",
       "      <td>False</td>\n",
       "      <td>False</td>\n",
       "      <td>False</td>\n",
       "      <td>True</td>\n",
       "      <td>False</td>\n",
       "      <td>False</td>\n",
       "      <td>False</td>\n",
       "      <td>False</td>\n",
       "    </tr>\n",
       "    <tr>\n",
       "      <th>3</th>\n",
       "      <td>4</td>\n",
       "      <td>4000</td>\n",
       "      <td>92000.0</td>\n",
       "      <td>16.74</td>\n",
       "      <td>70.0</td>\n",
       "      <td>30505.0</td>\n",
       "      <td>385183.0</td>\n",
       "      <td>13.0</td>\n",
       "      <td>36151.0</td>\n",
       "      <td>5000.0</td>\n",
       "      <td>...</td>\n",
       "      <td>False</td>\n",
       "      <td>False</td>\n",
       "      <td>False</td>\n",
       "      <td>False</td>\n",
       "      <td>False</td>\n",
       "      <td>True</td>\n",
       "      <td>False</td>\n",
       "      <td>False</td>\n",
       "      <td>False</td>\n",
       "      <td>False</td>\n",
       "    </tr>\n",
       "    <tr>\n",
       "      <th>4</th>\n",
       "      <td>5</td>\n",
       "      <td>30000</td>\n",
       "      <td>57250.0</td>\n",
       "      <td>26.35</td>\n",
       "      <td>54.0</td>\n",
       "      <td>9667.0</td>\n",
       "      <td>157548.0</td>\n",
       "      <td>26.0</td>\n",
       "      <td>29674.0</td>\n",
       "      <td>9300.0</td>\n",
       "      <td>...</td>\n",
       "      <td>False</td>\n",
       "      <td>False</td>\n",
       "      <td>False</td>\n",
       "      <td>False</td>\n",
       "      <td>False</td>\n",
       "      <td>False</td>\n",
       "      <td>False</td>\n",
       "      <td>False</td>\n",
       "      <td>True</td>\n",
       "      <td>False</td>\n",
       "    </tr>\n",
       "  </tbody>\n",
       "</table>\n",
       "<p>5 rows × 71 columns</p>\n",
       "</div>"
      ],
      "text/plain": [
       "   member_id  funded_amnt  merged_annual_inc  merged_dti  all_util  \\\n",
       "0          1         2500            55000.0       18.24      28.0   \n",
       "1          2        30000            90000.0       26.52      57.0   \n",
       "2          3         5000            59280.0       10.51      35.0   \n",
       "3          4         4000            92000.0       16.74      70.0   \n",
       "4          5        30000            57250.0       26.35      54.0   \n",
       "\n",
       "   avg_cur_bal  tot_hi_cred_lim  total_acc  total_bal_ex_mort  total_bc_limit  \\\n",
       "0       1878.0          60124.0       34.0            16901.0         36500.0   \n",
       "1      24763.0         372872.0       44.0            99468.0         15000.0   \n",
       "2      18383.0         136927.0       13.0            11749.0         13800.0   \n",
       "3      30505.0         385183.0       13.0            36151.0          5000.0   \n",
       "4       9667.0         157548.0       26.0            29674.0          9300.0   \n",
       "\n",
       "   ...  pct_tl_nvr_dlq_bucketed_90-99.9  pct_tl_nvr_dlq_bucketed_<80  \\\n",
       "0  ...                            False                        False   \n",
       "1  ...                            False                        False   \n",
       "2  ...                             True                        False   \n",
       "3  ...                            False                        False   \n",
       "4  ...                            False                        False   \n",
       "\n",
       "   pct_tl_nvr_dlq_bucketed_Unknown  open_acc_bucketed_0  \\\n",
       "0                            False                False   \n",
       "1                            False                False   \n",
       "2                            False                False   \n",
       "3                            False                False   \n",
       "4                            False                False   \n",
       "\n",
       "   open_acc_bucketed_1-5  open_acc_bucketed_11-15  open_acc_bucketed_16-20  \\\n",
       "0                  False                    False                    False   \n",
       "1                  False                    False                    False   \n",
       "2                  False                     True                    False   \n",
       "3                  False                     True                    False   \n",
       "4                  False                    False                    False   \n",
       "\n",
       "   open_acc_bucketed_21+  open_acc_bucketed_6-10  open_acc_bucketed_Unknown  \n",
       "0                  False                    True                      False  \n",
       "1                  False                    True                      False  \n",
       "2                  False                   False                      False  \n",
       "3                  False                   False                      False  \n",
       "4                  False                    True                      False  \n",
       "\n",
       "[5 rows x 71 columns]"
      ]
     },
     "execution_count": 15,
     "metadata": {},
     "output_type": "execute_result"
    }
   ],
   "source": [
    "# Define the feature set\n",
    "X = df_loans.drop(columns=['is_high_risk','int_rate', 'grade'])\n",
    "\n",
    "# Define the target\n",
    "y = df_loans['is_high_risk']\n",
    "\n",
    "# Encode the categorical variables using get_dummies\n",
    "X = pd.get_dummies(X)\n",
    "\n",
    "# Review the feature data\n",
    "X.head()"
   ]
  },
  {
   "cell_type": "code",
   "execution_count": 16,
   "metadata": {
    "id": "KUtksrM13PYR"
   },
   "outputs": [
    {
     "name": "stdout",
     "output_type": "stream",
     "text": [
      "<class 'pandas.core.frame.DataFrame'>\n",
      "RangeIndex: 2260668 entries, 0 to 2260667\n",
      "Data columns (total 29 columns):\n",
      " #   Column                           Dtype  \n",
      "---  ------                           -----  \n",
      " 0   member_id                        int64  \n",
      " 1   funded_amnt                      int64  \n",
      " 2   term                             object \n",
      " 3   int_rate                         float64\n",
      " 4   grade                            object \n",
      " 5   loan_status                      object \n",
      " 6   home_ownership                   object \n",
      " 7   merged_annual_inc                float64\n",
      " 8   merged_dti                       float64\n",
      " 9   emp_length_grouped               object \n",
      " 10  clean_verification_status        object \n",
      " 11  merged_purpose                   object \n",
      " 12  all_util                         float64\n",
      " 13  avg_cur_bal                      float64\n",
      " 14  tot_hi_cred_lim                  float64\n",
      " 15  total_acc                        float64\n",
      " 16  total_bal_ex_mort                float64\n",
      " 17  total_bc_limit                   float64\n",
      " 18  delinq_amnt                      float64\n",
      " 19  delinq_bucket                    object \n",
      " 20  acc_now_delinq_bucketed          object \n",
      " 21  delinq_2yrs_bucketed             int64  \n",
      " 22  accounts_90d_past_due_24m        int64  \n",
      " 23  total_chargeoffs_within_12_mths  int64  \n",
      " 24  pub_rec_bankruptcies_bucketed    int64  \n",
      " 25  percent_bc_gt_75_bucketed        object \n",
      " 26  pct_tl_nvr_dlq_bucketed          object \n",
      " 27  open_acc_bucketed                object \n",
      " 28  is_high_risk                     int64  \n",
      "dtypes: float64(10), int64(7), object(12)\n",
      "memory usage: 500.2+ MB\n"
     ]
    }
   ],
   "source": [
    "df_loans.info()"
   ]
  },
  {
   "cell_type": "markdown",
   "metadata": {
    "vscode": {
     "languageId": "markdown"
    }
   },
   "source": [
    "To optimize classification performance, we first handled missing values using mean imputation,\n",
    "then scaled features to standardize input for models. We applied SMOTE to balance the class distribution,\n",
    "addressing the issue of imbalanced loan grades (A/B vs C–G). We then compared Perceptron and Logistic Regression\n",
    "to evaluate baseline linear models and determine the best fit for predicting loan risk.\n"
   ]
  },
  {
   "cell_type": "code",
   "execution_count": 17,
   "metadata": {},
   "outputs": [],
   "source": [
    "# Split before imputation and scaling\n",
    "X_train, X_test, y_train, y_test = train_test_split(X, y, test_size=0.2, random_state=42)\n"
   ]
  },
  {
   "cell_type": "code",
   "execution_count": 18,
   "metadata": {},
   "outputs": [],
   "source": [
    "#  Impute missing values\n",
    "imputer = SimpleImputer(strategy='mean')\n",
    "X_train_imputed = imputer.fit_transform(X_train)\n",
    "X_test_imputed = imputer.transform(X_test)\n"
   ]
  },
  {
   "cell_type": "code",
   "execution_count": 19,
   "metadata": {},
   "outputs": [],
   "source": [
    "\n",
    "#  Scale features\n",
    "scaler = StandardScaler()\n",
    "X_train_scaled = scaler.fit_transform(X_train_imputed)\n",
    "X_test_scaled = scaler.transform(X_test_imputed)"
   ]
  },
  {
   "cell_type": "code",
   "execution_count": 20,
   "metadata": {},
   "outputs": [
    {
     "name": "stderr",
     "output_type": "stream",
     "text": [
      "c:\\Users\\seyhr\\anaconda3\\envs\\dev\\lib\\site-packages\\sklearn\\base.py:474: FutureWarning: `BaseEstimator._validate_data` is deprecated in 1.6 and will be removed in 1.7. Use `sklearn.utils.validation.validate_data` instead. This function becomes public and is part of the scikit-learn developer API.\n",
      "  warnings.warn(\n"
     ]
    }
   ],
   "source": [
    "#  Apply SMOTE\n",
    "smote = SMOTE(random_state=42)\n",
    "X_train_bal, y_train_bal = smote.fit_resample(X_train_scaled, y_train)"
   ]
  },
  {
   "cell_type": "code",
   "execution_count": 25,
   "metadata": {},
   "outputs": [
    {
     "name": "stdout",
     "output_type": "stream",
     "text": [
      "🔹 Perceptron Model Results\n",
      "Accuracy: 0.59\n",
      "              precision    recall  f1-score   support\n",
      "\n",
      "    Low Risk       0.58      0.60      0.59    219008\n",
      "   High Risk       0.61      0.58      0.60    233126\n",
      "\n",
      "    accuracy                           0.59    452134\n",
      "   macro avg       0.59      0.59      0.59    452134\n",
      "weighted avg       0.59      0.59      0.59    452134\n",
      "\n"
     ]
    }
   ],
   "source": [
    "#  Perceptron Model\n",
    "print(\"🔹 Perceptron Model Results\")\n",
    "perceptron = Perceptron(max_iter=1000, random_state=42)\n",
    "perceptron.fit(X_train_bal, y_train_bal)\n",
    "y_pred_percep = perceptron.predict(X_test_scaled)\n",
    "\n",
    "print(f\"Accuracy: {accuracy_score(y_test, y_pred_percep):.2f}\")\n",
    "print(classification_report(y_test, y_pred_percep, target_names=[\"Low Risk\", \"High Risk\"]))"
   ]
  },
  {
   "cell_type": "code",
   "execution_count": 27,
   "metadata": {},
   "outputs": [
    {
     "name": "stdout",
     "output_type": "stream",
     "text": [
      "\n",
      "🔹 Logistic Regression Model Results\n",
      "Accuracy: 0.71\n",
      "              precision    recall  f1-score   support\n",
      "\n",
      "    Low Risk       0.69      0.73      0.71    219008\n",
      "   High Risk       0.73      0.69      0.71    233126\n",
      "\n",
      "    accuracy                           0.71    452134\n",
      "   macro avg       0.71      0.71      0.71    452134\n",
      "weighted avg       0.71      0.71      0.71    452134\n",
      "\n"
     ]
    }
   ],
   "source": [
    "#  Logistic Regression Model\n",
    "print(\"\\n🔹 Logistic Regression Model Results\")\n",
    "log_model = LogisticRegression(max_iter=1000)\n",
    "log_model.fit(X_train_bal, y_train_bal)\n",
    "y_pred_log = log_model.predict(X_test_scaled)\n",
    "print(f\"Accuracy: {accuracy_score(y_test, y_pred_log):.2f}\")\n",
    "print(classification_report(y_test, y_pred_log, target_names=[\"Low Risk\", \"High Risk\"]))"
   ]
  },
  {
   "cell_type": "code",
   "execution_count": 28,
   "metadata": {},
   "outputs": [
    {
     "data": {
      "image/png": "[encoded data removed]",
      "text/plain": [
       "<Figure size 600x400 with 2 Axes>"
      ]
     },
     "metadata": {},
     "output_type": "display_data"
    }
   ],
   "source": [
    "# Confusion Matrix\n",
    "cm2 = confusion_matrix(y_test, y_pred_log)\n",
    "plt.figure(figsize=(6, 4))\n",
    "sns.heatmap(cm2, annot=True, fmt='d', cmap='Blues',\n",
    "            xticklabels=[\"Low Risk\", \"High Risk\"],\n",
    "            yticklabels=[\"Low Risk\", \"High Risk\"])\n",
    "plt.xlabel(\"Predicted\")\n",
    "plt.ylabel(\"Actual\")\n",
    "plt.title(\"Confusion Matrix - Logistic Regression\")\n",
    "plt.show()"
   ]
  }
 ],
 "metadata": {
  "colab": {
   "provenance": []
  },
  "kernelspec": {
   "display_name": "dev",
   "language": "python",
   "name": "python3"
  },
  "language_info": {
   "codemirror_mode": {
    "name": "ipython",
    "version": 3
   },
   "file_extension": ".py",
   "mimetype": "text/x-python",
   "name": "python",
   "nbconvert_exporter": "python",
   "pygments_lexer": "ipython3",
   "version": "3.10.8"
  }
 },
 "nbformat": 4,
 "nbformat_minor": 0
}
