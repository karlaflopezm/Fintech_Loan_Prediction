{
 "cells": [
  {
   "cell_type": "code",
   "execution_count": 40,
   "id": "334cb81c",
   "metadata": {
    "colab": {
     "base_uri": "https://localhost:8080/",
     "height": 353
    },
    "executionInfo": {
     "elapsed": 55260,
     "status": "ok",
     "timestamp": 1745103711100,
     "user": {
      "displayName": "Seyhr Waqas",
      "userId": "14453900050839945906"
     },
     "user_tz": 240
    },
    "id": "334cb81c",
    "outputId": "d85ceaeb-da8a-49ee-f97c-02d18f91f6b4"
   },
   "outputs": [
    {
     "name": "stdout",
     "output_type": "stream",
     "text": [
      "\r0% [Working]\r            \rHit:1 https://developer.download.nvidia.com/compute/cuda/repos/ubuntu2204/x86_64  InRelease\n",
      "Hit:2 http://security.ubuntu.com/ubuntu jammy-security InRelease\n",
      "Hit:3 https://cloud.r-project.org/bin/linux/ubuntu jammy-cran40/ InRelease\n",
      "Hit:4 https://r2u.stat.illinois.edu/ubuntu jammy InRelease\n",
      "Hit:5 http://archive.ubuntu.com/ubuntu jammy InRelease\n",
      "Hit:6 http://archive.ubuntu.com/ubuntu jammy-updates InRelease\n",
      "Hit:7 http://archive.ubuntu.com/ubuntu jammy-backports InRelease\n",
      "Hit:8 https://ppa.launchpadcontent.net/deadsnakes/ppa/ubuntu jammy InRelease\n",
      "Hit:9 https://ppa.launchpadcontent.net/graphics-drivers/ppa/ubuntu jammy InRelease\n",
      "Hit:10 https://ppa.launchpadcontent.net/ubuntugis/ppa/ubuntu jammy InRelease\n",
      "Reading package lists... Done\n",
      "W: Skipping acquire of configured file 'main/source/Sources' as repository 'https://r2u.stat.illinois.edu/ubuntu jammy InRelease' does not seem to provide it (sources.list entry misspelt?)\n",
      "File ‘postgresql-42.7.3.jar’ already there; not retrieving.\n",
      "\n",
      "Drive already mounted at /content/drive; to attempt to forcibly remount, call drive.mount(\"/content/drive\", force_remount=True).\n"
     ]
    },
    {
     "data": {
      "text/html": [
       "\n",
       "     <input type=\"file\" id=\"files-9162d18b-18cd-4161-98a3-37539f795f64\" name=\"files[]\" multiple disabled\n",
       "        style=\"border:none\" />\n",
       "     <output id=\"result-9162d18b-18cd-4161-98a3-37539f795f64\">\n",
       "      Upload widget is only available when the cell has been executed in the\n",
       "      current browser session. Please rerun this cell to enable.\n",
       "      </output>\n",
       "      <script>// Copyright 2017 Google LLC\n",
       "//\n",
       "// Licensed under the Apache License, Version 2.0 (the \"License\");\n",
       "// you may not use this file except in compliance with the License.\n",
       "// You may obtain a copy of the License at\n",
       "//\n",
       "//      http://www.apache.org/licenses/LICENSE-2.0\n",
       "//\n",
       "// Unless required by applicable law or agreed to in writing, software\n",
       "// distributed under the License is distributed on an \"AS IS\" BASIS,\n",
       "// WITHOUT WARRANTIES OR CONDITIONS OF ANY KIND, either express or implied.\n",
       "// See the License for the specific language governing permissions and\n",
       "// limitations under the License.\n",
       "\n",
       "/**\n",
       " * @fileoverview Helpers for google.colab Python module.\n",
       " */\n",
       "(function(scope) {\n",
       "function span(text, styleAttributes = {}) {\n",
       "  const element = document.createElement('span');\n",
       "  element.textContent = text;\n",
       "  for (const key of Object.keys(styleAttributes)) {\n",
       "    element.style[key] = styleAttributes[key];\n",
       "  }\n",
       "  return element;\n",
       "}\n",
       "\n",
       "// Max number of bytes which will be uploaded at a time.\n",
       "const MAX_PAYLOAD_SIZE = 100 * 1024;\n",
       "\n",
       "function _uploadFiles(inputId, outputId) {\n",
       "  const steps = uploadFilesStep(inputId, outputId);\n",
       "  const outputElement = document.getElementById(outputId);\n",
       "  // Cache steps on the outputElement to make it available for the next call\n",
       "  // to uploadFilesContinue from Python.\n",
       "  outputElement.steps = steps;\n",
       "\n",
       "  return _uploadFilesContinue(outputId);\n",
       "}\n",
       "\n",
       "// This is roughly an async generator (not supported in the browser yet),\n",
       "// where there are multiple asynchronous steps and the Python side is going\n",
       "// to poll for completion of each step.\n",
       "// This uses a Promise to block the python side on completion of each step,\n",
       "// then passes the result of the previous step as the input to the next step.\n",
       "function _uploadFilesContinue(outputId) {\n",
       "  const outputElement = document.getElementById(outputId);\n",
       "  const steps = outputElement.steps;\n",
       "\n",
       "  const next = steps.next(outputElement.lastPromiseValue);\n",
       "  return Promise.resolve(next.value.promise).then((value) => {\n",
       "    // Cache the last promise value to make it available to the next\n",
       "    // step of the generator.\n",
       "    outputElement.lastPromiseValue = value;\n",
       "    return next.value.response;\n",
       "  });\n",
       "}\n",
       "\n",
       "/**\n",
       " * Generator function which is called between each async step of the upload\n",
       " * process.\n",
       " * @param {string} inputId Element ID of the input file picker element.\n",
       " * @param {string} outputId Element ID of the output display.\n",
       " * @return {!Iterable<!Object>} Iterable of next steps.\n",
       " */\n",
       "function* uploadFilesStep(inputId, outputId) {\n",
       "  const inputElement = document.getElementById(inputId);\n",
       "  inputElement.disabled = false;\n",
       "\n",
       "  const outputElement = document.getElementById(outputId);\n",
       "  outputElement.innerHTML = '';\n",
       "\n",
       "  const pickedPromise = new Promise((resolve) => {\n",
       "    inputElement.addEventListener('change', (e) => {\n",
       "      resolve(e.target.files);\n",
       "    });\n",
       "  });\n",
       "\n",
       "  const cancel = document.createElement('button');\n",
       "  inputElement.parentElement.appendChild(cancel);\n",
       "  cancel.textContent = 'Cancel upload';\n",
       "  const cancelPromise = new Promise((resolve) => {\n",
       "    cancel.onclick = () => {\n",
       "      resolve(null);\n",
       "    };\n",
       "  });\n",
       "\n",
       "  // Wait for the user to pick the files.\n",
       "  const files = yield {\n",
       "    promise: Promise.race([pickedPromise, cancelPromise]),\n",
       "    response: {\n",
       "      action: 'starting',\n",
       "    }\n",
       "  };\n",
       "\n",
       "  cancel.remove();\n",
       "\n",
       "  // Disable the input element since further picks are not allowed.\n",
       "  inputElement.disabled = true;\n",
       "\n",
       "  if (!files) {\n",
       "    return {\n",
       "      response: {\n",
       "        action: 'complete',\n",
       "      }\n",
       "    };\n",
       "  }\n",
       "\n",
       "  for (const file of files) {\n",
       "    const li = document.createElement('li');\n",
       "    li.append(span(file.name, {fontWeight: 'bold'}));\n",
       "    li.append(span(\n",
       "        `(${file.type || 'n/a'}) - ${file.size} bytes, ` +\n",
       "        `last modified: ${\n",
       "            file.lastModifiedDate ? file.lastModifiedDate.toLocaleDateString() :\n",
       "                                    'n/a'} - `));\n",
       "    const percent = span('0% done');\n",
       "    li.appendChild(percent);\n",
       "\n",
       "    outputElement.appendChild(li);\n",
       "\n",
       "    const fileDataPromise = new Promise((resolve) => {\n",
       "      const reader = new FileReader();\n",
       "      reader.onload = (e) => {\n",
       "        resolve(e.target.result);\n",
       "      };\n",
       "      reader.readAsArrayBuffer(file);\n",
       "    });\n",
       "    // Wait for the data to be ready.\n",
       "    let fileData = yield {\n",
       "      promise: fileDataPromise,\n",
       "      response: {\n",
       "        action: 'continue',\n",
       "      }\n",
       "    };\n",
       "\n",
       "    // Use a chunked sending to avoid message size limits. See b/62115660.\n",
       "    let position = 0;\n",
       "    do {\n",
       "      const length = Math.min(fileData.byteLength - position, MAX_PAYLOAD_SIZE);\n",
       "      const chunk = new Uint8Array(fileData, position, length);\n",
       "      position += length;\n",
       "\n",
       "      const base64 = btoa(String.fromCharCode.apply(null, chunk));\n",
       "      yield {\n",
       "        response: {\n",
       "          action: 'append',\n",
       "          file: file.name,\n",
       "          data: base64,\n",
       "        },\n",
       "      };\n",
       "\n",
       "      let percentDone = fileData.byteLength === 0 ?\n",
       "          100 :\n",
       "          Math.round((position / fileData.byteLength) * 100);\n",
       "      percent.textContent = `${percentDone}% done`;\n",
       "\n",
       "    } while (position < fileData.byteLength);\n",
       "  }\n",
       "\n",
       "  // All done.\n",
       "  yield {\n",
       "    response: {\n",
       "      action: 'complete',\n",
       "    }\n",
       "  };\n",
       "}\n",
       "\n",
       "scope.google = scope.google || {};\n",
       "scope.google.colab = scope.google.colab || {};\n",
       "scope.google.colab._files = {\n",
       "  _uploadFiles,\n",
       "  _uploadFilesContinue,\n",
       "};\n",
       "})(self);\n",
       "</script> "
      ],
      "text/plain": [
       "<IPython.core.display.HTML object>"
      ]
     },
     "metadata": {},
     "output_type": "display_data"
    },
    {
     "name": "stdout",
     "output_type": "stream",
     "text": [
      "Saving db_config.json to db_config.json\n"
     ]
    }
   ],
   "source": [
    "import os\n",
    "# Find the latest version of spark 3.x  from http://www.apache.org/dist/spark/ and enter as the spark version\n",
    "# For example:\n",
    "# spark_version = 'spark-3.5.5'\n",
    "spark_version = 'spark-3.5.5'\n",
    "os.environ['SPARK_VERSION']=spark_version\n",
    "\n",
    "# Install Spark and Java\n",
    "!apt-get update\n",
    "!apt-get install openjdk-11-jdk-headless -qq > /dev/null\n",
    "!wget -nc https://jdbc.postgresql.org/download/postgresql-42.7.3.jar\n",
    "!wget -q http://www.apache.org/dist/spark/$SPARK_VERSION/$SPARK_VERSION-bin-hadoop3.tgz\n",
    "!tar xf $SPARK_VERSION-bin-hadoop3.tgz\n",
    "!pip install -q findspark\n",
    "\n",
    "# Set Environment Variables\n",
    "os.environ[\"JAVA_HOME\"] = \"/usr/lib/jvm/java-11-openjdk-amd64\"\n",
    "os.environ[\"SPARK_HOME\"] = f\"/content/{spark_version}-bin-hadoop3\"\n",
    "\n",
    "# Start a SparkSession\n",
    "import findspark\n",
    "import json\n",
    "\n",
    "# mount the google drive\n",
    "from google.colab import drive,files\n",
    "drive.mount('/content/drive')\n",
    "uploaded = files.upload()\n",
    "\n",
    "from pyspark.sql import SparkSession\n",
    "from pyspark.sql.functions import concat, lit, row_number\n",
    "from pyspark.sql.window import Window\n",
    "\n",
    "findspark.init()\n",
    "\n",
    "# Create Spark with PostgreSQL driver included\n",
    "spark = SparkSession.builder \\\n",
    "    .appName(\"ExportToAWSPostgres\") \\\n",
    "    .config(\"spark.jars\", \"/content/postgresql-42.7.3.jar\") \\\n",
    "    .config(\"spark.driver.extraClassPath\", \"/content/postgresql-42.7.3.jar\") \\\n",
    "    .getOrCreate()\n",
    "\n"
   ]
  },
  {
   "cell_type": "code",
   "execution_count": null,
   "id": "hrCVxpnYPYjH",
   "metadata": {
    "executionInfo": {
     "elapsed": 14,
     "status": "ok",
     "timestamp": 1745103717358,
     "user": {
      "displayName": "Seyhr Waqas",
      "userId": "14453900050839945906"
     },
     "user_tz": 240
    },
    "id": "hrCVxpnYPYjH"
   },
   "outputs": [],
   "source": [
    "# for priavacy reason we will not include the database connection details in the code\n",
    "# Instead, we will load them from a JSON file and use them to connect to the database\n",
    "# We will upload the json always when we run the code and then we did remove it from the colab when  we\n",
    "# finish the code. This is a good practice to avoid exposing sensitive information in the code.\n",
    "# Load config\n",
    "with open(\"db_config.json\", \"r\") as f:\n",
    "    db_config = json.load(f)\n"
   ]
  },
  {
   "cell_type": "code",
   "execution_count": 24,
   "id": "9cd55a0d",
   "metadata": {
    "colab": {
     "base_uri": "https://localhost:8080/"
    },
    "executionInfo": {
     "elapsed": 220,
     "status": "ok",
     "timestamp": 1745103465131,
     "user": {
      "displayName": "Seyhr Waqas",
      "userId": "14453900050839945906"
     },
     "user_tz": 240
    },
    "id": "9cd55a0d",
    "outputId": "c6e36521-791e-403a-9191-658d11757b7a"
   },
   "outputs": [
    {
     "name": "stdout",
     "output_type": "stream",
     "text": [
      "Connected!\n"
     ]
    }
   ],
   "source": [
    "#PostgreSQL database adapter for the Python programming language.\n",
    "import psycopg2\n",
    "\n",
    "# Connect using the config\n",
    "conn = psycopg2.connect(\n",
    "    host=db_config[\"host\"],\n",
    "    port=db_config[\"port\"],\n",
    "    database=db_config[\"database\"],\n",
    "    user=db_config[\"user\"],\n",
    "    password=db_config[\"password\"]\n",
    ")\n",
    "\n",
    "cursor = conn.cursor()\n",
    "print(\"Connected!\")\n"
   ]
  },
  {
   "cell_type": "code",
   "execution_count": 25,
   "id": "H4zjlqOIj24C",
   "metadata": {
    "colab": {
     "base_uri": "https://localhost:8080/"
    },
    "executionInfo": {
     "elapsed": 19243,
     "status": "ok",
     "timestamp": 1745103490949,
     "user": {
      "displayName": "Seyhr Waqas",
      "userId": "14453900050839945906"
     },
     "user_tz": 240
    },
    "id": "H4zjlqOIj24C",
    "outputId": "d203b9d8-2d7b-4789-bc24-0b771fc8e9cc"
   },
   "outputs": [
    {
     "name": "stdout",
     "output_type": "stream",
     "text": [
      "+---------+--------+-----------+-----------+-----------+--------------+--------+----------+---------------+---------+-----------------+--------------+-----------+-----+-----------------+----------+--------------+------------------+-------------------------+-------------+-----------------------+--------------------+-------------------------+-------------------------------+-----------------+-----------------------+-------------------------+-----------------------------+\n",
      "|member_id|all_util|avg_cur_bal|delinq_amnt|funded_amnt|home_ownership|int_rate|      term|tot_hi_cred_lim|total_acc|total_bal_ex_mort|total_bc_limit|loan_status|grade|merged_annual_inc|merged_dti|merged_purpose|emp_length_grouped|clean_verification_status|delinq_bucket|acc_now_delinq_bucketed|delinq_2yrs_bucketed|accounts_90d_past_due_24m|total_chargeoffs_within_12_mths|open_acc_bucketed|pct_tl_nvr_dlq_bucketed|percent_bc_gt_75_bucketed|pub_rec_bankruptcies_bucketed|\n",
      "+---------+--------+-----------+-----------+-----------+--------------+--------+----------+---------------+---------+-----------------+--------------+-----------+-----+-----------------+----------+--------------+------------------+-------------------------+-------------+-----------------------+--------------------+-------------------------+-------------------------------+-----------------+-----------------------+-------------------------+-----------------------------+\n",
      "|        1|    28.0|     1878.0|        0.0|       2500|          RENT|   13.56| 36 months|        60124.0|     34.0|          16901.0|       36500.0|    Current|    C|          55000.0|     18.24|  Debt-related|         10+ years|             Not Verified|      Unknown|       No Delinquencies|                   0|                        0|                              0|             6-10|                  100.0|                        0|                            1|\n",
      "|        2|    57.0|    24763.0|        0.0|      30000|      MORTGAGE|   18.94| 60 months|       372872.0|     44.0|          99468.0|       15000.0|    Current|    D|          90000.0|     26.52|  Debt-related|         10+ years|                 Verified|   61+ months|       No Delinquencies|                   0|                        0|                              0|            11-15|                90-99.9|                        0|                            1|\n",
      "|        3|    35.0|    18383.0|        0.0|       5000|      MORTGAGE|   17.97| 36 months|       136927.0|     13.0|          11749.0|       13800.0|    Current|    D|          59280.0|     10.51|  Debt-related|         4-6 years|                 Verified|      Unknown|       No Delinquencies|                   0|                        0|                              0|             6-10|                  100.0|                        0|                            0|\n",
      "|        4|    70.0|    30505.0|        0.0|       4000|      MORTGAGE|   18.94| 36 months|       385183.0|     13.0|          36151.0|        5000.0|    Current|    D|          92000.0|     16.74|  Debt-related|         10+ years|                 Verified|      Unknown|       No Delinquencies|                   0|                        0|                              0|             6-10|                  100.0|                75.1-100%|                            0|\n",
      "|        5|    54.0|     9667.0|        0.0|      30000|      MORTGAGE|   16.14| 60 months|       157548.0|     26.0|          29674.0|        9300.0|    Current|    C|          57250.0|     26.35|  Debt-related|         10+ years|             Not Verified|      Unknown|       No Delinquencies|                   0|                        0|                              0|            11-15|                90-99.9|                        0|                            0|\n",
      "|        6|    58.0|    40338.0|        0.0|       5550|      MORTGAGE|   15.02| 36 months|       831687.0|     44.0|         185378.0|       65900.0|    Current|    C|         152500.0|     37.94|  Debt-related|         10+ years|             Not Verified|      Unknown|       No Delinquencies|                   0|                        0|                              0|            16-20|                  100.0|                 50.1-75%|                            0|\n",
      "|        7|   100.0|      854.0|        0.0|       2000|          RENT|   17.97| 36 months|          854.0|      9.0|            854.0|           0.0|    Current|    D|          51000.0|       2.4|  Debt-related|         4-6 years|                 Verified|      Unknown|       No Delinquencies|                   0|                        0|                              0|              1-5|                  100.0|                  Unknown|                            0|\n",
      "|        8|    74.0|     5085.0|        0.0|       6000|          RENT|   13.56| 36 months|       117242.0|     37.0|          91535.0|       33100.0|    Current|    C|          65000.0|      30.1|  Debt-related|         10+ years|                 Verified|      Unknown|       No Delinquencies|                   0|                        0|                              0|            16-20|                  100.0|                75.1-100%|                            0|\n",
      "|        9|    73.0|     5235.0|        0.0|       5000|      MORTGAGE|   17.97| 36 months|        57426.0|     38.0|          41882.0|       21500.0|    Current|    D|          53580.0|     21.16|  Debt-related|         10+ years|                 Verified| 25-60 months|       No Delinquencies|                   0|                        0|                              0|             6-10|                    <80|                 50.1-75%|                            0|\n",
      "|       10|    48.0|     9197.0|        0.0|       6000|           OWN|   14.47| 36 months|       477390.0|     58.0|         105911.0|       98300.0|    Current|    C|         300000.0|     17.43|  Debt-related|         0-3 years|             Not Verified| 13-24 months|       No Delinquencies|                   1|                        0|                              0|              21+|                  100.0|                 25.1-50%|                            0|\n",
      "|       11|    89.0|    38025.0|        0.0|       5500|      MORTGAGE|   22.35| 36 months|       243452.0|     13.0|          18185.0|        4800.0|    Current|    D|          50000.0|     15.94|  Debt-related|         0-3 years|             Not Verified| 13-24 months|       No Delinquencies|                   1|                        1|                              0|             6-10|                80-89.9|                75.1-100%|                            0|\n",
      "|       12|    56.0|    17741.0|        0.0|      28000|      MORTGAGE|   11.31| 60 months|       259435.0|     23.0|          65636.0|      100400.0|    Current|    B|          70000.0|     22.01|  Debt-related|         0-3 years|             Not Verified|      Unknown|       No Delinquencies|                   0|                        0|                              0|             6-10|                  100.0|                 25.1-50%|                            0|\n",
      "|       13|    45.0|    12482.0|        0.0|      11200|      MORTGAGE|    8.19| 36 months|       345654.0|     27.0|          78795.0|       34900.0|    Current|    A|          65000.0|      23.6|  Debt-related|         10+ years|             Not Verified|      Unknown|       No Delinquencies|                   0|                        0|                              0|            16-20|                  100.0|                    1-25%|                            0|\n",
      "|       14|    72.0|     4324.0|        0.0|       6500|      MORTGAGE|   17.97| 36 months|       169160.0|     41.0|         116747.0|       12300.0|    Current|    D|         154000.0|     28.78|  Debt-related|         4-6 years|                 Verified|   0-6 months|       No Delinquencies|                   2|                        1|                              1|              21+|                90-99.9|                    1-25%|                            0|\n",
      "|       15|     1.0|     3191.0|        0.0|      22000|      MORTGAGE|   12.98| 60 months|        71932.0|     16.0|          22337.0|       27200.0|    Current|    B|          65000.0|     11.19|  Debt-related|         10+ years|                 Verified|      Unknown|       No Delinquencies|                   0|                        0|                              0|             6-10|                  100.0|                        0|                            0|\n",
      "|       16|    38.0|     2298.0|        0.0|       3500|      MORTGAGE|   16.14| 36 months|        42328.0|     27.0|          16085.0|        8000.0|    Current|    C|         104424.0|     10.77|  Debt-related|         10+ years|                 Verified| 25-60 months|       No Delinquencies|                   0|                        0|                              0|             6-10|                    <80|                 25.1-50%|                            0|\n",
      "|       17|    69.0|    19432.0|        0.0|       7000|      MORTGAGE|   12.98| 36 months|       214624.0|     21.0|          76709.0|        7200.0|    Current|    B|         102500.0|      15.2|  Home-related|         4-6 years|             Not Verified| 25-60 months|       No Delinquencies|                   0|                        0|                              0|             6-10|                80-89.9|                        0|                            0|\n",
      "|       18|    54.0|    19915.0|        0.0|      25000|      MORTGAGE|   16.91| 60 months|        92334.0|      8.0|           3044.0|        1000.0|    Current|    C|          64793.0|     18.91|  Debt-related|         10+ years|             Not Verified|      Unknown|       No Delinquencies|                   0|                        0|                              0|              1-5|                  100.0|                75.1-100%|                            0|\n",
      "|       19|    87.0|    33403.0|        0.0|      16000|      MORTGAGE|   20.89| 60 months|       444217.0|     37.0|         266754.0|       13500.0|    Current|    D|         120000.0|     27.57|  Debt-related|         4-6 years|             Not Verified|  7-12 months|       No Delinquencies|                   1|                        0|                              0|            11-15|                80-89.9|                75.1-100%|                            0|\n",
      "|       20|    66.0|    14600.0|        0.0|      13000|      MORTGAGE|   14.47| 60 months|       176598.0|     13.0|          50920.0|       26700.0|    Current|    C|          75000.0|     26.16|  Debt-related|         10+ years|             Not Verified|      Unknown|       No Delinquencies|                   0|                        0|                              0|             6-10|                  100.0|                 25.1-50%|                            0|\n",
      "+---------+--------+-----------+-----------+-----------+--------------+--------+----------+---------------+---------+-----------------+--------------+-----------+-----+-----------------+----------+--------------+------------------+-------------------------+-------------+-----------------------+--------------------+-------------------------+-------------------------------+-----------------+-----------------------+-------------------------+-----------------------------+\n",
      "only showing top 20 rows\n",
      "\n"
     ]
    }
   ],
   "source": [
    "# Define the file path\n",
    "file_path = '/content/drive/MyDrive/Project4-Loan_Analysis/data/df_subset.csv'\n",
    "\n",
    "# Load the CSV file into a Spark DataFrame\n",
    "df = spark.read.csv(file_path, header=True, inferSchema=True)\n",
    "\n",
    "# Show the data\n",
    "df.show()"
   ]
  },
  {
   "cell_type": "code",
   "execution_count": 26,
   "id": "yeYLbp-km9MG",
   "metadata": {
    "colab": {
     "base_uri": "https://localhost:8080/"
    },
    "executionInfo": {
     "elapsed": 15,
     "status": "ok",
     "timestamp": 1745103497703,
     "user": {
      "displayName": "Seyhr Waqas",
      "userId": "14453900050839945906"
     },
     "user_tz": 240
    },
    "id": "yeYLbp-km9MG",
    "outputId": "ee78349c-33e9-4df1-8642-15734f924109"
   },
   "outputs": [
    {
     "name": "stdout",
     "output_type": "stream",
     "text": [
      "root\n",
      " |-- member_id: integer (nullable = true)\n",
      " |-- all_util: double (nullable = true)\n",
      " |-- avg_cur_bal: double (nullable = true)\n",
      " |-- delinq_amnt: double (nullable = true)\n",
      " |-- funded_amnt: integer (nullable = true)\n",
      " |-- home_ownership: string (nullable = true)\n",
      " |-- int_rate: double (nullable = true)\n",
      " |-- term: string (nullable = true)\n",
      " |-- tot_hi_cred_lim: double (nullable = true)\n",
      " |-- total_acc: double (nullable = true)\n",
      " |-- total_bal_ex_mort: double (nullable = true)\n",
      " |-- total_bc_limit: double (nullable = true)\n",
      " |-- loan_status: string (nullable = true)\n",
      " |-- grade: string (nullable = true)\n",
      " |-- merged_annual_inc: double (nullable = true)\n",
      " |-- merged_dti: double (nullable = true)\n",
      " |-- merged_purpose: string (nullable = true)\n",
      " |-- emp_length_grouped: string (nullable = true)\n",
      " |-- clean_verification_status: string (nullable = true)\n",
      " |-- delinq_bucket: string (nullable = true)\n",
      " |-- acc_now_delinq_bucketed: string (nullable = true)\n",
      " |-- delinq_2yrs_bucketed: integer (nullable = true)\n",
      " |-- accounts_90d_past_due_24m: integer (nullable = true)\n",
      " |-- total_chargeoffs_within_12_mths: integer (nullable = true)\n",
      " |-- open_acc_bucketed: string (nullable = true)\n",
      " |-- pct_tl_nvr_dlq_bucketed: string (nullable = true)\n",
      " |-- percent_bc_gt_75_bucketed: string (nullable = true)\n",
      " |-- pub_rec_bankruptcies_bucketed: integer (nullable = true)\n",
      "\n"
     ]
    }
   ],
   "source": [
    "df.printSchema()\n"
   ]
  },
  {
   "cell_type": "code",
   "execution_count": 27,
   "id": "M6aPtIGxnhFf",
   "metadata": {
    "colab": {
     "base_uri": "https://localhost:8080/"
    },
    "executionInfo": {
     "elapsed": 1251,
     "status": "ok",
     "timestamp": 1745103504193,
     "user": {
      "displayName": "Seyhr Waqas",
      "userId": "14453900050839945906"
     },
     "user_tz": 240
    },
    "id": "M6aPtIGxnhFf",
    "outputId": "c2576baa-04f8-4636-e7a6-a52c701873d6"
   },
   "outputs": [
    {
     "name": "stdout",
     "output_type": "stream",
     "text": [
      "+---------+--------+-----------+-----------+-----------+--------------+--------+----------+---------------+---------+-----------------+--------------+-----------+-----+-----------------+----------+--------------+------------------+-------------------------+-------------+-----------------------+--------------------+-------------------------+-------------------------------+-----------------+-----------------------+-------------------------+-----------------------------+-------+\n",
      "|member_id|all_util|avg_cur_bal|delinq_amnt|funded_amnt|home_ownership|int_rate|      term|tot_hi_cred_lim|total_acc|total_bal_ex_mort|total_bc_limit|loan_status|grade|merged_annual_inc|merged_dti|merged_purpose|emp_length_grouped|clean_verification_status|delinq_bucket|acc_now_delinq_bucketed|delinq_2yrs_bucketed|accounts_90d_past_due_24m|total_chargeoffs_within_12_mths|open_acc_bucketed|pct_tl_nvr_dlq_bucketed|percent_bc_gt_75_bucketed|pub_rec_bankruptcies_bucketed|loan_id|\n",
      "+---------+--------+-----------+-----------+-----------+--------------+--------+----------+---------------+---------+-----------------+--------------+-----------+-----+-----------------+----------+--------------+------------------+-------------------------+-------------+-----------------------+--------------------+-------------------------+-------------------------------+-----------------+-----------------------+-------------------------+-----------------------------+-------+\n",
      "|        1|    28.0|     1878.0|        0.0|       2500|          RENT|   13.56| 36 months|        60124.0|     34.0|          16901.0|       36500.0|    Current|    C|          55000.0|     18.24|  Debt-related|         10+ years|             Not Verified|      Unknown|       No Delinquencies|                   0|                        0|                              0|             6-10|                  100.0|                        0|                            1|  loan1|\n",
      "|        2|    57.0|    24763.0|        0.0|      30000|      MORTGAGE|   18.94| 60 months|       372872.0|     44.0|          99468.0|       15000.0|    Current|    D|          90000.0|     26.52|  Debt-related|         10+ years|                 Verified|   61+ months|       No Delinquencies|                   0|                        0|                              0|            11-15|                90-99.9|                        0|                            1|  loan2|\n",
      "|        3|    35.0|    18383.0|        0.0|       5000|      MORTGAGE|   17.97| 36 months|       136927.0|     13.0|          11749.0|       13800.0|    Current|    D|          59280.0|     10.51|  Debt-related|         4-6 years|                 Verified|      Unknown|       No Delinquencies|                   0|                        0|                              0|             6-10|                  100.0|                        0|                            0|  loan3|\n",
      "|        4|    70.0|    30505.0|        0.0|       4000|      MORTGAGE|   18.94| 36 months|       385183.0|     13.0|          36151.0|        5000.0|    Current|    D|          92000.0|     16.74|  Debt-related|         10+ years|                 Verified|      Unknown|       No Delinquencies|                   0|                        0|                              0|             6-10|                  100.0|                75.1-100%|                            0|  loan4|\n",
      "|        5|    54.0|     9667.0|        0.0|      30000|      MORTGAGE|   16.14| 60 months|       157548.0|     26.0|          29674.0|        9300.0|    Current|    C|          57250.0|     26.35|  Debt-related|         10+ years|             Not Verified|      Unknown|       No Delinquencies|                   0|                        0|                              0|            11-15|                90-99.9|                        0|                            0|  loan5|\n",
      "|        6|    58.0|    40338.0|        0.0|       5550|      MORTGAGE|   15.02| 36 months|       831687.0|     44.0|         185378.0|       65900.0|    Current|    C|         152500.0|     37.94|  Debt-related|         10+ years|             Not Verified|      Unknown|       No Delinquencies|                   0|                        0|                              0|            16-20|                  100.0|                 50.1-75%|                            0|  loan6|\n",
      "|        7|   100.0|      854.0|        0.0|       2000|          RENT|   17.97| 36 months|          854.0|      9.0|            854.0|           0.0|    Current|    D|          51000.0|       2.4|  Debt-related|         4-6 years|                 Verified|      Unknown|       No Delinquencies|                   0|                        0|                              0|              1-5|                  100.0|                  Unknown|                            0|  loan7|\n",
      "|        8|    74.0|     5085.0|        0.0|       6000|          RENT|   13.56| 36 months|       117242.0|     37.0|          91535.0|       33100.0|    Current|    C|          65000.0|      30.1|  Debt-related|         10+ years|                 Verified|      Unknown|       No Delinquencies|                   0|                        0|                              0|            16-20|                  100.0|                75.1-100%|                            0|  loan8|\n",
      "|        9|    73.0|     5235.0|        0.0|       5000|      MORTGAGE|   17.97| 36 months|        57426.0|     38.0|          41882.0|       21500.0|    Current|    D|          53580.0|     21.16|  Debt-related|         10+ years|                 Verified| 25-60 months|       No Delinquencies|                   0|                        0|                              0|             6-10|                    <80|                 50.1-75%|                            0|  loan9|\n",
      "|       10|    48.0|     9197.0|        0.0|       6000|           OWN|   14.47| 36 months|       477390.0|     58.0|         105911.0|       98300.0|    Current|    C|         300000.0|     17.43|  Debt-related|         0-3 years|             Not Verified| 13-24 months|       No Delinquencies|                   1|                        0|                              0|              21+|                  100.0|                 25.1-50%|                            0| loan10|\n",
      "|       11|    89.0|    38025.0|        0.0|       5500|      MORTGAGE|   22.35| 36 months|       243452.0|     13.0|          18185.0|        4800.0|    Current|    D|          50000.0|     15.94|  Debt-related|         0-3 years|             Not Verified| 13-24 months|       No Delinquencies|                   1|                        1|                              0|             6-10|                80-89.9|                75.1-100%|                            0| loan11|\n",
      "|       12|    56.0|    17741.0|        0.0|      28000|      MORTGAGE|   11.31| 60 months|       259435.0|     23.0|          65636.0|      100400.0|    Current|    B|          70000.0|     22.01|  Debt-related|         0-3 years|             Not Verified|      Unknown|       No Delinquencies|                   0|                        0|                              0|             6-10|                  100.0|                 25.1-50%|                            0| loan12|\n",
      "|       13|    45.0|    12482.0|        0.0|      11200|      MORTGAGE|    8.19| 36 months|       345654.0|     27.0|          78795.0|       34900.0|    Current|    A|          65000.0|      23.6|  Debt-related|         10+ years|             Not Verified|      Unknown|       No Delinquencies|                   0|                        0|                              0|            16-20|                  100.0|                    1-25%|                            0| loan13|\n",
      "|       14|    72.0|     4324.0|        0.0|       6500|      MORTGAGE|   17.97| 36 months|       169160.0|     41.0|         116747.0|       12300.0|    Current|    D|         154000.0|     28.78|  Debt-related|         4-6 years|                 Verified|   0-6 months|       No Delinquencies|                   2|                        1|                              1|              21+|                90-99.9|                    1-25%|                            0| loan14|\n",
      "|       15|     1.0|     3191.0|        0.0|      22000|      MORTGAGE|   12.98| 60 months|        71932.0|     16.0|          22337.0|       27200.0|    Current|    B|          65000.0|     11.19|  Debt-related|         10+ years|                 Verified|      Unknown|       No Delinquencies|                   0|                        0|                              0|             6-10|                  100.0|                        0|                            0| loan15|\n",
      "|       16|    38.0|     2298.0|        0.0|       3500|      MORTGAGE|   16.14| 36 months|        42328.0|     27.0|          16085.0|        8000.0|    Current|    C|         104424.0|     10.77|  Debt-related|         10+ years|                 Verified| 25-60 months|       No Delinquencies|                   0|                        0|                              0|             6-10|                    <80|                 25.1-50%|                            0| loan16|\n",
      "|       17|    69.0|    19432.0|        0.0|       7000|      MORTGAGE|   12.98| 36 months|       214624.0|     21.0|          76709.0|        7200.0|    Current|    B|         102500.0|      15.2|  Home-related|         4-6 years|             Not Verified| 25-60 months|       No Delinquencies|                   0|                        0|                              0|             6-10|                80-89.9|                        0|                            0| loan17|\n",
      "|       18|    54.0|    19915.0|        0.0|      25000|      MORTGAGE|   16.91| 60 months|        92334.0|      8.0|           3044.0|        1000.0|    Current|    C|          64793.0|     18.91|  Debt-related|         10+ years|             Not Verified|      Unknown|       No Delinquencies|                   0|                        0|                              0|              1-5|                  100.0|                75.1-100%|                            0| loan18|\n",
      "|       19|    87.0|    33403.0|        0.0|      16000|      MORTGAGE|   20.89| 60 months|       444217.0|     37.0|         266754.0|       13500.0|    Current|    D|         120000.0|     27.57|  Debt-related|         4-6 years|             Not Verified|  7-12 months|       No Delinquencies|                   1|                        0|                              0|            11-15|                80-89.9|                75.1-100%|                            0| loan19|\n",
      "|       20|    66.0|    14600.0|        0.0|      13000|      MORTGAGE|   14.47| 60 months|       176598.0|     13.0|          50920.0|       26700.0|    Current|    C|          75000.0|     26.16|  Debt-related|         10+ years|             Not Verified|      Unknown|       No Delinquencies|                   0|                        0|                              0|             6-10|                  100.0|                 25.1-50%|                            0| loan20|\n",
      "+---------+--------+-----------+-----------+-----------+--------------+--------+----------+---------------+---------+-----------------+--------------+-----------+-----+-----------------+----------+--------------+------------------+-------------------------+-------------+-----------------------+--------------------+-------------------------+-------------------------------+-----------------+-----------------------+-------------------------+-----------------------------+-------+\n",
      "only showing top 20 rows\n",
      "\n"
     ]
    }
   ],
   "source": [
    "# Create a dummy window for row_number (no specific order needed)\n",
    "windowSpec = Window.orderBy(lit(1))\n",
    "\n",
    "# Add row number starting from 1\n",
    "df = df.withColumn(\"row_num\", row_number().over(windowSpec))\n",
    "\n",
    "# Create loan_id by concatenating 'loan' with the row number\n",
    "df = df.withColumn(\"loan_id\", concat(lit(\"loan\"), df[\"row_num\"].cast(\"string\")))\n",
    "\n",
    "# Drop the helper column if not needed\n",
    "df = df.drop(\"row_num\")\n",
    "\n",
    "# Show result\n",
    "df.show()\n"
   ]
  },
  {
   "cell_type": "code",
   "execution_count": null,
   "id": "pbLnSP1Brear",
   "metadata": {
    "colab": {
     "base_uri": "https://localhost:8080/"
    },
    "executionInfo": {
     "elapsed": 12,
     "status": "ok",
     "timestamp": 1745101105236,
     "user": {
      "displayName": "Seyhr Waqas",
      "userId": "14453900050839945906"
     },
     "user_tz": 240
    },
    "id": "pbLnSP1Brear",
    "outputId": "9accf23f-9b7d-4f5a-d77b-96f037afda19"
   },
   "outputs": [
    {
     "name": "stdout",
     "output_type": "stream",
     "text": [
      "root\n",
      " |-- member_id: integer (nullable = true)\n",
      " |-- all_util: double (nullable = true)\n",
      " |-- avg_cur_bal: double (nullable = true)\n",
      " |-- delinq_amnt: double (nullable = true)\n",
      " |-- funded_amnt: integer (nullable = true)\n",
      " |-- home_ownership: string (nullable = true)\n",
      " |-- int_rate: double (nullable = true)\n",
      " |-- term: string (nullable = true)\n",
      " |-- tot_hi_cred_lim: double (nullable = true)\n",
      " |-- total_acc: double (nullable = true)\n",
      " |-- total_bal_ex_mort: double (nullable = true)\n",
      " |-- total_bc_limit: double (nullable = true)\n",
      " |-- loan_status: string (nullable = true)\n",
      " |-- grade: string (nullable = true)\n",
      " |-- merged_annual_inc: double (nullable = true)\n",
      " |-- merged_dti: double (nullable = true)\n",
      " |-- merged_purpose: string (nullable = true)\n",
      " |-- emp_length_grouped: string (nullable = true)\n",
      " |-- clean_verification_status: string (nullable = true)\n",
      " |-- delinq_bucket: string (nullable = true)\n",
      " |-- acc_now_delinq_bucketed: string (nullable = true)\n",
      " |-- delinq_2yrs_bucketed: integer (nullable = true)\n",
      " |-- accounts_90d_past_due_24m: integer (nullable = true)\n",
      " |-- total_chargeoffs_within_12_mths: integer (nullable = true)\n",
      " |-- open_acc_bucketed: string (nullable = true)\n",
      " |-- pct_tl_nvr_dlq_bucketed: string (nullable = true)\n",
      " |-- percent_bc_gt_75_bucketed: string (nullable = true)\n",
      " |-- pub_rec_bankruptcies_bucketed: integer (nullable = true)\n",
      " |-- loan_id: string (nullable = false)\n",
      "\n"
     ]
    }
   ],
   "source": [
    "df.printSchema()"
   ]
  },
  {
   "cell_type": "code",
   "execution_count": 28,
   "id": "XMOYN_xXtUGc",
   "metadata": {
    "colab": {
     "base_uri": "https://localhost:8080/"
    },
    "executionInfo": {
     "elapsed": 1301,
     "status": "ok",
     "timestamp": 1745103515261,
     "user": {
      "displayName": "Seyhr Waqas",
      "userId": "14453900050839945906"
     },
     "user_tz": 240
    },
    "id": "XMOYN_xXtUGc",
    "outputId": "df4ed213-95c6-4fa8-8daa-05c61782d509"
   },
   "outputs": [
    {
     "name": "stdout",
     "output_type": "stream",
     "text": [
      "+-------+---------+-----------+----------+--------+-----+-----------+\n",
      "|loan_id|member_id|funded_amnt|      term|int_rate|grade|loan_status|\n",
      "+-------+---------+-----------+----------+--------+-----+-----------+\n",
      "|  loan1|        1|       2500| 36 months|   13.56|    C|    Current|\n",
      "|  loan2|        2|      30000| 60 months|   18.94|    D|    Current|\n",
      "|  loan3|        3|       5000| 36 months|   17.97|    D|    Current|\n",
      "|  loan4|        4|       4000| 36 months|   18.94|    D|    Current|\n",
      "|  loan5|        5|      30000| 60 months|   16.14|    C|    Current|\n",
      "|  loan6|        6|       5550| 36 months|   15.02|    C|    Current|\n",
      "|  loan7|        7|       2000| 36 months|   17.97|    D|    Current|\n",
      "|  loan8|        8|       6000| 36 months|   13.56|    C|    Current|\n",
      "|  loan9|        9|       5000| 36 months|   17.97|    D|    Current|\n",
      "| loan10|       10|       6000| 36 months|   14.47|    C|    Current|\n",
      "| loan11|       11|       5500| 36 months|   22.35|    D|    Current|\n",
      "| loan12|       12|      28000| 60 months|   11.31|    B|    Current|\n",
      "| loan13|       13|      11200| 36 months|    8.19|    A|    Current|\n",
      "| loan14|       14|       6500| 36 months|   17.97|    D|    Current|\n",
      "| loan15|       15|      22000| 60 months|   12.98|    B|    Current|\n",
      "| loan16|       16|       3500| 36 months|   16.14|    C|    Current|\n",
      "| loan17|       17|       7000| 36 months|   12.98|    B|    Current|\n",
      "| loan18|       18|      25000| 60 months|   16.91|    C|    Current|\n",
      "| loan19|       19|      16000| 60 months|   20.89|    D|    Current|\n",
      "| loan20|       20|      13000| 60 months|   14.47|    C|    Current|\n",
      "+-------+---------+-----------+----------+--------+-----+-----------+\n",
      "only showing top 20 rows\n",
      "\n"
     ]
    }
   ],
   "source": [
    "# Creating Dataframes\n",
    "loan_info = df.select(\"loan_id\", # Primary Key\n",
    "                      \"member_id\", # Foreign key\n",
    "                      \"funded_amnt\",\n",
    "                      \"term\",\n",
    "                      \"int_rate\",\n",
    "                      \"grade\",\n",
    "                      \"loan_status\")\n",
    "loan_info.show()\n"
   ]
  },
  {
   "cell_type": "code",
   "execution_count": 29,
   "id": "meL8xSVjtd0X",
   "metadata": {
    "colab": {
     "base_uri": "https://localhost:8080/"
    },
    "executionInfo": {
     "elapsed": 22593,
     "status": "ok",
     "timestamp": 1745103543516,
     "user": {
      "displayName": "Seyhr Waqas",
      "userId": "14453900050839945906"
     },
     "user_tz": 240
    },
    "id": "meL8xSVjtd0X",
    "outputId": "a42f4936-eada-48c9-8be3-cd8d41608a77"
   },
   "outputs": [
    {
     "name": "stdout",
     "output_type": "stream",
     "text": [
      "+---------+--------------+-----------------+----------+------------------+-------------------------+-----------------+\n",
      "|member_id|home_ownership|merged_annual_inc|merged_dti|emp_length_grouped|clean_verification_status|   merged_purpose|\n",
      "+---------+--------------+-----------------+----------+------------------+-------------------------+-----------------+\n",
      "|        1|          RENT|          55000.0|     18.24|         10+ years|             Not Verified|     Debt-related|\n",
      "|        3|      MORTGAGE|          59280.0|     10.51|         4-6 years|                 Verified|     Debt-related|\n",
      "|        5|      MORTGAGE|          57250.0|     26.35|         10+ years|             Not Verified|     Debt-related|\n",
      "|        6|      MORTGAGE|         152500.0|     37.94|         10+ years|             Not Verified|     Debt-related|\n",
      "|        9|      MORTGAGE|          53580.0|     21.16|         10+ years|                 Verified|     Debt-related|\n",
      "|       12|      MORTGAGE|          70000.0|     22.01|         0-3 years|             Not Verified|     Debt-related|\n",
      "|       13|      MORTGAGE|          65000.0|      23.6|         10+ years|             Not Verified|     Debt-related|\n",
      "|       15|      MORTGAGE|          65000.0|     11.19|         10+ years|                 Verified|     Debt-related|\n",
      "|       16|      MORTGAGE|         104424.0|     10.77|         10+ years|                 Verified|     Debt-related|\n",
      "|       17|      MORTGAGE|         102500.0|      15.2|         4-6 years|             Not Verified|     Home-related|\n",
      "|       19|      MORTGAGE|         120000.0|     27.57|         4-6 years|             Not Verified|     Debt-related|\n",
      "|       20|      MORTGAGE|          75000.0|     26.16|         10+ years|             Not Verified|     Debt-related|\n",
      "|       22|      MORTGAGE|          55000.0|     10.58|         10+ years|                 Verified|     Debt-related|\n",
      "|       26|      MORTGAGE|          55000.0|     34.95|           Unknown|                 Verified|     Debt-related|\n",
      "|       27|      MORTGAGE|          90000.0|     39.73|         0-3 years|                 Verified|            Other|\n",
      "|       28|          RENT|          68107.0|      0.52|         4-6 years|                 Verified|     Debt-related|\n",
      "|       31|      MORTGAGE|          40000.0|     19.23|         0-3 years|             Not Verified|     Debt-related|\n",
      "|       34|          RENT|          49700.0|     14.32|         0-3 years|                 Verified|Lifestyle-related|\n",
      "|       35|      MORTGAGE|          67590.0|     24.54|           Unknown|                 Verified|     Debt-related|\n",
      "|       37|           OWN|          19000.0|     35.88|         4-6 years|             Not Verified|     Debt-related|\n",
      "+---------+--------------+-----------------+----------+------------------+-------------------------+-----------------+\n",
      "only showing top 20 rows\n",
      "\n"
     ]
    }
   ],
   "source": [
    "borrower_info = df.select(\n",
    "    \"member_id\", # Primary key\n",
    "    \"home_ownership\",\n",
    "    \"merged_annual_inc\",\n",
    "    \"merged_dti\",\n",
    "    \"emp_length_grouped\",\n",
    "    \"clean_verification_status\",\n",
    "    \"merged_purpose\"\n",
    ").dropDuplicates([\"member_id\"])\n",
    "\n",
    "borrower_info.show()\n"
   ]
  },
  {
   "cell_type": "code",
   "execution_count": 30,
   "id": "RNCzN_uCtiSh",
   "metadata": {
    "colab": {
     "base_uri": "https://localhost:8080/"
    },
    "executionInfo": {
     "elapsed": 589,
     "status": "ok",
     "timestamp": 1745103554416,
     "user": {
      "displayName": "Seyhr Waqas",
      "userId": "14453900050839945906"
     },
     "user_tz": 240
    },
    "id": "RNCzN_uCtiSh",
    "outputId": "6a75ae0b-ba14-4d09-eda6-29c662b83411"
   },
   "outputs": [
    {
     "name": "stdout",
     "output_type": "stream",
     "text": [
      "+-------+--------+-----------+---------------+---------+-----------------+--------------+\n",
      "|loan_id|all_util|avg_cur_bal|tot_hi_cred_lim|total_acc|total_bal_ex_mort|total_bc_limit|\n",
      "+-------+--------+-----------+---------------+---------+-----------------+--------------+\n",
      "|  loan1|    28.0|     1878.0|        60124.0|     34.0|          16901.0|       36500.0|\n",
      "|  loan2|    57.0|    24763.0|       372872.0|     44.0|          99468.0|       15000.0|\n",
      "|  loan3|    35.0|    18383.0|       136927.0|     13.0|          11749.0|       13800.0|\n",
      "|  loan4|    70.0|    30505.0|       385183.0|     13.0|          36151.0|        5000.0|\n",
      "|  loan5|    54.0|     9667.0|       157548.0|     26.0|          29674.0|        9300.0|\n",
      "|  loan6|    58.0|    40338.0|       831687.0|     44.0|         185378.0|       65900.0|\n",
      "|  loan7|   100.0|      854.0|          854.0|      9.0|            854.0|           0.0|\n",
      "|  loan8|    74.0|     5085.0|       117242.0|     37.0|          91535.0|       33100.0|\n",
      "|  loan9|    73.0|     5235.0|        57426.0|     38.0|          41882.0|       21500.0|\n",
      "| loan10|    48.0|     9197.0|       477390.0|     58.0|         105911.0|       98300.0|\n",
      "| loan11|    89.0|    38025.0|       243452.0|     13.0|          18185.0|        4800.0|\n",
      "| loan12|    56.0|    17741.0|       259435.0|     23.0|          65636.0|      100400.0|\n",
      "| loan13|    45.0|    12482.0|       345654.0|     27.0|          78795.0|       34900.0|\n",
      "| loan14|    72.0|     4324.0|       169160.0|     41.0|         116747.0|       12300.0|\n",
      "| loan15|     1.0|     3191.0|        71932.0|     16.0|          22337.0|       27200.0|\n",
      "| loan16|    38.0|     2298.0|        42328.0|     27.0|          16085.0|        8000.0|\n",
      "| loan17|    69.0|    19432.0|       214624.0|     21.0|          76709.0|        7200.0|\n",
      "| loan18|    54.0|    19915.0|        92334.0|      8.0|           3044.0|        1000.0|\n",
      "| loan19|    87.0|    33403.0|       444217.0|     37.0|         266754.0|       13500.0|\n",
      "| loan20|    66.0|    14600.0|       176598.0|     13.0|          50920.0|       26700.0|\n",
      "+-------+--------+-----------+---------------+---------+-----------------+--------------+\n",
      "only showing top 20 rows\n",
      "\n"
     ]
    }
   ],
   "source": [
    "credit_history = df.select(\n",
    "    \"loan_id\", # Foreign key\n",
    "    \"all_util\",\n",
    "    \"avg_cur_bal\",\n",
    "    \"tot_hi_cred_lim\",\n",
    "    \"total_acc\",\n",
    "    \"total_bal_ex_mort\",\n",
    "    \"total_bc_limit\"\n",
    ")\n",
    "credit_history.show()"
   ]
  },
  {
   "cell_type": "code",
   "execution_count": 31,
   "id": "zmTRLM8KtmIN",
   "metadata": {
    "colab": {
     "base_uri": "https://localhost:8080/"
    },
    "executionInfo": {
     "elapsed": 886,
     "status": "ok",
     "timestamp": 1745103561946,
     "user": {
      "displayName": "Seyhr Waqas",
      "userId": "14453900050839945906"
     },
     "user_tz": 240
    },
    "id": "zmTRLM8KtmIN",
    "outputId": "5cc79ab3-3164-47a4-fdcc-94a91c44a05c"
   },
   "outputs": [
    {
     "name": "stdout",
     "output_type": "stream",
     "text": [
      "+-------+-----------+-------------+-----------------------+--------------------+-------------------------+-------------------------------+-----------------------------+-------------------------+-----------------------+-----------------+\n",
      "|loan_id|delinq_amnt|delinq_bucket|acc_now_delinq_bucketed|delinq_2yrs_bucketed|accounts_90d_past_due_24m|total_chargeoffs_within_12_mths|pub_rec_bankruptcies_bucketed|percent_bc_gt_75_bucketed|pct_tl_nvr_dlq_bucketed|open_acc_bucketed|\n",
      "+-------+-----------+-------------+-----------------------+--------------------+-------------------------+-------------------------------+-----------------------------+-------------------------+-----------------------+-----------------+\n",
      "|  loan1|        0.0|      Unknown|       No Delinquencies|                   0|                        0|                              0|                            1|                        0|                  100.0|             6-10|\n",
      "|  loan2|        0.0|   61+ months|       No Delinquencies|                   0|                        0|                              0|                            1|                        0|                90-99.9|            11-15|\n",
      "|  loan3|        0.0|      Unknown|       No Delinquencies|                   0|                        0|                              0|                            0|                        0|                  100.0|             6-10|\n",
      "|  loan4|        0.0|      Unknown|       No Delinquencies|                   0|                        0|                              0|                            0|                75.1-100%|                  100.0|             6-10|\n",
      "|  loan5|        0.0|      Unknown|       No Delinquencies|                   0|                        0|                              0|                            0|                        0|                90-99.9|            11-15|\n",
      "|  loan6|        0.0|      Unknown|       No Delinquencies|                   0|                        0|                              0|                            0|                 50.1-75%|                  100.0|            16-20|\n",
      "|  loan7|        0.0|      Unknown|       No Delinquencies|                   0|                        0|                              0|                            0|                  Unknown|                  100.0|              1-5|\n",
      "|  loan8|        0.0|      Unknown|       No Delinquencies|                   0|                        0|                              0|                            0|                75.1-100%|                  100.0|            16-20|\n",
      "|  loan9|        0.0| 25-60 months|       No Delinquencies|                   0|                        0|                              0|                            0|                 50.1-75%|                    <80|             6-10|\n",
      "| loan10|        0.0| 13-24 months|       No Delinquencies|                   1|                        0|                              0|                            0|                 25.1-50%|                  100.0|              21+|\n",
      "| loan11|        0.0| 13-24 months|       No Delinquencies|                   1|                        1|                              0|                            0|                75.1-100%|                80-89.9|             6-10|\n",
      "| loan12|        0.0|      Unknown|       No Delinquencies|                   0|                        0|                              0|                            0|                 25.1-50%|                  100.0|             6-10|\n",
      "| loan13|        0.0|      Unknown|       No Delinquencies|                   0|                        0|                              0|                            0|                    1-25%|                  100.0|            16-20|\n",
      "| loan14|        0.0|   0-6 months|       No Delinquencies|                   2|                        1|                              1|                            0|                    1-25%|                90-99.9|              21+|\n",
      "| loan15|        0.0|      Unknown|       No Delinquencies|                   0|                        0|                              0|                            0|                        0|                  100.0|             6-10|\n",
      "| loan16|        0.0| 25-60 months|       No Delinquencies|                   0|                        0|                              0|                            0|                 25.1-50%|                    <80|             6-10|\n",
      "| loan17|        0.0| 25-60 months|       No Delinquencies|                   0|                        0|                              0|                            0|                        0|                80-89.9|             6-10|\n",
      "| loan18|        0.0|      Unknown|       No Delinquencies|                   0|                        0|                              0|                            0|                75.1-100%|                  100.0|              1-5|\n",
      "| loan19|        0.0|  7-12 months|       No Delinquencies|                   1|                        0|                              0|                            0|                75.1-100%|                80-89.9|            11-15|\n",
      "| loan20|        0.0|      Unknown|       No Delinquencies|                   0|                        0|                              0|                            0|                 25.1-50%|                  100.0|             6-10|\n",
      "+-------+-----------+-------------+-----------------------+--------------------+-------------------------+-------------------------------+-----------------------------+-------------------------+-----------------------+-----------------+\n",
      "only showing top 20 rows\n",
      "\n"
     ]
    }
   ],
   "source": [
    "delinquency_info = df.select(\n",
    "    \"loan_id\",\n",
    "    \"delinq_amnt\",\n",
    "    \"delinq_bucket\",\n",
    "    \"acc_now_delinq_bucketed\",\n",
    "    \"delinq_2yrs_bucketed\",\n",
    "    \"accounts_90d_past_due_24m\",\n",
    "    \"total_chargeoffs_within_12_mths\",\n",
    "    \"pub_rec_bankruptcies_bucketed\",\n",
    "    \"percent_bc_gt_75_bucketed\",\n",
    "    \"pct_tl_nvr_dlq_bucketed\",\n",
    "    \"open_acc_bucketed\")\n",
    "delinquency_info.show()"
   ]
  },
  {
   "cell_type": "code",
   "execution_count": 32,
   "id": "gz02rUEhdkkx",
   "metadata": {
    "colab": {
     "base_uri": "https://localhost:8080/"
    },
    "executionInfo": {
     "elapsed": 10,
     "status": "ok",
     "timestamp": 1745103569645,
     "user": {
      "displayName": "Seyhr Waqas",
      "userId": "14453900050839945906"
     },
     "user_tz": 240
    },
    "id": "gz02rUEhdkkx",
    "outputId": "43dffba3-a850-4533-edfa-baf9701ceaf6"
   },
   "outputs": [
    {
     "name": "stdout",
     "output_type": "stream",
     "text": [
      "root\n",
      " |-- loan_id: string (nullable = false)\n",
      " |-- delinq_amnt: double (nullable = true)\n",
      " |-- delinq_bucket: string (nullable = true)\n",
      " |-- acc_now_delinq_bucketed: string (nullable = true)\n",
      " |-- delinq_2yrs_bucketed: integer (nullable = true)\n",
      " |-- accounts_90d_past_due_24m: integer (nullable = true)\n",
      " |-- total_chargeoffs_within_12_mths: integer (nullable = true)\n",
      " |-- pub_rec_bankruptcies_bucketed: integer (nullable = true)\n",
      " |-- percent_bc_gt_75_bucketed: string (nullable = true)\n",
      " |-- pct_tl_nvr_dlq_bucketed: string (nullable = true)\n",
      " |-- open_acc_bucketed: string (nullable = true)\n",
      "\n"
     ]
    }
   ],
   "source": [
    "delinquency_info.printSchema()"
   ]
  },
  {
   "cell_type": "code",
   "execution_count": null,
   "id": "_vbTh4DqwZKl",
   "metadata": {
    "colab": {
     "base_uri": "https://localhost:8080/"
    },
    "executionInfo": {
     "elapsed": 17525,
     "status": "ok",
     "timestamp": 1744865472514,
     "user": {
      "displayName": "Seyhr Waqas",
      "userId": "14453900050839945906"
     },
     "user_tz": 240
    },
    "id": "_vbTh4DqwZKl",
    "outputId": "4b568e6d-ca79-4b53-8a69-b1b3e9901e10"
   },
   "outputs": [
    {
     "data": {
      "text/plain": [
       "(2260668, 2260668)"
      ]
     },
     "execution_count": 11,
     "metadata": {},
     "output_type": "execute_result"
    }
   ],
   "source": [
    "loan_info.select(\"loan_id\").distinct().count(), loan_info.count()"
   ]
  },
  {
   "cell_type": "code",
   "execution_count": 33,
   "id": "_cKDHgFQWK7R",
   "metadata": {
    "executionInfo": {
     "elapsed": 7,
     "status": "ok",
     "timestamp": 1745103574925,
     "user": {
      "displayName": "Seyhr Waqas",
      "userId": "14453900050839945906"
     },
     "user_tz": 240
    },
    "id": "_cKDHgFQWK7R"
   },
   "outputs": [],
   "source": [
    "#JDBC Configuration for PySpark to Connect to AWS PostgreSQL (RDS)\n",
    "url = \"jdbc:postgresql://database-1.cd6smuu00g7x.us-east-2.rds.amazonaws.com:5432/postgres\"\n",
    "\n",
    "properties = {\n",
    "    \"user\": \"postgres\",\n",
    "    \"password\": \"postgres\",\n",
    "    \"driver\": \"org.postgresql.Driver\"\n",
    "}"
   ]
  },
  {
   "cell_type": "code",
   "execution_count": null,
   "id": "2NrrMKMvuSO4",
   "metadata": {
    "id": "2NrrMKMvuSO4"
   },
   "outputs": [],
   "source": [
    "# schema_sql = \"\"\"\n",
    "# CREATE TABLE IF NOT EXISTS borrower_info (\n",
    "#     member_id INT PRIMARY KEY,\n",
    "#     home_ownership VARCHAR(50),\n",
    "#     merged_annual_inc DOUBLE PRECISION,\n",
    "#     merged_dti DOUBLE PRECISION,\n",
    "#     emp_length_grouped VARCHAR(50),\n",
    "#     clean_verification_status VARCHAR(50),\n",
    "#     merged_purpose VARCHAR(100)\n",
    "# );\n",
    "\n",
    "# CREATE TABLE IF NOT EXISTS loan_info (\n",
    "#     loan_id VARCHAR(50) PRIMARY KEY,\n",
    "#     member_id INT REFERENCES borrower_info(member_id),\n",
    "#     funded_amnt INT,\n",
    "#     term VARCHAR(20),\n",
    "#     int_rate DOUBLE PRECISION,\n",
    "#     grade VARCHAR(5),\n",
    "#     loan_status VARCHAR(50)\n",
    "# );\n",
    "\n",
    "# CREATE TABLE IF NOT EXISTS credit_history (\n",
    "#     loan_id VARCHAR(50) PRIMARY KEY REFERENCES loan_info(loan_id),\n",
    "#     all_util DOUBLE PRECISION,\n",
    "#     avg_cur_bal DOUBLE PRECISION,\n",
    "#     tot_hi_cred_lim DOUBLE PRECISION,\n",
    "#     total_acc DOUBLE PRECISION,\n",
    "#     total_bal_ex_mort DOUBLE PRECISION,\n",
    "#     total_bc_limit DOUBLE PRECISION\n",
    "# );\n",
    "\n",
    "# CREATE TABLE IF NOT EXISTS delinquency_info (\n",
    "#     loan_id VARCHAR(50) PRIMARY KEY REFERENCES loan_info(loan_id),\n",
    "#     delinq_amnt DOUBLE PRECISION,\n",
    "#     delinq_bucket VARCHAR(50),\n",
    "#     acc_now_delinq_bucketed VARCHAR(50),\n",
    "#     delinq_2yrs_bucketed INT,\n",
    "#     accounts_90d_past_due_24m INT,\n",
    "#     total_chargeoffs_within_12_mths INT,\n",
    "#     pub_rec_bankruptcies_bucketed INT,\n",
    "#     pct_tl_nvr_dlq_bucketed,\n",
    "#     percent_bc_gt_75_bucketed,\n",
    "#     pub_rec_bankruptcies_bucketed\n",
    "# );\n",
    "# \"\"\"\n",
    "\n",
    "# cursor.execute(schema_sql)\n",
    "# conn.commit()\n",
    "# # closed at bottom\n",
    "# # closed at bottom\n"
   ]
  },
  {
   "cell_type": "code",
   "execution_count": 34,
   "id": "jeSiLXIEutKA",
   "metadata": {
    "colab": {
     "base_uri": "https://localhost:8080/"
    },
    "executionInfo": {
     "elapsed": 106,
     "status": "ok",
     "timestamp": 1745103581987,
     "user": {
      "displayName": "Seyhr Waqas",
      "userId": "14453900050839945906"
     },
     "user_tz": 240
    },
    "id": "jeSiLXIEutKA",
    "outputId": "5d1efb3a-290a-469e-c240-1e8e938b2432"
   },
   "outputs": [
    {
     "name": "stdout",
     "output_type": "stream",
     "text": [
      "loan_info\n",
      "borrower_info\n",
      "credit_history\n",
      "delinquency_info\n"
     ]
    }
   ],
   "source": [
    "cursor.execute(\"\"\"\n",
    "    SELECT table_name\n",
    "    FROM information_schema.tables\n",
    "    WHERE table_schema = 'public';\n",
    "\"\"\")\n",
    "\n",
    "tables = cursor.fetchall()\n",
    "for table in tables:\n",
    "    print(table[0])\n"
   ]
  },
  {
   "cell_type": "code",
   "execution_count": null,
   "id": "8qLAHuKg-JWK",
   "metadata": {
    "id": "8qLAHuKg-JWK"
   },
   "outputs": [],
   "source": [
    "# # Use append to avoid table-exists error\n",
    "# borrower_info.repartition(1).write.jdbc(\n",
    "#     url=url,\n",
    "#     table=\"borrower_info\",\n",
    "#     mode=\"append\",\n",
    "#     properties=properties\n",
    "# )\n"
   ]
  },
  {
   "cell_type": "code",
   "execution_count": null,
   "id": "qc58Aieo7eec",
   "metadata": {
    "id": "qc58Aieo7eec"
   },
   "outputs": [],
   "source": [
    "# loan_info.repartition(1).write.jdbc(\n",
    "#                     url=url,\n",
    "#                     table=\"loan_info\",\n",
    "#                     mode=\"append\",\n",
    "#                     properties=properties)"
   ]
  },
  {
   "cell_type": "code",
   "execution_count": null,
   "id": "nBInoHdj82jk",
   "metadata": {
    "id": "nBInoHdj82jk"
   },
   "outputs": [],
   "source": [
    "# credit_history.repartition(1).write.jdbc(\n",
    "#                     url=url,\n",
    "#                     table=\"credit_history\",\n",
    "#                     mode=\"append\",\n",
    "#                     properties=properties)"
   ]
  },
  {
   "cell_type": "code",
   "execution_count": null,
   "id": "cprqB89P-cH6",
   "metadata": {
    "id": "cprqB89P-cH6"
   },
   "outputs": [],
   "source": [
    "# delinquency_info.repartition(1).write.jdbc(\n",
    "#                     url=url,\n",
    "#                     table=\"delinquency_info\",\n",
    "#                     mode=\"append\",\n",
    "#                     properties=properties)"
   ]
  },
  {
   "cell_type": "code",
   "execution_count": 35,
   "id": "I4S44QbZ7PHs",
   "metadata": {
    "colab": {
     "base_uri": "https://localhost:8080/"
    },
    "executionInfo": {
     "elapsed": 561,
     "status": "ok",
     "timestamp": 1745103591213,
     "user": {
      "displayName": "Seyhr Waqas",
      "userId": "14453900050839945906"
     },
     "user_tz": 240
    },
    "id": "I4S44QbZ7PHs",
    "outputId": "727e460d-1af2-4281-c6eb-df34eff284b1"
   },
   "outputs": [
    {
     "name": "stdout",
     "output_type": "stream",
     "text": [
      "Rows in borrower_info: 2260668\n"
     ]
    }
   ],
   "source": [
    "cursor.execute(\"SELECT COUNT(*) FROM delinquency_info;\")\n",
    "count = cursor.fetchone()[0]\n",
    "print(f\"Rows in borrower_info: {count}\")"
   ]
  },
  {
   "cell_type": "code",
   "execution_count": 36,
   "id": "kTfC7YkfAbNB",
   "metadata": {
    "colab": {
     "base_uri": "https://localhost:8080/"
    },
    "executionInfo": {
     "elapsed": 111,
     "status": "ok",
     "timestamp": 1745103622803,
     "user": {
      "displayName": "Seyhr Waqas",
      "userId": "14453900050839945906"
     },
     "user_tz": 240
    },
    "id": "kTfC7YkfAbNB",
    "outputId": "5d63dfef-160e-4274-a0b1-a71aeaae2535"
   },
   "outputs": [
    {
     "name": "stdout",
     "output_type": "stream",
     "text": [
      "PostgreSQL connection closed.\n",
      "Spark session stopped.\n"
     ]
    }
   ],
   "source": [
    "# Close database connection\n",
    "try:\n",
    "    cursor.close()\n",
    "    conn.close()\n",
    "    print(\"PostgreSQL connection closed.\")\n",
    "except:\n",
    "    print(\"PostgreSQL connection was already closed or not established.\")\n",
    "\n",
    "# Stop Spark session\n",
    "try:\n",
    "    spark.stop()\n",
    "    print(\"Spark session stopped.\")\n",
    "except:\n",
    "    print(\"ℹSpark session was already stopped or not initialized.\")\n"
   ]
  },
  {
   "cell_type": "code",
   "execution_count": 42,
   "id": "7BytT_S6RVy2",
   "metadata": {
    "executionInfo": {
     "elapsed": 27,
     "status": "ok",
     "timestamp": 1745103728443,
     "user": {
      "displayName": "Seyhr Waqas",
      "userId": "14453900050839945906"
     },
     "user_tz": 240
    },
    "id": "7BytT_S6RVy2"
   },
   "outputs": [],
   "source": [
    "import os\n",
    "os.remove(\"db_config.json\")"
   ]
  }
 ],
 "metadata": {
  "colab": {
   "provenance": []
  },
  "kernelspec": {
   "display_name": "dev",
   "language": "python",
   "name": "python3"
  },
  "language_info": {
   "codemirror_mode": {
    "name": "ipython",
    "version": 3
   },
   "file_extension": ".py",
   "mimetype": "text/x-python",
   "name": "python",
   "nbconvert_exporter": "python",
   "pygments_lexer": "ipython3",
   "version": "3.10.8"
  }
 },
 "nbformat": 4,
 "nbformat_minor": 5
}
